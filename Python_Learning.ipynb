{
 "cells": [
  {
   "cell_type": "markdown",
   "id": "04559796-1d5d-44ce-ac8d-8b8e40e7eaa1",
   "metadata": {},
   "source": [
    "## 数据类型与结构\n",
    "Python3 中常见的数据类型有：\n",
    "- Number（数字）\n",
    "- String（字符串）\n",
    "- bool（布尔类型）\n",
    "- List（列表）\n",
    "- Tuple（元组）\n",
    "- Set（集合）\n",
    "- Dictionary（字典）"
   ]
  },
  {
   "cell_type": "markdown",
   "id": "17dbb4ed-1940-4a78-930d-8291672326d6",
   "metadata": {},
   "source": [
    "#### Number（数字）\n",
    "Python3 支持：\n",
    "- int（整数）\n",
    "- float（浮点数）\n",
    "- bool（布尔型）\n",
    "- complex（复数）"
   ]
  },
  {
   "cell_type": "code",
   "execution_count": 1,
   "id": "368fdf93-6679-483d-bd69-ed43c1eadacd",
   "metadata": {},
   "outputs": [
    {
     "name": "stdout",
     "output_type": "stream",
     "text": [
      "<class 'int'>\n",
      "<class 'float'>\n",
      "<class 'bool'>\n",
      "<class 'complex'>\n"
     ]
    }
   ],
   "source": [
    "a = 20\n",
    "b = 5.5\n",
    "c = True\n",
    "d = 4+3j\n",
    "\n",
    "print(type(a))\n",
    "print(type(b))\n",
    "print(type(c))\n",
    "print(type(d))"
   ]
  },
  {
   "cell_type": "code",
   "execution_count": 2,
   "id": "ece37140-8ac9-45bd-ba9d-e43c7b4447fd",
   "metadata": {},
   "outputs": [
    {
     "name": "stdout",
     "output_type": "stream",
     "text": [
      "9\n",
      "2.3\n",
      "21\n",
      "0.5\n",
      "0\n",
      "2\n",
      "32\n"
     ]
    }
   ],
   "source": [
    "# 数值运算\n",
    "print(5 + 4)       # 加法\n",
    "print(4.3 - 2)     # 减法\n",
    "print(3 * 7)       # 乘法\n",
    "print(2 / 4)       # 除法，得到一个浮点数\n",
    "print(2 // 4)      # 除法，得到一个整数\n",
    "print(17 % 3)      # 取余 \n",
    "print(2 ** 5)      # 乘方"
   ]
  },
  {
   "cell_type": "markdown",
   "id": "46539af1-fe97-41e4-bdd7-c4555daf5e42",
   "metadata": {},
   "source": [
    "#### String（字符串）"
   ]
  },
  {
   "cell_type": "code",
   "execution_count": 3,
   "id": "d53d5691-1f09-482c-ac61-c8aebfb2d1d8",
   "metadata": {},
   "outputs": [
    {
     "name": "stdout",
     "output_type": "stream",
     "text": [
      "字符串\n",
      "这是一个句子。\n",
      "这是一个段落，\n",
      "可以由多行组成,\n",
      "很有意思的字符串语法。\n",
      "123456789\n",
      "12345678\n",
      "1\n",
      "345\n",
      "3456789\n",
      "24\n",
      "123456789123456789\n",
      "123456789Hello\n",
      "------------------------------\n",
      "hello\n",
      "runoob\n",
      "hello\\nrunoob\n"
     ]
    }
   ],
   "source": [
    "word = '字符串'\n",
    "sentence = \"这是一个句子。\"\n",
    "paragraph = \"\"\"这是一个段落，\n",
    "可以由多行组成,\n",
    "很有意思的字符串语法。\"\"\"\n",
    "\n",
    "print(word)\n",
    "print(sentence)\n",
    "print(paragraph)\n",
    " \n",
    "str='123456789'\n",
    " \n",
    "print(str)                 # 输出字符串\n",
    "print(str[0:-1])           # 输出第一个到倒数第二个的所有字符\n",
    "print(str[0])              # 输出字符串第一个字符\n",
    "print(str[2:5])            # 输出从第三个开始到第六个的字符（不包含）\n",
    "print(str[2:])             # 输出从第三个开始后的所有字符\n",
    "print(str[1:5:2])          # 输出从第二个开始到第五个且每隔一个的字符（步长为2）\n",
    "print(str * 2)             # 输出字符串两次\n",
    "print(str + 'Hello')         # 连接字符串\n",
    " \n",
    "print('------------------------------')\n",
    " \n",
    "print('hello\\nrunoob')      # 使用反斜杠(\\)+n转义特殊字符\n",
    "print(r'hello\\nrunoob')     # 在字符串前面添加一个 r，表示原始字符串，不会发生转义\n",
    "\n",
    "del str"
   ]
  },
  {
   "cell_type": "markdown",
   "id": "fcf57aa1-f497-4683-94dd-59ef46f1280c",
   "metadata": {},
   "source": [
    "#### bool（布尔类型）\n",
    "布尔类型即 True 或 False。在 Python 中，True 和 False 都是关键字，表示布尔值。\n",
    "\n",
    "布尔类型可以用来控制程序的流程，比如判断某个条件是否成立，或者在某个条件满足时执行某段代码。\n",
    "\n",
    "布尔类型特点：\n",
    "\n",
    "- 布尔类型只有两个值：True 和 False。\n",
    "\n",
    "- 布尔类型可以和其他数据类型进行比较，比如数字、字符串等。在比较时，Python 会将 True 视为 1，False 视为 0。\n",
    "\n",
    "- 布尔类型可以和逻辑运算符一起使用，包括 and、or 和 not。这些运算符可以用来组合多个布尔表达式，生成一个新的布尔值。\n",
    "\n",
    "- 布尔类型也可以被转换成其他数据类型，比如整数、浮点数和字符串。在转换时，True 会被转换成 1，False 会被转换成 0。"
   ]
  },
  {
   "cell_type": "code",
   "execution_count": 4,
   "id": "2663a7f2-f610-4c0d-b744-7733e3db9255",
   "metadata": {},
   "outputs": [
    {
     "name": "stdout",
     "output_type": "stream",
     "text": [
      "True\n",
      "False\n",
      "False\n",
      "True\n",
      "False\n",
      "1\n",
      "0.0\n",
      "True\n"
     ]
    }
   ],
   "source": [
    "a = True\n",
    "b = False\n",
    "\n",
    "# 比较运算符\n",
    "print(2 < 3)   # True\n",
    "print(2 == 3)  # False\n",
    "\n",
    "# 逻辑运算符\n",
    "print(a and b)  # False\n",
    "print(a or b)   # True\n",
    "print(not a)    # False\n",
    "\n",
    "# 类型转换\n",
    "print(int(a))   # 1\n",
    "print(float(b)) # 0.0\n",
    "print(str(a))   # \"True\""
   ]
  },
  {
   "cell_type": "markdown",
   "id": "185c5b11-0ff4-4f97-a1d0-1770d267eef1",
   "metadata": {},
   "source": [
    "#### List（列表）\n",
    "List（列表） 是 Python 中使用最频繁的数据类型。\n",
    "\n",
    "列表可以完成大多数集合类的数据结构实现。列表中元素的类型可以不相同，它支持数字，字符串甚至可以包含列表（所谓嵌套）。\n",
    "\n",
    "列表是写在方括号 `[]` 之间、用逗号分隔开的元素列表。\n",
    "\n",
    "和字符串一样，列表同样可以被索引和截取，列表被截取后返回一个包含所需元素的新列表。\n",
    "\n",
    "与Python字符串不一样的是，列表中的元素是可以改变的。\n",
    "\n",
    "列表截取的语法格式如下：\n",
    "\n",
    "**`变量[头下标:尾下标]`**\n",
    "\n",
    "索引值以 `0` 为开始值，`-1` 为从末尾的开始位置。\n",
    "\n",
    "加号 `+` 是列表连接运算符，星号 `*` 是重复操作。"
   ]
  },
  {
   "cell_type": "code",
   "execution_count": 5,
   "id": "6220e694-7ac1-40d3-848e-7636674d62f3",
   "metadata": {},
   "outputs": [
    {
     "name": "stdout",
     "output_type": "stream",
     "text": [
      "['abcd', 786, 2.23, 'runoob', 70.2]\n",
      "abcd\n",
      "[786, 2.23]\n",
      "[2.23, 'runoob', 70.2]\n",
      "[123, 'runoob', 123, 'runoob']\n",
      "['abcd', 786, 2.23, 'runoob', 70.2, 123, 'runoob']\n"
     ]
    }
   ],
   "source": [
    "list = [ 'abcd', 786 , 2.23, 'runoob', 70.2 ]  # 定义一个列表\n",
    "tinylist = [123, 'runoob']\n",
    "\n",
    "print (list)            # 打印整个列表\n",
    "print (list[0])         # 打印列表的第一个元素\n",
    "print (list[1:3])       # 打印列表第二到第三个元素（不包含第三个元素）\n",
    "print (list[2:])        # 打印列表从第三个元素开始到末尾\n",
    "print (tinylist * 2)    # 打印tinylist列表两次\n",
    "print (list + tinylist) # 打印两个列表拼接在一起的结果"
   ]
  },
  {
   "cell_type": "code",
   "execution_count": 6,
   "id": "627b2fc7-2f1a-4376-b79a-921ce70f4604",
   "metadata": {},
   "outputs": [
    {
     "name": "stdout",
     "output_type": "stream",
     "text": [
      "[9, 2, 13, 14, 15, 6]\n",
      "[9, 2, 6]\n"
     ]
    }
   ],
   "source": [
    "# 列表中的元素是可以改变的\n",
    "a = [1, 2, 3, 4, 5, 6]\n",
    "a[0] = 9\n",
    "a[2:5] = [13, 14, 15]\n",
    "print(a)\n",
    "\n",
    "a[2:5] = []   # 将对应的元素值设置为 []\n",
    "print(a)"
   ]
  },
  {
   "cell_type": "markdown",
   "id": "39d71e89-72ab-42c3-a9c6-50bb1c439894",
   "metadata": {},
   "source": [
    "#### Tuple（元组）\n",
    "元组（tuple）与列表类似，不同之处在于元组的元素不能修改。\n",
    "\n",
    "元组写在小括号 `()` 里，元素之间用逗号隔开。\n",
    "\n",
    "元组中的元素类型也可以不相同。\n",
    "\n",
    "可以把字符串看作一种特殊的元组。\n",
    "\n",
    "虽然tuple的元素不可改变，但它可以包含可变的对象，比如list列表。"
   ]
  },
  {
   "cell_type": "code",
   "execution_count": 7,
   "id": "af3f4226-db2f-4bbb-9dbb-0cef8273921d",
   "metadata": {},
   "outputs": [
    {
     "name": "stdout",
     "output_type": "stream",
     "text": [
      "('abcd', 786, 2.23, 'runoob', 70.2)\n",
      "abcd\n",
      "(786, 2.23)\n",
      "(2.23, 'runoob', 70.2)\n",
      "(123, 'runoob', 123, 'runoob')\n",
      "('abcd', 786, 2.23, 'runoob', 70.2, 123, 'runoob')\n"
     ]
    }
   ],
   "source": [
    "tuple = ( 'abcd', 786 , 2.23, 'runoob', 70.2  )\n",
    "tinytuple = (123, 'runoob')\n",
    "\n",
    "print (tuple)             # 输出完整元组\n",
    "print (tuple[0])          # 输出元组的第一个元素\n",
    "print (tuple[1:3])        # 输出从第二个元素开始到第三个元素\n",
    "print (tuple[2:])         # 输出从第三个元素开始的所有元素\n",
    "print (tinytuple * 2)     # 输出两次元组\n",
    "print (tuple + tinytuple) # 连接元组"
   ]
  },
  {
   "cell_type": "markdown",
   "id": "3e1d0698-590b-42cc-aec1-cabaf26670ea",
   "metadata": {},
   "source": [
    "构造包含 0 个或 1 个元素的元组比较特殊，所以有一些额外的语法规则。\n",
    "\n",
    "如果你想创建只有一个元素的元组，需要注意在元素后面添加一个逗号，以区分它是一个元组而不是一个普通的值，这是因为在没有逗号的情况下，Python会将括号解释为数学运算中的括号，而不是元组的表示。如果不添加逗号，它将被解释为一个普通的值而不是元组："
   ]
  },
  {
   "cell_type": "code",
   "execution_count": 8,
   "id": "70dd9f08-5717-4d3e-a120-ebf29ee0ace0",
   "metadata": {},
   "outputs": [
    {
     "name": "stdout",
     "output_type": "stream",
     "text": [
      "() <class 'tuple'>\n",
      "(20,) <class 'tuple'>\n",
      "42 <class 'int'>\n"
     ]
    }
   ],
   "source": [
    "tup1 = ()           # 空元组\n",
    "tup2 = (20,)        # 一个元素，需要在元素后添加逗号\n",
    "not_a_tuple = (42)  # not_a_tuple 将是整数类型而不是元组类型\n",
    "\n",
    "print(tup1, type(tup1))\n",
    "print(tup2, type(tup2))\n",
    "print(not_a_tuple, type(not_a_tuple))"
   ]
  },
  {
   "cell_type": "markdown",
   "id": "de335f10-1483-4f84-8c9c-c19dad1f5768",
   "metadata": {},
   "source": [
    "#### Set（集合）\n",
    "Python 中的集合（Set）是一种无序、可变的数据类型，用于存储唯一的元素。\n",
    "\n",
    "集合中的元素不会重复，并且可以进行交集、并集、差集等常见的集合操作。\n",
    "\n",
    "在 Python 中，集合使用大括号 `{}` 表示，元素之间用逗号 `,` 分隔。\n",
    "\n",
    "另外，也可以使用 `set()` 函数创建集合。\n",
    "\n",
    "注意：创建一个空集合必须用 `set()` 而不是 `{ }`，因为 `{ }` 是用来创建一个空字典。\n",
    "\n",
    "创建格式：\n",
    "\n",
    "**`parame = {value01,value02,...} 或 set(value)`**"
   ]
  },
  {
   "cell_type": "code",
   "execution_count": 9,
   "id": "74a914b8-8596-450b-835d-cedadfc0f18e",
   "metadata": {},
   "outputs": [
    {
     "name": "stdout",
     "output_type": "stream",
     "text": [
      "{'Facebook', 'Zhihu', 'Baidu', 'Runoob', 'Google', 'Taobao'}\n",
      "Runoob 在集合中\n",
      "{'a', 'd', 'b', 'c', 'r'}\n",
      "{'b', 'd', 'r'}\n",
      "{'z', 'a', 'd', 'b', 'c', 'm', 'l', 'r'}\n",
      "{'a', 'c'}\n",
      "{'z', 'b', 'm', 'l', 'd', 'r'}\n"
     ]
    }
   ],
   "source": [
    "sites = {'Google', 'Taobao', 'Runoob', 'Facebook', 'Zhihu', 'Baidu'}\n",
    "\n",
    "print(sites)   # 输出集合，重复的元素被自动去掉\n",
    "\n",
    "# 成员测试\n",
    "if 'Runoob' in sites :\n",
    "    print('Runoob 在集合中')\n",
    "else :\n",
    "    print('Runoob 不在集合中')\n",
    "\n",
    "\n",
    "# set可以进行集合运算\n",
    "a = set('abracadabra')\n",
    "b = set('alacazam')\n",
    "\n",
    "print(a)\n",
    "\n",
    "print(a - b)     # a 和 b 的差集\n",
    "\n",
    "print(a | b)     # a 和 b 的并集\n",
    "\n",
    "print(a & b)     # a 和 b 的交集\n",
    "\n",
    "print(a ^ b)     # a 和 b 中不同时存在的元素"
   ]
  },
  {
   "cell_type": "markdown",
   "id": "f72a7376-56b2-4616-8155-6b7b5a3bac88",
   "metadata": {},
   "source": [
    "#### Dictionary（字典）\n",
    "字典（dictionary）是Python中另一个非常有用的内置数据类型。\n",
    "\n",
    "列表是有序的对象集合，字典是无序的对象集合。两者之间的区别在于：字典当中的元素是通过键来存取的，而不是通过偏移存取。\n",
    "\n",
    "字典是一种映射类型，字典用 `{ }` 标识，它是一个无序的 **`键(key) : 值(value)`** 的集合。\n",
    "\n",
    "键(key)必须使用不可变类型。\n",
    "\n",
    "在同一个字典中，键(key)必须是唯一的。"
   ]
  },
  {
   "cell_type": "code",
   "execution_count": 10,
   "id": "3a5f1d95-4d32-4d12-96df-2fc980d50a29",
   "metadata": {},
   "outputs": [
    {
     "name": "stdout",
     "output_type": "stream",
     "text": [
      "1 - 菜鸟教程\n",
      "2 - 菜鸟工具\n",
      "{'name': 'runoob', 'code': 1, 'site': 'www.runoob.com'}\n",
      "dict_keys(['name', 'code', 'site'])\n",
      "dict_values(['runoob', 1, 'www.runoob.com'])\n"
     ]
    }
   ],
   "source": [
    "dict = {}\n",
    "dict['one'] = \"1 - 菜鸟教程\"\n",
    "dict[2]     = \"2 - 菜鸟工具\"\n",
    "\n",
    "tinydict = {'name': 'runoob','code':1, 'site': 'www.runoob.com'}\n",
    "\n",
    "\n",
    "print (dict['one'])       # 输出键为 'one' 的值\n",
    "print (dict[2])           # 输出键为 2 的值\n",
    "print (tinydict)          # 输出完整的字典\n",
    "print (tinydict.keys())   # 输出所有键\n",
    "print (tinydict.values()) # 输出所有值\n",
    "\n",
    "del dict"
   ]
  },
  {
   "cell_type": "markdown",
   "id": "4b7d473c-6a94-4e6f-b6e7-184fcdea38c6",
   "metadata": {},
   "source": [
    "构造函数 dict() 可以直接从键值对序列中构建字典如下："
   ]
  },
  {
   "cell_type": "code",
   "execution_count": 11,
   "id": "fa2cc00a-3345-4fd9-b70a-a80f1fdbe69a",
   "metadata": {},
   "outputs": [
    {
     "data": {
      "text/plain": [
       "{'Runoob': 1, 'Google': 2, 'Taobao': 3}"
      ]
     },
     "execution_count": 11,
     "metadata": {},
     "output_type": "execute_result"
    }
   ],
   "source": [
    "dict([('Runoob', 1), ('Google', 2), ('Taobao', 3)])"
   ]
  },
  {
   "cell_type": "code",
   "execution_count": 12,
   "id": "8d9d0cf1-01e1-4681-bb79-f9695505ee48",
   "metadata": {},
   "outputs": [
    {
     "data": {
      "text/plain": [
       "{2: 4, 4: 16, 6: 36}"
      ]
     },
     "execution_count": 12,
     "metadata": {},
     "output_type": "execute_result"
    }
   ],
   "source": [
    "{x: x**2 for x in (2, 4, 6)}  # 使用的是字典推导式"
   ]
  },
  {
   "cell_type": "code",
   "execution_count": 13,
   "id": "5b2951d6-5f55-4d5e-8fe1-95026b9a7c45",
   "metadata": {},
   "outputs": [
    {
     "data": {
      "text/plain": [
       "{'Runoob': 1, 'Google': 2, 'Taobao': 3}"
      ]
     },
     "execution_count": 13,
     "metadata": {},
     "output_type": "execute_result"
    }
   ],
   "source": [
    "dict(Runoob=1, Google=2, Taobao=3)"
   ]
  },
  {
   "cell_type": "markdown",
   "id": "6b8aef5f-a43f-4753-9d78-155f738c224e",
   "metadata": {},
   "source": [
    "注意：创建一个空集合必须用 `set()` 而不是 `{}`，因为 `{}` 是用来创建一个空字典。"
   ]
  },
  {
   "cell_type": "code",
   "execution_count": 14,
   "id": "e725ff9e-b9aa-493e-9e63-11e3f6f3ba52",
   "metadata": {},
   "outputs": [
    {
     "name": "stdout",
     "output_type": "stream",
     "text": [
      "{} <class 'dict'>\n"
     ]
    }
   ],
   "source": [
    "dict_none = {}\n",
    "print(dict_none, type(dict_none))"
   ]
  },
  {
   "cell_type": "markdown",
   "id": "eb2c785f-2104-4d5e-b1d4-4f65b98e395a",
   "metadata": {},
   "source": [
    "#### bytes 类型\n",
    "在 Python3 中，bytes 类型表示的是不可变的二进制序列（byte sequence）。\n",
    "\n",
    "与字符串类型不同的是，bytes 类型中的元素是整数值（0 到 255 之间的整数），而不是 Unicode 字符。\n",
    "\n",
    "bytes 类型通常用于处理二进制数据，比如图像文件、音频文件、视频文件等等。在网络编程中，也经常使用 bytes 类型来传输二进制数据。\n",
    "\n",
    "创建 bytes 对象的方式有多种，最常见的方式是使用 b 前缀：\n",
    "\n",
    "此外，也可以使用 bytes() 函数将其他类型的对象转换为 bytes 类型。bytes() 函数的第一个参数是要转换的对象，第二个参数是编码方式，如果省略第二个参数，则默认使用 UTF-8 编码："
   ]
  },
  {
   "cell_type": "code",
   "execution_count": 15,
   "id": "386ea58f-4423-4fab-9420-7bea5151f552",
   "metadata": {},
   "outputs": [
    {
     "name": "stdout",
     "output_type": "stream",
     "text": [
      "b'hello'\n",
      "b'hello'\n",
      "b'el'\n",
      "b'helloworld'\n",
      "The first element is 'h'\n"
     ]
    }
   ],
   "source": [
    "x = bytes(\"hello\", encoding=\"utf-8\")\n",
    "print(x)\n",
    "\n",
    "x = b\"hello\"\n",
    "y = x[1:3]  # 切片操作，得到 b\"el\"\n",
    "z = x + b\"world\"  # 拼接操作，得到 b\"helloworld\"\n",
    "print(x)\n",
    "print(y)\n",
    "print(z)\n",
    "\n",
    "# 需要注意的是，bytes 类型中的元素是整数值，因此在进行比较操作时需要使用相应的整数值。\n",
    "x = b\"hello\"\n",
    "if x[0] == ord(\"h\"):  # ord() 函数用于将字符转换为相应的整数值\n",
    "    print(\"The first element is 'h'\")"
   ]
  },
  {
   "cell_type": "markdown",
   "id": "e3b1d54d-3f79-4786-a666-bc8aa9daf2e4",
   "metadata": {},
   "source": [
    "#### 数据类型转换\n",
    "数据类型之间的转换，一般情况下只需要将数据类型作为函数名即可。\n",
    "\n",
    "Python 数据类型转换可以分为两种：\n",
    "\n",
    "- 隐式类型转换 - 自动完成\n",
    "- 显式类型转换 - 需要使用类型函数来转换"
   ]
  },
  {
   "cell_type": "markdown",
   "id": "467dd38a-7ba1-4f8d-b07d-a5a04a1a29ce",
   "metadata": {},
   "source": [
    "#### 隐式类型转换\n",
    "在隐式类型转换中，Python 会自动将一种数据类型转换为另一种数据类型，不需要我们去干预。"
   ]
  },
  {
   "cell_type": "code",
   "execution_count": 16,
   "id": "494e338c-fc8d-4616-b8f8-c5c8a3ebe090",
   "metadata": {},
   "outputs": [
    {
     "name": "stdout",
     "output_type": "stream",
     "text": [
      "num_int 数据类型为: <class 'int'>\n",
      "num_flo 数据类型为: <class 'float'>\n",
      "num_new 值为: 124.23\n",
      "num_new 数据类型为: <class 'float'>\n"
     ]
    }
   ],
   "source": [
    "num_int = 123\n",
    "num_flo = 1.23\n",
    "\n",
    "num_new = num_int + num_flo\n",
    "\n",
    "print(\"num_int 数据类型为:\",type(num_int))\n",
    "print(\"num_flo 数据类型为:\",type(num_flo))\n",
    "\n",
    "# 对两种不同类型的数据进行运算，较低数据类型（整数）就会转换为较高数据类型（浮点数）以避免数据丢失\n",
    "print(\"num_new 值为:\",num_new)\n",
    "print(\"num_new 数据类型为:\",type(num_new))"
   ]
  },
  {
   "cell_type": "code",
   "execution_count": 17,
   "id": "dfe5be3f-2dff-4a43-b471-a05e0fc3358b",
   "metadata": {},
   "outputs": [
    {
     "name": "stdout",
     "output_type": "stream",
     "text": [
      "num_int 数据类型为: <class 'int'>\n",
      "num_str 数据类型为: <class 'str'>\n"
     ]
    },
    {
     "ename": "TypeError",
     "evalue": "unsupported operand type(s) for +: 'int' and 'str'",
     "output_type": "error",
     "traceback": [
      "\u001b[0;31m---------------------------------------------------------------------------\u001b[0m",
      "\u001b[0;31mTypeError\u001b[0m                                 Traceback (most recent call last)",
      "Input \u001b[0;32mIn [17]\u001b[0m, in \u001b[0;36m<cell line: 8>\u001b[0;34m()\u001b[0m\n\u001b[1;32m      5\u001b[0m \u001b[38;5;28mprint\u001b[39m(\u001b[38;5;124m\"\u001b[39m\u001b[38;5;124mnum_str 数据类型为:\u001b[39m\u001b[38;5;124m\"\u001b[39m,\u001b[38;5;28mtype\u001b[39m(num_str))\n\u001b[1;32m      7\u001b[0m \u001b[38;5;66;03m# 整型和字符串类型运算结果会报错，输出 TypeError\u001b[39;00m\n\u001b[0;32m----> 8\u001b[0m \u001b[38;5;28mprint\u001b[39m(\u001b[43mnum_int\u001b[49m\u001b[38;5;241;43m+\u001b[39;49m\u001b[43mnum_str\u001b[49m)\n",
      "\u001b[0;31mTypeError\u001b[0m: unsupported operand type(s) for +: 'int' and 'str'"
     ]
    }
   ],
   "source": [
    "num_int = 123\n",
    "num_str = \"456\"\n",
    "\n",
    "print(\"num_int 数据类型为:\",type(num_int))\n",
    "print(\"num_str 数据类型为:\",type(num_str))\n",
    "\n",
    "# 整型和字符串类型运算结果会报错，输出 TypeError\n",
    "print(num_int+num_str)\n",
    "\n",
    "# Python 为这些类型的情况提供了一种解决方案，称为显式转换"
   ]
  },
  {
   "cell_type": "markdown",
   "id": "509de074-caf6-4bbb-b9cf-78d4a5069c09",
   "metadata": {},
   "source": [
    "#### 显式转换\n",
    "用户将对象的数据类型转换为所需的数据类型，使用 int()、float()、str() 等预定义函数来执行显式类型转换。"
   ]
  },
  {
   "cell_type": "code",
   "execution_count": null,
   "id": "3befa2c8-c885-4733-bd13-49852d0617f3",
   "metadata": {},
   "outputs": [],
   "source": [
    "# int() - 强制转换为整型\n",
    "x = int(1)   # x 输出结果为 1\n",
    "y = int(2.8) # y 输出结果为 2\n",
    "z = int(\"3\") # z 输出结果为 3\n",
    "print(x)\n",
    "print(y)\n",
    "print(z)\n",
    "\n",
    "# float() - 强制转换为浮点型\n",
    "x = float(1)     # x 输出结果为 1.0\n",
    "y = float(2.8)   # y 输出结果为 2.8\n",
    "z = float(\"3\")   # z 输出结果为 3.0\n",
    "w = float(\"4.2\") # w 输出结果为 4.2\n",
    "print(x)\n",
    "print(y)\n",
    "print(z)\n",
    "print(w)\n",
    "\n",
    "# str() - 强制转换为字符串类型\n",
    "x = str(\"s1\") # x 输出结果为 's1'\n",
    "y = str(2)    # y 输出结果为 '2'\n",
    "z = str(3.0)  # z 输出结果为 '3.0'\n",
    "print(x)\n",
    "print(y)\n",
    "print(z)"
   ]
  },
  {
   "cell_type": "code",
   "execution_count": null,
   "id": "e5e8e311-a070-4227-bbce-907b6cce26a9",
   "metadata": {},
   "outputs": [],
   "source": [
    "num_int = 123\n",
    "num_str = \"456\"\n",
    "\n",
    "print(\"num_int 数据类型为:\",type(num_int))\n",
    "print(\"类型转换前，num_str 数据类型为:\",type(num_str))\n",
    "\n",
    "num_str = int(num_str)    # 强制转换为整型\n",
    "print(\"类型转换后，num_str 数据类型为:\",type(num_str))\n",
    "\n",
    "num_sum = num_int + num_str\n",
    "\n",
    "print(\"num_int 与 num_str 相加结果为:\",num_sum)\n",
    "print(\"sum 数据类型为:\",type(num_sum))"
   ]
  },
  {
   "cell_type": "markdown",
   "id": "1783d642-6b9a-4987-a569-b1c8dab48541",
   "metadata": {},
   "source": [
    "#### 推导式\n",
    "Python 推导式是一种独特的数据处理方式，可以从一个数据序列构建另一个新的数据序列的结构体。\n",
    "\n",
    "Python 支持各种数据结构的推导式：\n",
    "\n",
    "- 列表(list)推导式\n",
    "- 字典(dict)推导式\n",
    "- 集合(set)推导式\n",
    "- 元组(tuple)推导式"
   ]
  },
  {
   "cell_type": "markdown",
   "id": "8ffae896-9463-4143-be3c-82937bed19da",
   "metadata": {},
   "source": [
    "#### 列表(list)推导式\n",
    "列表推导式格式为：\n",
    "\n",
    "[表达式 for 变量 in 列表] \n",
    "\n",
    "或者\n",
    "\n",
    "[表达式 for 变量 in 列表 if 条件]\n",
    "\n",
    "其中：\n",
    "\n",
    "`表达式`是列表生成元素表达式，可以是有返回值的函数。\n",
    "\n",
    "迭代 `列表` 将 `变量` 传入到 `表达式` 中。\n",
    "\n",
    "条件语句，可以过滤列表中不符合条件的值。"
   ]
  },
  {
   "cell_type": "code",
   "execution_count": null,
   "id": "7ee1d66e-5d2b-4858-9e20-ba5cfb141f5e",
   "metadata": {},
   "outputs": [],
   "source": [
    "# 例：过滤掉长度小于或等于3的字符串列表，并将剩下的转换成大写字母\n",
    "names = ['Bob','Tom','alice','Jerry','Wendy','Smith']\n",
    "new_names = [name.upper()for name in names if len(name)>3]\n",
    "print(new_names)"
   ]
  },
  {
   "cell_type": "code",
   "execution_count": null,
   "id": "3d21b8cb-5ffb-4180-ad24-d2457f7b6b66",
   "metadata": {},
   "outputs": [],
   "source": [
    "# 例：计算 30 以内可以被 3 整除的整数\n",
    "multiples = [i for i in range(30) if i % 3 == 0]\n",
    "print(multiples)"
   ]
  },
  {
   "cell_type": "code",
   "execution_count": null,
   "id": "8951bc18-ed9c-4f26-af36-bb6e802aca05",
   "metadata": {},
   "outputs": [],
   "source": [
    "vec = [2, 4, 6]\n",
    "[3*x for x in vec]"
   ]
  },
  {
   "cell_type": "code",
   "execution_count": null,
   "id": "d964a037-376b-4936-85a0-69ed28c0c5ce",
   "metadata": {},
   "outputs": [],
   "source": [
    "[[x, x**2] for x in vec]"
   ]
  },
  {
   "cell_type": "markdown",
   "id": "076ebab8-2eae-4e49-a558-312c7bbdfe60",
   "metadata": {},
   "source": [
    "#### 字典(dict)推导式\n",
    "字典推导基本格式：\n",
    "\n",
    "{ key_expr: value_expr for value in collection }\n",
    "\n",
    "或\n",
    "\n",
    "{ key_expr: value_expr for value in collection if condition }"
   ]
  },
  {
   "cell_type": "code",
   "execution_count": null,
   "id": "630b9732-8939-47f2-843a-0d8a7119dfcf",
   "metadata": {},
   "outputs": [],
   "source": [
    "# 使用字符串及其长度创建字典\n",
    "listdemo = ['Google','Runoob', 'Taobao']\n",
    "# 将列表中各字符串值为键，各字符串的长度为值，组成键值对\n",
    "newdict = {key:len(key) for key in listdemo}\n",
    "print(newdict)"
   ]
  },
  {
   "cell_type": "code",
   "execution_count": null,
   "id": "2a64f9d6-7e7a-4277-98bb-2c2fe7e53143",
   "metadata": {},
   "outputs": [],
   "source": [
    "# 提供三个数字，以三个数字为键，三个数字的平方为值来创建字典\n",
    "dic = {x: x**2 for x in (2, 4, 6)}\n",
    "print(dic)\n",
    "print(type(dic))"
   ]
  },
  {
   "cell_type": "markdown",
   "id": "b00afdd8-d0e6-4e28-9760-32d9ec07c474",
   "metadata": {},
   "source": [
    "#### 集合(set)推导式\n",
    "集合推导式基本格式：\n",
    "\n",
    "{ expression for item in Sequence }\n",
    "\n",
    "或\n",
    "\n",
    "{ expression for item in Sequence if conditional }"
   ]
  },
  {
   "cell_type": "code",
   "execution_count": null,
   "id": "5a37d160-b073-4c63-bf88-895d0ae5670f",
   "metadata": {},
   "outputs": [],
   "source": [
    "# 计算数字 1,2,3 的平方数\n",
    "setnew = {i**2 for i in (1,2,3)}\n",
    "print(setnew)"
   ]
  },
  {
   "cell_type": "code",
   "execution_count": null,
   "id": "c0d2b30b-ece1-4703-8469-9364082e5741",
   "metadata": {},
   "outputs": [],
   "source": [
    "# 判断不是 abc 的字母并输出\n",
    "a = {x for x in 'abracadabra' if x not in 'abc'}\n",
    "print(a)\n",
    "print(type(a))"
   ]
  },
  {
   "cell_type": "markdown",
   "id": "ce5ca3df-3c52-4d08-a58d-068776791d82",
   "metadata": {},
   "source": [
    "#### 元组(tuple)推导式 （生成器表达式）\n",
    "元组推导式可以利用 range 区间、元组、列表、字典和集合等数据类型，快速生成一个满足指定需求的元组。\n",
    "\n",
    "元组推导式基本格式：\n",
    "\n",
    "(expression for item in Sequence )\n",
    "\n",
    "或\n",
    "\n",
    "(expression for item in Sequence if conditional )\n",
    "\n",
    "元组推导式和列表推导式的用法也完全相同，只是元组推导式是用 `()` 圆括号将各部分括起来，而列表推导式用的是中括号 `[]`，另外元组推导式返回的结果是一个生成器对象。"
   ]
  },
  {
   "cell_type": "code",
   "execution_count": null,
   "id": "b0b6172d-b9db-4bb6-9fc4-48ca9165da15",
   "metadata": {},
   "outputs": [],
   "source": [
    "# 成一个包含数字 1~9 的元组\n",
    "a = (x for x in range(1,10))\n",
    "print(a)   # 返回的是生成器对象\n",
    "tuple(a)   # 使用 tuple() 函数，可以直接将生成器对象转换成元组"
   ]
  },
  {
   "cell_type": "markdown",
   "id": "b80ceecb-3e6a-407c-b002-bc101ecada81",
   "metadata": {},
   "source": [
    "#### 数据结构\n",
    "列表\n",
    "\n",
    "Python中列表是可变的，这是它区别于字符串和元组的最重要的特点，一句话概括即：列表可以修改，而字符串和元组不能。\n",
    "\n",
    "以下是 Python 中列表的方法：\n",
    "\n",
    "- list.append(x)\t把一个元素添加到列表的结尾，相当于 a[len(a):] = [x]。\n",
    "- list.extend(L)\t通过添加指定列表的所有元素来扩充列表，相当于 a[len(a):] = L。\n",
    "- list.insert(i, x)\t在指定位置插入一个元素。第一个参数是准备插入到其前面的那个元素的索引，例如 a.insert(0, x) 会插入到整个列表之前，而 a.insert(len(a), x) 相当于 a.append(x) 。\n",
    "- list.remove(x)\t删除列表中值为 x 的第一个元素。如果没有这样的元素，就会返回一个错误。\n",
    "- list.pop([i])\t从列表的指定位置移除元素，并将其返回。如果没有指定索引，a.pop()返回最后一个元素。元素随即从列表中被移除。（方法中 i 两边的方括号表示这个参数是可选的，而不是要求你输入一对方括号，你会经常在 Python 库参考手册中遇到这样的标记。）\n",
    "- list.clear()\t移除列表中的所有项，等于del a[:]。\n",
    "- list.index(x)\t返回列表中第一个值为 x 的元素的索引。如果没有匹配的元素就会返回一个错误。\n",
    "- list.count(x)\t返回 x 在列表中出现的次数。\n",
    "- list.sort()\t对列表中的元素进行排序。\n",
    "- list.reverse()\t倒排列表中的元素。\n",
    "- list.copy()\t返回列表的浅复制，等于a[:]。"
   ]
  },
  {
   "cell_type": "code",
   "execution_count": null,
   "id": "5f1769b0-ad6b-4805-a5c5-21b4caadf965",
   "metadata": {},
   "outputs": [],
   "source": [
    "a = [66.25, 333, 333, 1, 1234.5]\n",
    "print(a.count(333), a.count(66.25), a.count('x'))\n",
    "\n",
    "a.insert(2, -1)\n",
    "a.append(333)\n",
    "print(a)\n",
    "\n",
    "a.index(333)\n",
    "\n",
    "a.remove(333)\n",
    "print(a)\n",
    "\n",
    "a.reverse()\n",
    "print(a)\n",
    "\n",
    "a.sort()\n",
    "print(a)"
   ]
  },
  {
   "cell_type": "markdown",
   "id": "4db263e7-36ae-4803-b46d-8b9e1d70c9bf",
   "metadata": {},
   "source": [
    "#### 将列表当做堆栈使用\n",
    "列表方法使得列表可以很方便的作为一个堆栈来使用，堆栈作为特定的数据结构，最先进入的元素最后一个被释放（后进先出）。用 append() 方法可以把一个元素添加到堆栈顶。用不指定索引的 pop() 方法可以把一个元素从堆栈顶释放出来。"
   ]
  },
  {
   "cell_type": "code",
   "execution_count": null,
   "id": "48c36182-5e2a-491a-bb1e-80213aab1bd1",
   "metadata": {},
   "outputs": [],
   "source": [
    "stack = [3, 4, 5]\n",
    "stack.append(6)\n",
    "stack.append(7)\n",
    "print(stack)\n",
    "\n",
    "stack.pop()\n",
    "print(stack)\n",
    "\n",
    "stack.pop()\n",
    "print(stack)\n",
    "\n",
    "stack.pop()\n",
    "print(stack)"
   ]
  },
  {
   "cell_type": "markdown",
   "id": "b3e2eaff-331e-4e39-8a48-83d490df550e",
   "metadata": {},
   "source": [
    "#### 将将列表当作队列使用\n",
    "也可以把列表当做队列用，只是在队列里第一加入的元素，第一个取出来；但是拿列表用作这样的目的效率不高。在列表的最后添加或者弹出元素速度快，然而在列表里插入或者从头部弹出速度却不快（因为所有其他的元素都得一个一个地移动）。"
   ]
  },
  {
   "cell_type": "code",
   "execution_count": null,
   "id": "c59cad21-708e-4a62-bdeb-c8f429cbd705",
   "metadata": {},
   "outputs": [],
   "source": [
    "from collections import deque\n",
    "\n",
    "queue = deque([\"Eric\", \"John\", \"Michael\"])\n",
    "print(queue)\n",
    "\n",
    "queue.append(\"Terry\")\n",
    "queue.append(\"Graham\")\n",
    "print(queue)\n",
    "\n",
    "queue.popleft()\n",
    "print(queue)\n",
    "\n",
    "queue.popleft()\n",
    "print(queue)"
   ]
  },
  {
   "cell_type": "markdown",
   "id": "17fafc79-8167-45c3-967b-de4f37c3f9e4",
   "metadata": {},
   "source": [
    "#### del语句\n",
    "使用 del 语句可以从一个列表中根据索引来删除一个元素，而不是值来删除元素。这与使用 pop() 返回一个值不同。可以用 del 语句从列表中删除一个切割，或清空整个列表（我们以前介绍的方法是给该切割赋一个空列表）。"
   ]
  },
  {
   "cell_type": "code",
   "execution_count": null,
   "id": "9dc594eb-4ff9-4ffb-b6ee-b9f34a2a883b",
   "metadata": {},
   "outputs": [],
   "source": [
    "a = [-1, 1, 66.25, 333, 333, 1234.5]\n",
    "del a[0]\n",
    "print(a)\n",
    "\n",
    "del a[2:4]\n",
    "print(a)\n",
    "\n",
    "del a[:]\n",
    "print(a)"
   ]
  },
  {
   "cell_type": "markdown",
   "id": "9de1ee77-4d9c-4966-8cc8-4724d4e93d9c",
   "metadata": {},
   "source": [
    "#### 遍历技巧"
   ]
  },
  {
   "cell_type": "code",
   "execution_count": null,
   "id": "a2e3a67d-50a9-4c3d-aba3-944685510f4a",
   "metadata": {},
   "outputs": [],
   "source": [
    "# 在字典中遍历时，关键字和对应的值可以使用 items() 方法同时解读出来\n",
    "knights = {'gallahad': 'the pure', 'robin': 'the brave'}\n",
    "for k, v in knights.items():\n",
    "    print(k, v)"
   ]
  },
  {
   "cell_type": "code",
   "execution_count": null,
   "id": "092cc98b-82eb-4a4e-ac25-cbef2050068e",
   "metadata": {},
   "outputs": [],
   "source": [
    "# 在序列中遍历时，索引位置和对应值可以使用 enumerate() 函数同时得到\n",
    "for i, v in enumerate(['tic', 'tac', 'toe']):\n",
    "    print(i, v)"
   ]
  },
  {
   "cell_type": "code",
   "execution_count": null,
   "id": "a33d58e4-9e82-4ebb-8cc2-389d067affe5",
   "metadata": {},
   "outputs": [],
   "source": [
    "# 同时遍历两个或更多的序列，可以使用 zip() 组合\n",
    "questions = ['name', 'quest', 'favorite color']\n",
    "answers = ['lancelot', 'the holy grail', 'blue']\n",
    "for q, a in zip(questions, answers):\n",
    "    print('What is your {0}?  It is {1}.'.format(q, a))"
   ]
  },
  {
   "cell_type": "code",
   "execution_count": null,
   "id": "dbc12246-9c97-49c0-abd2-1f7d343c4a3d",
   "metadata": {},
   "outputs": [],
   "source": [
    "# 要反向遍历一个序列，首先指定这个序列，然后调用 reversed() 函数\n",
    "for i in reversed(range(1, 10, 2)):\n",
    "    print(i)"
   ]
  },
  {
   "cell_type": "code",
   "execution_count": null,
   "id": "fe1f17d0-205f-4278-8e67-b71a27e53cc2",
   "metadata": {},
   "outputs": [],
   "source": [
    "# 要按顺序遍历一个序列，使用 sorted() 函数返回一个已排序的序列，并不修改原值\n",
    "basket = ['apple', 'orange', 'apple', 'pear', 'orange', 'banana']\n",
    "for f in sorted(set(basket)):\n",
    "    print(f)"
   ]
  },
  {
   "cell_type": "markdown",
   "id": "bf1f76ee-ceb5-444d-ab4c-036556cc583d",
   "metadata": {},
   "source": [
    "### 控制流工具"
   ]
  },
  {
   "cell_type": "markdown",
   "id": "9cf0e585-276c-4bc2-8fa0-a3675e37ee95",
   "metadata": {},
   "source": [
    "#### 条件控制\n",
    "- if...elif...else\n",
    "- match...case"
   ]
  },
  {
   "cell_type": "code",
   "execution_count": null,
   "id": "29cfd176-44f4-46ee-a085-6c7ba5ef2f4e",
   "metadata": {},
   "outputs": [],
   "source": [
    "# if...elif...else 嵌套结构\n",
    "num=int(input(\"输入一个数字：\"))\n",
    "if num%2==0:\n",
    "    if num%3==0:\n",
    "        print (\"你输入的数字可以整除 2 和 3\")\n",
    "    else:\n",
    "        print (\"你输入的数字可以整除 2，但不能整除 3\")\n",
    "else:\n",
    "    if num%3==0:\n",
    "        print (\"你输入的数字可以整除 3，但不能整除 2\")\n",
    "    else:\n",
    "        print  (\"你输入的数字不能整除 2 和 3\")"
   ]
  },
  {
   "cell_type": "markdown",
   "id": "030d333a-82c5-4191-a93d-cc2768860c70",
   "metadata": {},
   "source": [
    "Python 3.10 增加了 match...case 的条件判断，不需要再使用一连串的 if-else 来判断了。\n",
    "\n",
    "match 后的对象会依次与 case 后的内容进行匹配，如果匹配成功，则执行匹配到的表达式，否则直接跳过，_ 可以匹配一切。"
   ]
  },
  {
   "cell_type": "code",
   "execution_count": null,
   "id": "cd5b96e4-6ea0-4036-8dfc-1e545d069935",
   "metadata": {},
   "outputs": [],
   "source": [
    "# 语法格式：\n",
    "\"\"\"\n",
    "match subject:\n",
    "    case <pattern_1>:\n",
    "        <action_1>\n",
    "    case <pattern_2>:\n",
    "        <action_2>\n",
    "    case <pattern_3>:\n",
    "        <action_3>\n",
    "    case _:\n",
    "        <action_wildcard>\n",
    "\"\"\"\n",
    "\n",
    "# case _: 类似于 C 和 Java 中的 default:，当其他 case 都无法匹配时，匹配这条，保证永远会匹配成功"
   ]
  },
  {
   "cell_type": "code",
   "execution_count": null,
   "id": "9d7cbe08-20d5-4941-a22c-c1e3a0cd7a85",
   "metadata": {},
   "outputs": [],
   "source": [
    "def match_example(value):\n",
    "    match value:\n",
    "        case 1:\n",
    "            print(\"匹配到值为1\")\n",
    "        case 2:\n",
    "            print(\"匹配到值为2\")\n",
    "        case _:\n",
    "            print(\"匹配到其他值\")\n",
    "\n",
    "match_example(1)  # 输出: 匹配到值为1\n",
    "match_example(2)  # 输出: 匹配到值为2\n",
    "match_example(3)  # 输出: 匹配到其他值"
   ]
  },
  {
   "cell_type": "code",
   "execution_count": null,
   "id": "84134a55-a863-44a1-a934-382912da5d33",
   "metadata": {},
   "outputs": [],
   "source": [
    "def match_example(item):\n",
    "    match item:\n",
    "        case (x, y) if x == y:\n",
    "            print(f\"匹配到相等的元组: {item}\")\n",
    "        case (x, y):\n",
    "            print(f\"匹配到元组: {item}\")\n",
    "        case _:\n",
    "            print(\"匹配到其他情况\")\n",
    "\n",
    "match_example((1, 1))  # 输出: 匹配到相等的元组: (1, 1)\n",
    "match_example((1, 2))  # 输出: 匹配到元组: (1, 2)\n",
    "match_example(\"other\") # 输出: 匹配到其他情况"
   ]
  },
  {
   "cell_type": "code",
   "execution_count": null,
   "id": "34220452-a731-4a82-8d3d-5f394f761bbf",
   "metadata": {},
   "outputs": [],
   "source": [
    "class Circle:\n",
    "    def __init__(self, radius):\n",
    "        self.radius = radius\n",
    "\n",
    "class Rectangle:\n",
    "    def __init__(self, width, height):\n",
    "        self.width = width\n",
    "        self.height = height\n",
    "\n",
    "def match_shape(shape):\n",
    "    match shape:\n",
    "        case Circle(radius=1):\n",
    "            print(\"匹配到半径为1的圆\")\n",
    "        case Rectangle(width=1, height=2):\n",
    "            print(\"匹配到宽度为1，高度为2的矩形\")\n",
    "        case _:\n",
    "            print(\"匹配到其他形状\")\n",
    "\n",
    "match_shape(Circle(radius=1))             # 输出: 匹配到半径为1的圆\n",
    "match_shape(Rectangle(width=1, height=2)) # 输出: 匹配到宽度为1，高度为2的矩形\n",
    "match_shape(\"other\")                      # 输出: 匹配到其他形状"
   ]
  },
  {
   "cell_type": "markdown",
   "id": "6a41c922-d1d8-4f82-919e-917796749587",
   "metadata": {},
   "source": [
    "#### 循环语句\n",
    "- for循环\n",
    "- while循环"
   ]
  },
  {
   "cell_type": "markdown",
   "id": "f39eebfd-e7b0-4ad1-a9ad-22a38d4eea09",
   "metadata": {},
   "source": [
    "for...else 语句用于在循环结束后执行一段代码。当循环执行完毕（即遍历完 iterable 中的所有元素）后，会执行 else 子句中的代码，如果在循环过程中遇到了 break 语句，则会中断循环，此时不会执行 else 子句。"
   ]
  },
  {
   "cell_type": "code",
   "execution_count": null,
   "id": "99c0ef39-4dfb-4c65-a994-3bb8c0885adc",
   "metadata": {},
   "outputs": [],
   "source": [
    "for x in range(6):\n",
    "    print(x)\n",
    "else:\n",
    "    print(\"Finally finished!\")"
   ]
  },
  {
   "cell_type": "code",
   "execution_count": null,
   "id": "cc7f7c4a-f38c-43a1-8672-1233f18fd22e",
   "metadata": {},
   "outputs": [],
   "source": [
    "sites = [\"Baidu\", \"Google\",\"Runoob\",\"Taobao\"]\n",
    "for site in sites:\n",
    "    if site == \"Runoob\":\n",
    "        print(\"菜鸟教程!\")\n",
    "        break\n",
    "    print(\"循环数据 \" + site)\n",
    "else:\n",
    "    print(\"没有循环数据!\")\n",
    "print(\"完成循环!\")"
   ]
  },
  {
   "cell_type": "markdown",
   "id": "c065827b-053f-4f24-88a7-dc6ad1e200c8",
   "metadata": {},
   "source": [
    "range() 函数\n",
    "\n",
    "遍历数字序列，可以使用内置 range() 函数，它会生成数列。"
   ]
  },
  {
   "cell_type": "code",
   "execution_count": null,
   "id": "f4e3767a-ea99-4422-ac40-7f84da35c4b7",
   "metadata": {},
   "outputs": [],
   "source": [
    "for i in range(5):\n",
    "    print(i)"
   ]
  },
  {
   "cell_type": "code",
   "execution_count": null,
   "id": "ad4eec83-09a6-481b-80b4-9db158c1d620",
   "metadata": {},
   "outputs": [],
   "source": [
    "for i in range(5,9) :  # 指定区间的值\n",
    "    print(i)"
   ]
  },
  {
   "cell_type": "code",
   "execution_count": null,
   "id": "1a21f959-ac55-492c-a5cf-b2fd9a905f99",
   "metadata": {},
   "outputs": [],
   "source": [
    "for i in range(0, 10, 3) :  # 以指定数字开始并指定不同的增量(甚至可以是负数，有时这也叫做'步长')\n",
    "    print(i)\n",
    "    \n",
    "for i in range(-10, -100, -30) :\n",
    "    print(i)"
   ]
  },
  {
   "cell_type": "code",
   "execution_count": null,
   "id": "4cf7526c-4e06-4061-bd55-f607e74d1067",
   "metadata": {},
   "outputs": [],
   "source": [
    "# 结合 range() 和 len() 函数以遍历一个序列的索引\n",
    "a = ['Google', 'Baidu', 'Runoob', 'Taobao', 'QQ']\n",
    "for i in range(len(a)):\n",
    "     print(i, a[i])"
   ]
  },
  {
   "cell_type": "code",
   "execution_count": null,
   "id": "dd71b59c-174e-4bec-8503-37bea8aa7bad",
   "metadata": {},
   "outputs": [],
   "source": [
    "# 使用 range() 函数来创建一个列表\n",
    "list(range(5))"
   ]
  },
  {
   "cell_type": "markdown",
   "id": "142b6f68-de46-4ada-9a75-ac74a39bdbe7",
   "metadata": {},
   "source": [
    "while循环"
   ]
  },
  {
   "cell_type": "code",
   "execution_count": null,
   "id": "338c3e8a-6427-4c70-a1e3-a0979dafc933",
   "metadata": {},
   "outputs": [],
   "source": [
    "n = 100\n",
    " \n",
    "sum = 0\n",
    "counter = 1\n",
    "while counter <= n:\n",
    "    sum = sum + counter\n",
    "    counter += 1\n",
    " \n",
    "print(\"1 到 %d 之和为: %d\" % (n,sum))"
   ]
  },
  {
   "cell_type": "markdown",
   "id": "42d0cf6a-7b62-41e8-9d16-eff89258b0dd",
   "metadata": {},
   "source": [
    "break 语句可以跳出 for 和 while 的循环体。如果你从 for 或 while 循环中终止，任何对应的循环 else 块将不执行。\n",
    "\n",
    "continue 语句被用来告诉 Python 跳过当前循环块中的剩余语句，然后继续进行下一轮循环。"
   ]
  },
  {
   "cell_type": "code",
   "execution_count": null,
   "id": "04a903c3-7ea3-4d68-9370-87af85e6715a",
   "metadata": {},
   "outputs": [],
   "source": [
    "n = 5\n",
    "while n > 0:\n",
    "    n -= 1\n",
    "    if n == 2:\n",
    "        break\n",
    "    print(n)\n",
    "print('循环结束。')"
   ]
  },
  {
   "cell_type": "code",
   "execution_count": null,
   "id": "57ec054d-2bd4-489e-8ff5-38bca41003f0",
   "metadata": {},
   "outputs": [],
   "source": [
    "n = 5\n",
    "while n > 0:\n",
    "    n -= 1\n",
    "    if n == 2:\n",
    "        continue\n",
    "    print(n)\n",
    "print('循环结束。')"
   ]
  },
  {
   "cell_type": "markdown",
   "id": "437e2b5c-cfce-41bb-93c5-542e97b81c1b",
   "metadata": {},
   "source": [
    "pass是空语句，是为了保持程序结构的完整性。\n",
    "\n",
    "pass 不做任何事情，一般用做占位语句。"
   ]
  },
  {
   "cell_type": "code",
   "execution_count": null,
   "id": "47a7ae27-00de-4ff2-af28-ebfeed410440",
   "metadata": {},
   "outputs": [],
   "source": [
    "class MyEmptyClass:\n",
    "    pass"
   ]
  },
  {
   "cell_type": "code",
   "execution_count": null,
   "id": "c835864c-1f04-4e27-857f-a47884a54f01",
   "metadata": {},
   "outputs": [],
   "source": [
    "for letter in 'Runoob': \n",
    "    if letter == 'o':\n",
    "        pass\n",
    "        print ('执行 pass 块')\n",
    "    print ('当前字母 :', letter)\n",
    "\n",
    "print (\"Good bye!\")"
   ]
  },
  {
   "cell_type": "markdown",
   "id": "244b07d6-3ba8-46d9-b60e-bf4312a67264",
   "metadata": {},
   "source": [
    "关键字end可以用于将结果输出到同一行，或者在输出的末尾添加不同的字符。"
   ]
  },
  {
   "cell_type": "code",
   "execution_count": null,
   "id": "54830f9c-09e5-4b61-8241-a40dac9d8f19",
   "metadata": {},
   "outputs": [],
   "source": [
    "# Fibonacci series: 斐波纳契数列\n",
    "# 两个元素的总和确定了下一个数\n",
    "a, b = 0, 1\n",
    "while b < 1000:\n",
    "    print(b, end=',')\n",
    "    a, b = b, a+b"
   ]
  },
  {
   "cell_type": "markdown",
   "id": "e8458cdb-8af1-4e4a-a548-27b08986ea5e",
   "metadata": {},
   "source": [
    "#### 函数\n",
    "函数是组织好的，可重复使用的，用来实现单一，或相关联功能的代码段。"
   ]
  },
  {
   "cell_type": "code",
   "execution_count": null,
   "id": "b2361c31-938f-4db3-a8b4-d3d6ef4a96f8",
   "metadata": {},
   "outputs": [],
   "source": [
    "# 计算面积函数\n",
    "def area(width, height):\n",
    "    return width * height\n",
    " \n",
    "def print_welcome(name):\n",
    "    print(\"Welcome\", name)\n",
    "\n",
    "print_welcome(\"Runoob\")\n",
    "w = 4\n",
    "h = 5\n",
    "print(\"width =\", w, \" height =\", h, \" area =\", area(w, h))"
   ]
  },
  {
   "cell_type": "markdown",
   "id": "6613a6df-0545-44f4-8238-8cbe53abd431",
   "metadata": {},
   "source": [
    "在 python 中\n",
    "\n",
    "strings, tuples, 和 numbers 是不可更改的对象\n",
    "\n",
    "list,dict 等则是可以修改的对象。"
   ]
  },
  {
   "cell_type": "markdown",
   "id": "af792300-7a11-43c5-b6a7-e1b3bd7c3329",
   "metadata": {},
   "source": [
    "#### 传不可变对象\n",
    "可通过 id() 函数来查看内存地址变化"
   ]
  },
  {
   "cell_type": "code",
   "execution_count": null,
   "id": "21438d22-35eb-4c6a-b59d-1ed160f8827d",
   "metadata": {},
   "outputs": [],
   "source": [
    "def change(a):\n",
    "    print(id(a))   # 指向的是同一个对象\n",
    "    a=10\n",
    "    print(id(a))   # 一个新对象\n",
    " \n",
    "a=1\n",
    "print(id(a))\n",
    "change(a)"
   ]
  },
  {
   "cell_type": "markdown",
   "id": "e5a47cd9-2a2c-4558-a7b0-74e9f55fecd7",
   "metadata": {},
   "source": [
    "可以看见在调用函数前后，形参和实参指向的是同一个对象（对象 id 相同），在函数内部修改形参后，形参指向的是不同的 id。"
   ]
  },
  {
   "cell_type": "markdown",
   "id": "820292d7-c800-438e-a3bb-c9559e55adf6",
   "metadata": {},
   "source": [
    "#### 传可变对象\n",
    "可变对象在函数里修改了参数，那么在调用这个函数的函数里，原始的参数也被改变了。"
   ]
  },
  {
   "cell_type": "code",
   "execution_count": null,
   "id": "f1e11afa-2e11-48e9-82af-be63586234e3",
   "metadata": {},
   "outputs": [],
   "source": [
    "# 可写函数说明\n",
    "def changeme( mylist ):\n",
    "   \"修改传入的列表\"\n",
    "   mylist.append([1,2,3,4])\n",
    "   print (\"函数内取值: \", mylist)\n",
    "   return\n",
    " \n",
    "# 调用changeme函数\n",
    "mylist = [10,20,30]\n",
    "changeme( mylist )\n",
    "print (\"函数外取值: \", mylist)"
   ]
  },
  {
   "cell_type": "markdown",
   "id": "4a3ea28d-5381-4287-9bf7-641c1811efdc",
   "metadata": {},
   "source": [
    "#### 参数\n",
    "以下是调用函数时可使用的正式参数类型：\n",
    "\n",
    "- 必需参数\n",
    "- 关键字参数\n",
    "- 默认参数\n",
    "- 不定长参数"
   ]
  },
  {
   "cell_type": "markdown",
   "id": "1d165e3f-5361-465d-bb4e-8c7d30c3d3fa",
   "metadata": {},
   "source": [
    "#### 必需参数\n",
    "必需参数须以正确的顺序传入函数。调用时的数量必须和声明时的一样。\n",
    "\n",
    "调用 printme() 函数，你必须传入一个参数，不然会出现语法错误："
   ]
  },
  {
   "cell_type": "code",
   "execution_count": null,
   "id": "0e19b68e-94a6-44ff-b6d5-1163393d2b6c",
   "metadata": {},
   "outputs": [],
   "source": [
    "#可写函数说明\n",
    "def printme( str ):\n",
    "   \"打印任何传入的字符串\"\n",
    "   print (str)\n",
    "   return\n",
    " \n",
    "# 调用 printme 函数，不加参数会报错\n",
    "printme()"
   ]
  },
  {
   "cell_type": "markdown",
   "id": "0e1abf75-dec2-4e3e-a539-0a371849c31d",
   "metadata": {},
   "source": [
    "#### 关键字参数\n",
    "关键字参数和函数调用关系紧密，函数调用使用关键字参数来确定传入的参数值。\n",
    "\n",
    "使用关键字参数允许函数调用时参数的顺序与声明时不一致，因为 Python 解释器能够用参数名匹配参数值。\n",
    "\n",
    "以下实例在函数 printme() 调用时使用参数名："
   ]
  },
  {
   "cell_type": "code",
   "execution_count": null,
   "id": "c678e949-8f50-4839-b860-3916ee0eb643",
   "metadata": {},
   "outputs": [],
   "source": [
    "#可写函数说明\n",
    "def printme( str ):\n",
    "   \"打印任何传入的字符串\"\n",
    "   print (str)\n",
    "   return\n",
    " \n",
    "#调用printme函数\n",
    "printme( str = \"菜鸟教程\")"
   ]
  },
  {
   "cell_type": "code",
   "execution_count": null,
   "id": "eeaa7174-3cf1-4218-8375-fba15a149d19",
   "metadata": {},
   "outputs": [],
   "source": [
    "#可写函数说明\n",
    "def printinfo( name, age ):\n",
    "   \"打印任何传入的字符串\"\n",
    "   print (\"名字: \", name)\n",
    "   print (\"年龄: \", age)\n",
    "   return\n",
    " \n",
    "#调用printinfo函数\n",
    "printinfo( age=50, name=\"runoob\" )"
   ]
  },
  {
   "cell_type": "markdown",
   "id": "b242fe97-079d-494d-b06c-fffb65094e9e",
   "metadata": {},
   "source": [
    "#### 默认参数\n",
    "调用函数时，如果没有传递参数，则会使用默认参数。\n",
    "\n",
    "以下实例中如果没有传入 age 参数，则使用默认值："
   ]
  },
  {
   "cell_type": "code",
   "execution_count": null,
   "id": "e4497e1d-2852-42cc-ac33-9b2cc754b91f",
   "metadata": {},
   "outputs": [],
   "source": [
    "#可写函数说明\n",
    "def printinfo( name, age = 35 ):\n",
    "   \"打印任何传入的字符串\"\n",
    "   print (\"名字: \", name)\n",
    "   print (\"年龄: \", age)\n",
    "   return\n",
    " \n",
    "#调用printinfo函数\n",
    "printinfo( age=50, name=\"runoob\" )\n",
    "print (\"------------------------\")\n",
    "printinfo( name=\"runoob\" )"
   ]
  },
  {
   "cell_type": "markdown",
   "id": "5c76aee3-6482-45aa-abc0-19014bd711b1",
   "metadata": {},
   "source": [
    "#### 不定长参数\n",
    "你可能需要一个函数能处理比当初声明时更多的参数。这些参数叫做不定长参数，和上述 2 种参数不同，声明时不会命名。基本语法如下：\n",
    "\n",
    "def functionname([formal_args,] *var_args_tuple ):\n",
    "\n",
    "   \"函数_文档字符串\"\n",
    "   \n",
    "   function_suite\n",
    "   \n",
    "   return [expression]\n",
    "   \n",
    "加了星号 * 的参数会以元组(tuple)的形式导入，存放所有未命名的变量参数。"
   ]
  },
  {
   "cell_type": "code",
   "execution_count": null,
   "id": "c2ace304-1f5f-4ff7-a929-51c6a76195e9",
   "metadata": {},
   "outputs": [],
   "source": [
    "# 可写函数说明\n",
    "def printinfo( arg1, *vartuple ):\n",
    "   \"打印任何传入的参数\"\n",
    "   print (\"输出: \")\n",
    "   print (arg1)\n",
    "   print (vartuple)\n",
    " \n",
    "# 调用printinfo 函数\n",
    "printinfo( 70, 60, 50 )"
   ]
  },
  {
   "cell_type": "markdown",
   "id": "b19e4f6d-8192-4256-bc36-932c158e019b",
   "metadata": {},
   "source": [
    "如果在函数调用时没有指定参数，它就是一个空元组。我们也可以不向函数传递未命名的变量。"
   ]
  },
  {
   "cell_type": "code",
   "execution_count": null,
   "id": "b8c4b1e0-e4ef-48e0-bf2a-c2d42aef1de8",
   "metadata": {},
   "outputs": [],
   "source": [
    "# 可写函数说明\n",
    "def printinfo( arg1, *vartuple ):\n",
    "   \"打印任何传入的参数\"\n",
    "   print (\"输出: \")\n",
    "   print (arg1)\n",
    "   for var in vartuple:\n",
    "      print (var)\n",
    "   return\n",
    " \n",
    "# 调用printinfo 函数\n",
    "printinfo( 10 )\n",
    "printinfo( 70, 60, 50 )"
   ]
  },
  {
   "cell_type": "markdown",
   "id": "2460ef2c-e68b-4f51-8fbc-6019ff3a5446",
   "metadata": {},
   "source": [
    "还有一种就是参数带两个星号 **基本语法如下：\n",
    "\n",
    "def functionname([formal_args,] **var_args_dict ):\n",
    "\n",
    "   \"函数_文档字符串\"\n",
    "   \n",
    "   function_suite\n",
    "   \n",
    "   return [expression]\n",
    "   \n",
    "加了两个星号 ** 的参数会以字典的形式导入。"
   ]
  },
  {
   "cell_type": "code",
   "execution_count": null,
   "id": "01208fe7-ceee-4c3d-96f6-eea081417c85",
   "metadata": {},
   "outputs": [],
   "source": [
    "# 可写函数说明\n",
    "def printinfo( arg1, **vardict ):\n",
    "   \"打印任何传入的参数\"\n",
    "   print (\"输出: \")\n",
    "   print (arg1)\n",
    "   print (vardict)\n",
    " \n",
    "# 调用printinfo 函数\n",
    "printinfo(1, a=2,b=3)"
   ]
  },
  {
   "cell_type": "markdown",
   "id": "c9706aa9-3647-48a3-8374-60f8ecb4f80e",
   "metadata": {},
   "source": [
    "声明函数时，参数中星号 * 可以单独出现，例如:"
   ]
  },
  {
   "cell_type": "code",
   "execution_count": null,
   "id": "9b5dbe5d-9105-40b4-ba02-d852de4d8325",
   "metadata": {},
   "outputs": [],
   "source": [
    "def f(a,b,*,c):\n",
    "    return a+b+c"
   ]
  },
  {
   "cell_type": "markdown",
   "id": "855ab4ee-7c77-48a4-a204-d5c0c1eb8cff",
   "metadata": {},
   "source": [
    "如果单独出现星号 *，则星号 * 后的参数必须用关键字传入："
   ]
  },
  {
   "cell_type": "code",
   "execution_count": null,
   "id": "3563667e-b55f-4b0a-8b28-3943cd314c99",
   "metadata": {},
   "outputs": [],
   "source": [
    "f(1,2,c=3)  # 正常"
   ]
  },
  {
   "cell_type": "code",
   "execution_count": null,
   "id": "e7764806-7f38-4f1c-8d31-152b02adff89",
   "metadata": {},
   "outputs": [],
   "source": [
    "f(1,2,3)    # 报错"
   ]
  },
  {
   "cell_type": "markdown",
   "id": "e3267462-879b-4255-b22a-c9c5d78eddda",
   "metadata": {},
   "source": [
    "#### 匿名函数\n",
    "Python 使用 lambda 来创建匿名函数。\n",
    "\n",
    "所谓匿名，意即不再使用 def 语句这样标准的形式定义一个函数。\n",
    "\n",
    "- lambda 只是一个表达式，函数体比 def 简单很多。\n",
    "- lambda 的主体是一个表达式，而不是一个代码块。仅仅能在 lambda 表达式中封装有限的逻辑进去。\n",
    "- lambda 函数拥有自己的命名空间，且不能访问自己参数列表之外或全局命名空间里的参数。\n",
    "- 虽然 lambda 函数看起来只能写一行，却不等同于 C 或 C++ 的内联函数，内联函数的目的是调用小函数时不占用栈内存从而减少函数调用的开销，提高代码的执行速度。\n",
    "\n",
    "lambda 函数的语法只包含一个语句，如下：\n",
    "\n",
    "lambda [arg1 [,arg2,.....argn]]:expression"
   ]
  },
  {
   "cell_type": "code",
   "execution_count": null,
   "id": "6fe9a697-0fdc-47a3-b72f-e80a7b88edcd",
   "metadata": {},
   "outputs": [],
   "source": [
    "x = lambda a : a + 10\n",
    "print(x(5))"
   ]
  },
  {
   "cell_type": "code",
   "execution_count": null,
   "id": "88888145-d54d-4fd8-9caf-5d709fdc3082",
   "metadata": {},
   "outputs": [],
   "source": [
    "# 可写函数说明\n",
    "sum = lambda arg1, arg2: arg1 + arg2\n",
    " \n",
    "# 调用sum函数\n",
    "print (\"相加后的值为 : \", sum( 10, 20 ))\n",
    "print (\"相加后的值为 : \", sum( 20, 20 ))"
   ]
  },
  {
   "cell_type": "markdown",
   "id": "a79a05ee-7d5b-468e-9e75-84c4e9ab0e21",
   "metadata": {},
   "source": [
    "我们可以将匿名函数封装在一个函数内，这样可以使用同样的代码来创建多个匿名函数。\n",
    "\n",
    "以下实例将匿名函数封装在 myfunc 函数中，通过传入不同的参数来创建不同的匿名函数："
   ]
  },
  {
   "cell_type": "code",
   "execution_count": null,
   "id": "c027ce1c-0f07-426b-b53d-94733cbb1ed1",
   "metadata": {},
   "outputs": [],
   "source": [
    "def myfunc(n):\n",
    "    return lambda a : a * n\n",
    " \n",
    "mydoubler = myfunc(2)\n",
    "mytripler = myfunc(3)\n",
    " \n",
    "print(mydoubler(11))\n",
    "print(mytripler(11))"
   ]
  },
  {
   "cell_type": "markdown",
   "id": "70dd4ee2-7186-4de7-8ed4-46e04907e7cc",
   "metadata": {},
   "source": [
    "lambda 函数通常与内置函数如 map()、filter() 和 reduce() 一起使用，以便在集合上执行操作。"
   ]
  },
  {
   "cell_type": "markdown",
   "id": "a7effa63-2154-498e-9e28-687b100b3197",
   "metadata": {},
   "source": [
    "#### map() 函数\n",
    "\n",
    "根据提供的函数对指定序列做映射。\n",
    "\n",
    "map() 函数的基本语法如下：\n",
    "\n",
    "map(function, iterable)\n",
    "\n",
    "- function 是一个函数，这里可以是一个 lambda 函数。\n",
    "- iterable 是一个序列，map() 函数将逐一应用 function 到序列的每个元素上。"
   ]
  },
  {
   "cell_type": "code",
   "execution_count": null,
   "id": "c02ba171-9a9d-43bf-b8bc-3cdf1947d591",
   "metadata": {},
   "outputs": [],
   "source": [
    "numbers = [1, 2, 3, 4, 5]\n",
    "result = map(lambda x: x * 2, numbers)\n",
    "print(list(result))"
   ]
  },
  {
   "cell_type": "code",
   "execution_count": null,
   "id": "51388340-3a6d-4392-b7b2-104b71179c31",
   "metadata": {},
   "outputs": [],
   "source": [
    "numbers = [1, 2, 3, 4, 5]\n",
    "squared = list(map(lambda x: x**2, numbers))\n",
    "print(squared)  # 输出: [1, 4, 9, 16, 25]"
   ]
  },
  {
   "cell_type": "markdown",
   "id": "df6a34ce-2161-40f2-b917-0da6aa0bd99b",
   "metadata": {},
   "source": [
    "#### filter() 函数\n",
    "filter() 函数用于过滤序列，过滤掉那些不符合条件的元素。\n",
    "\n",
    "filter() 函数的基本语法如下：\n",
    "\n",
    "filter(function, iterable)\n",
    "\n",
    "- function 是一个返回布尔值的函数。如果 function 返回 True，则将元素保留在结果列表中。\n",
    "- iterable 是一个序列，filter() 将逐一应用 function 来测试序列的每个元素。"
   ]
  },
  {
   "cell_type": "code",
   "execution_count": null,
   "id": "7ca14b59-bf8b-43a7-9f7e-4f22afe432b9",
   "metadata": {},
   "outputs": [],
   "source": [
    "numbers = [1, 2, 3, 4, 5]\n",
    "result = filter(lambda x: x % 2 == 0, numbers)\n",
    "print(list(result))"
   ]
  },
  {
   "cell_type": "markdown",
   "id": "f04c8992-3111-42f9-955c-9fa6669bddff",
   "metadata": {},
   "source": [
    "#### reduce() 函数\n",
    "reduce() 函数通常用于对序列进行某种累积操作，它在 functools 模块中。\n",
    "\n",
    "reduce() 函数的基本语法如下：\n",
    "\n",
    "from functools import reduce\n",
    "\n",
    "reduce(function, iterable[, initializer])\n",
    "\n",
    "- function 是一个接受两个参数的函数。它会被应用到序列的前两个元素，然后再将结果与第三个元素结合，以此类推，最终累积为一个单一的返回值。\n",
    "- iterable 是一个序列。\n",
    "- initializer 是一个可选的初始值，如果提供，则作为计算的起点值。"
   ]
  },
  {
   "cell_type": "code",
   "execution_count": null,
   "id": "14a1c040-68bc-4026-afe2-59d423080cd1",
   "metadata": {},
   "outputs": [],
   "source": [
    "from functools import reduce\n",
    "\n",
    "numbers = [1, 2, 3, 4, 5]\n",
    "result = reduce(lambda x, y: x * y, numbers)\n",
    "print(result)"
   ]
  },
  {
   "cell_type": "markdown",
   "id": "9dd4321c-4d8e-4bf4-817e-5f7b655c26a3",
   "metadata": {},
   "source": [
    "#### return 语句\n",
    "return [表达式] 语句用于退出函数，选择性地向调用方返回一个表达式。不带参数值的 return 语句返回 None。之前的例子都没有示范如何返回数值，以下实例演示了 return 语句的用法："
   ]
  },
  {
   "cell_type": "code",
   "execution_count": 1,
   "id": "c4f2af51-eff6-4d37-a5a6-28b5401463f5",
   "metadata": {},
   "outputs": [
    {
     "name": "stdout",
     "output_type": "stream",
     "text": [
      "函数内 :  30\n",
      "函数外 :  30\n"
     ]
    }
   ],
   "source": [
    "# 可写函数说明\n",
    "def sum( arg1, arg2 ):\n",
    "   # 返回2个参数的和.\"\n",
    "   total = arg1 + arg2\n",
    "   print (\"函数内 : \", total)\n",
    "   return total\n",
    " \n",
    "# 调用sum函数\n",
    "total = sum( 10, 20 )\n",
    "print (\"函数外 : \", total)"
   ]
  },
  {
   "cell_type": "markdown",
   "id": "8e0f4977-7492-4bfe-a877-09202866cfcf",
   "metadata": {},
   "source": [
    "### 模块"
   ]
  },
  {
   "cell_type": "code",
   "execution_count": 7,
   "id": "6da97e9c-ce51-4b4d-977a-4634f6dd03c1",
   "metadata": {},
   "outputs": [
    {
     "name": "stdout",
     "output_type": "stream",
     "text": [
      "命令行参数如下:\n",
      "/Users/mba_yuboxu/opt/anaconda3/lib/python3.9/site-packages/ipykernel_launcher.py\n",
      "-f\n",
      "/Users/mba_yuboxu/Library/Jupyter/runtime/kernel-0778344d-a5a1-4d7f-90c8-4ee4de33c9a1.json\n",
      "\n",
      "\n",
      "Python 路径为： ['/Users/mba_yuboxu/Desktop/python', '/Users/mba_yuboxu/opt/anaconda3/lib/python39.zip', '/Users/mba_yuboxu/opt/anaconda3/lib/python3.9', '/Users/mba_yuboxu/opt/anaconda3/lib/python3.9/lib-dynload', '', '/Users/mba_yuboxu/opt/anaconda3/lib/python3.9/site-packages', '/Users/mba_yuboxu/opt/anaconda3/lib/python3.9/site-packages/aeosa'] \n",
      "\n"
     ]
    }
   ],
   "source": [
    "# 文件名: using_sys.py\n",
    " \n",
    "import sys\n",
    " \n",
    "print('命令行参数如下:')\n",
    "for i in sys.argv:\n",
    "   print(i)\n",
    " \n",
    "print('\\n\\nPython 路径为：', sys.path, '\\n')"
   ]
  },
  {
   "cell_type": "markdown",
   "id": "f3d16bce-0662-4845-96c8-7573fb870447",
   "metadata": {},
   "source": [
    "### 输入输出"
   ]
  },
  {
   "cell_type": "markdown",
   "id": "329869c2-1fec-42c7-abc1-0c6b568bfa3d",
   "metadata": {},
   "source": [
    "#### 输出格式美化\n",
    "Python两种输出值的方式: 表达式语句和 print() 函数。\n",
    "\n",
    "第三种方式是使用文件对象的 write() 方法，标准输出文件可以用 sys.stdout 引用。\n",
    "\n",
    "如果你希望输出的形式更加多样，可以使用 str.format() 函数来格式化输出值。\n",
    "\n",
    "如果你希望将输出的值转成字符串，可以使用 repr() 或 str() 函数来实现。\n",
    "\n",
    "- str()： 函数返回一个用户易读的表达形式。\n",
    "- repr()： 产生一个解释器易读的表达形式。"
   ]
  },
  {
   "cell_type": "code",
   "execution_count": 14,
   "id": "55d4ef9a-a7c4-4e23-812a-e45f32a8a46a",
   "metadata": {},
   "outputs": [
    {
     "name": "stdout",
     "output_type": "stream",
     "text": [
      "x 的值为： 32.5,  y 的值为：40000...\n",
      "'hello, runoob\\n'\n"
     ]
    },
    {
     "data": {
      "text/plain": [
       "\"(32.5, 40000, ('Google', 'Runoob'))\""
      ]
     },
     "execution_count": 14,
     "metadata": {},
     "output_type": "execute_result"
    }
   ],
   "source": [
    "x = 10 * 3.25\n",
    "y = 200 * 200\n",
    "s = 'x 的值为： ' + repr(x) + ',  y 的值为：' + repr(y) + '...'\n",
    "print(s)\n",
    "\n",
    "#  repr() 函数可以转义字符串中的特殊字符\n",
    "hello = 'hello, runoob\\n'\n",
    "hellos = repr(hello)\n",
    "print(hellos)\n",
    "\n",
    "# repr() 的参数可以是 Python 的任何对象\n",
    "repr((x, y, ('Google', 'Runoob')))"
   ]
  },
  {
   "cell_type": "code",
   "execution_count": 18,
   "id": "1df8c1be-9676-4802-bc85-13b79a31e822",
   "metadata": {},
   "outputs": [
    {
     "name": "stdout",
     "output_type": "stream",
     "text": [
      " 1   1    1\n",
      " 2   4    8\n",
      " 3   9   27\n",
      " 4  16   64\n",
      " 5  25  125\n",
      " 6  36  216\n",
      " 7  49  343\n",
      " 8  64  512\n",
      " 9  81  729\n",
      "10 100 1000\n",
      "------------\n",
      " 1   1    1\n",
      " 2   4    8\n",
      " 3   9   27\n",
      " 4  16   64\n",
      " 5  25  125\n",
      " 6  36  216\n",
      " 7  49  343\n",
      " 8  64  512\n",
      " 9  81  729\n",
      "10 100 1000\n"
     ]
    }
   ],
   "source": [
    "# 两种方式输出一个平方与立方的表\n",
    "for x in range(1, 11):\n",
    "     print(repr(x).rjust(2), repr(x*x).rjust(3), end=' ')\n",
    "     # 注意前一行 'end' 的使用\n",
    "     print(repr(x*x*x).rjust(4))\n",
    "\n",
    "print(\"-------------\")\n",
    "\n",
    "for x in range(1, 11):\n",
    "     print('{0:2d} {1:3d} {2:4d}'.format(x, x*x, x*x*x))"
   ]
  },
  {
   "cell_type": "code",
   "execution_count": 24,
   "id": "ec31a1a3-7b41-4714-b6dd-2c74161d666e",
   "metadata": {},
   "outputs": [
    {
     "name": "stdout",
     "output_type": "stream",
     "text": [
      "菜鸟教程网址： \"www.runoob.com!\"\n",
      "------------------------------------\n",
      "Google 和 Runoob\n",
      "Runoob 和 Google\n",
      "------------------------------------\n",
      "菜鸟教程网址： www.runoob.com\n",
      "站点列表 Google, Runoob, 和 Taobao。\n",
      "------------------------------------\n",
      "常量 PI 的值近似为： 3.141592653589793。\n",
      "常量 PI 的值近似为： 3.141592653589793。\n",
      "------------------------------------\n",
      "常量 PI 的值近似为 3.142。\n",
      "------------------------------------\n",
      "Google     ==>          1\n",
      "Runoob     ==>          2\n",
      "Taobao     ==>          3\n",
      "------------------------------------\n",
      "Runoob: 2; Google: 1; Taobao: 3\n",
      "------------------------------------\n",
      "Runoob: 2; Google: 1; Taobao: 3\n"
     ]
    }
   ],
   "source": [
    "# str.format() 的基本使用\n",
    "print('{}网址： \"{}!\"'.format('菜鸟教程', 'www.runoob.com'))\n",
    "print(\"------------------------------------\")\n",
    "\n",
    "print('{0} 和 {1}'.format('Google', 'Runoob'))\n",
    "print('{1} 和 {0}'.format('Google', 'Runoob'))\n",
    "print(\"------------------------------------\")\n",
    "\n",
    "# 如果在 format() 中使用了关键字参数, 那么它们的值会指向使用该名字的参数。\n",
    "print('{name}网址： {site}'.format(name='菜鸟教程', site='www.runoob.com'))\n",
    "# 位置及关键字参数可以任意的结合:\n",
    "print('站点列表 {0}, {1}, 和 {other}。'.format('Google', 'Runoob', other='Taobao'))\n",
    "print(\"------------------------------------\")\n",
    "\n",
    "# !a (使用 ascii()), !s (使用 str()) 和 !r (使用 repr()) 可以用于在格式化某个值之前对其进行转化\n",
    "import math\n",
    "print('常量 PI 的值近似为： {}。'.format(math.pi))\n",
    "print('常量 PI 的值近似为： {!r}。'.format(math.pi))\n",
    "print(\"------------------------------------\")\n",
    "\n",
    "# 可选项 : 和格式标识符可以跟着字段名。 这就允许对值进行更好的格式化。\n",
    "print('常量 PI 的值近似为 {0:.3f}。'.format(math.pi))   # 将 Pi 保留到小数点后三位\n",
    "print(\"------------------------------------\")\n",
    "\n",
    "# 在 : 后传入一个整数, 可以保证该域至少有这么多的宽度。 用于美化表格时很有用。\n",
    "table = {'Google': 1, 'Runoob': 2, 'Taobao': 3}\n",
    "for name, number in table.items():\n",
    "     print('{0:10} ==> {1:10d}'.format(name, number))\n",
    "print(\"------------------------------------\")\n",
    "        \n",
    "# 如果你有一个很长的格式化字符串, 而你不想将它们分开, 那么在格式化时通过变量名而非位置会是很好的事情。\n",
    "# 最简单的就是传入一个字典, 然后使用方括号 [] 来访问键值 :\n",
    "table = {'Google': 1, 'Runoob': 2, 'Taobao': 3}\n",
    "print('Runoob: {0[Runoob]:d}; Google: {0[Google]:d}; Taobao: {0[Taobao]:d}'.format(table))\n",
    "print(\"------------------------------------\")\n",
    "\n",
    "# 也可以通过在 table 变量前使用 ** 来实现相同的功能：\n",
    "table = {'Google': 1, 'Runoob': 2, 'Taobao': 3}\n",
    "print('Runoob: {Runoob:d}; Google: {Google:d}; Taobao: {Taobao:d}'.format(**table))"
   ]
  },
  {
   "cell_type": "markdown",
   "id": "c41258d8-9684-42f9-a796-0ed90ac81790",
   "metadata": {},
   "source": [
    "#### 读取键盘输入\n",
    "Python 提供了 input() 内置函数从标准输入读入一行文本，默认的标准输入是键盘。"
   ]
  },
  {
   "cell_type": "code",
   "execution_count": 25,
   "id": "538802c4-6195-49b8-bb29-c601b9cdc515",
   "metadata": {},
   "outputs": [
    {
     "name": "stdin",
     "output_type": "stream",
     "text": [
      "请输入： 111\n"
     ]
    },
    {
     "name": "stdout",
     "output_type": "stream",
     "text": [
      "你输入的内容是:  111\n"
     ]
    }
   ],
   "source": [
    "str = input(\"请输入：\");\n",
    "print (\"你输入的内容是: \", str)"
   ]
  },
  {
   "cell_type": "markdown",
   "id": "78a13f91-989a-4855-a436-6a42c27bc24c",
   "metadata": {},
   "source": [
    "#### 读和写文件\n",
    "open() 将会返回一个 file 对象，基本语法格式如下:"
   ]
  },
  {
   "cell_type": "code",
   "execution_count": 28,
   "id": "8c74564e-c7d5-4c21-87d1-6a6d6f65aa42",
   "metadata": {},
   "outputs": [],
   "source": [
    "# 打开一个文件\n",
    "f = open(\"foo.txt\", \"w\")\n",
    "\n",
    "f.write( \"Python 是一个非常好的语言。\\n是的，的确非常好!!\\n\" )\n",
    "\n",
    "# 关闭打开的文件\n",
    "f.close()"
   ]
  },
  {
   "cell_type": "markdown",
   "id": "c130d1f4-0c2f-4923-80ee-c61dedc9b992",
   "metadata": {
    "tags": []
   },
   "source": [
    "#### 文件对象的方法"
   ]
  },
  {
   "cell_type": "code",
   "execution_count": 30,
   "id": "e49288d3-6673-4851-8bfd-266c65ba3afa",
   "metadata": {},
   "outputs": [
    {
     "name": "stdout",
     "output_type": "stream",
     "text": [
      "Python 是一个非常好的语言。\n",
      "是的，的确非常好!!\n",
      "\n"
     ]
    }
   ],
   "source": [
    "# f.read() 读取文件内容\n",
    "\n",
    "# 打开一个文件\n",
    "f = open(\"foo.txt\", \"r\")\n",
    "\n",
    "str = f.read()\n",
    "print(str)\n",
    "\n",
    "# 关闭打开的文件\n",
    "f.close()"
   ]
  },
  {
   "cell_type": "code",
   "execution_count": 35,
   "id": "8e2e849b-6000-4c4e-abe0-0ea4253c79d8",
   "metadata": {},
   "outputs": [
    {
     "name": "stdout",
     "output_type": "stream",
     "text": [
      "Python 是一个非常好的语言。\n",
      "\n"
     ]
    }
   ],
   "source": [
    "# f.readline() f.readline() 会从文件中读取单独的一行。换行符为 '\\n'。\n",
    "# f.readline() 如果返回一个空字符串, 说明已经已经读取到最后一行。\n",
    "# 打开一个文件\n",
    "f = open(\"foo.txt\", \"r\")\n",
    "\n",
    "str = f.readline()\n",
    "print(str)\n",
    "\n",
    "# 关闭打开的文件\n",
    "f.close()"
   ]
  },
  {
   "cell_type": "code",
   "execution_count": 36,
   "id": "8e98ed5e-dced-4e78-8541-e82f723f7411",
   "metadata": {},
   "outputs": [
    {
     "name": "stdout",
     "output_type": "stream",
     "text": [
      "['Python 是一个非常好的语言。\\n', '是的，的确非常好!!\\n']\n"
     ]
    }
   ],
   "source": [
    "# f.readlines() 将返回该文件中包含的所有行。\n",
    "# 如果设置可选参数 sizehint, 则读取指定长度的字节, 并且将这些字节按行分割。\n",
    "# 打开一个文件\n",
    "f = open(\"foo.txt\", \"r\")\n",
    "\n",
    "str = f.readlines()\n",
    "print(str)\n",
    "\n",
    "# 关闭打开的文件\n",
    "f.close()"
   ]
  },
  {
   "cell_type": "code",
   "execution_count": 37,
   "id": "601cbf15-8e64-44c4-bf29-dde47393a732",
   "metadata": {},
   "outputs": [
    {
     "name": "stdout",
     "output_type": "stream",
     "text": [
      "29\n"
     ]
    }
   ],
   "source": [
    "# f.write(string) 将 string 写入到文件中, 然后返回写入的字符数。\n",
    "# 打开一个文件\n",
    "f = open(\"foo.txt\", \"w\")\n",
    "\n",
    "num = f.write( \"Python 是一个非常好的语言。\\n是的，的确非常好!!\\n\" )\n",
    "print(num)\n",
    "# 关闭打开的文件\n",
    "f.close()"
   ]
  },
  {
   "cell_type": "markdown",
   "id": "ac5ffa06-1d24-43d4-a745-29d4b60048b0",
   "metadata": {},
   "source": [
    "f.tell() 用于返回文件当前的读/写位置（即文件指针的位置）。\n",
    "\n",
    "f.seek()\n",
    "\n",
    "如果要改变文件指针当前的位置, 可以使用 f.seek(offset, from_what) 函数。\n",
    "\n",
    "f.seek(offset, whence) 用于移动文件指针到指定位置。\n",
    "\n",
    "offset 表示相对于 whence 参数的偏移量，from_what 的值, 如果是 0 表示开头, 如果是 1 表示当前位置, 2 表示文件的结尾，例如：\n",
    "\n",
    "- seek(x,0) ：从起始位置即文件首行首字符开始移动 x 个字符\n",
    "- seek(x,1) ：表示从当前位置往后移动x个字符\n",
    "- seek(-x,2)：表示从文件的结尾往前移动x个字符"
   ]
  },
  {
   "cell_type": "code",
   "execution_count": 42,
   "id": "33797a75-cd24-4d3a-aac7-f260c7f811ac",
   "metadata": {},
   "outputs": [
    {
     "data": {
      "text/plain": [
       "b'd'"
      ]
     },
     "execution_count": 42,
     "metadata": {},
     "output_type": "execute_result"
    }
   ],
   "source": [
    "# from_what 值为默认为0，即文件开头。下面给出一个完整的例子：\n",
    "f = open('foo.txt', 'rb+')\n",
    "f.write(b'0123456789abcdef')\n",
    "\n",
    "f.seek(5)     # 移动到文件的第六个字节\n",
    "f.read(1)\n",
    "f.seek(-3, 2) # 移动到文件的倒数第三字节\n",
    "f.read(1)"
   ]
  },
  {
   "cell_type": "markdown",
   "id": "a79042bc-9c51-4290-9302-8d5268be621d",
   "metadata": {},
   "source": [
    "f.close()\n",
    "\n",
    "在文本文件中 (那些打开文件的模式下没有 b 的), 只会相对于文件起始位置进行定位。\n",
    "\n",
    "当你处理完一个文件后, 调用 f.close() 来关闭文件并释放系统的资源，如果尝试再调用该文件，则会抛出异常。\n",
    "\n",
    "当处理一个文件对象时, 使用 with 关键字是非常好的方式。在结束后, 它会帮你正确的关闭文件。 而且写起来也比 try - finally 语句块要简短:with open('/tmp/foo.txt', 'r') as f:\n",
    "...     read_data = f.read()"
   ]
  },
  {
   "cell_type": "code",
   "execution_count": 44,
   "id": "514b8ffc-1789-479f-b64b-8c6c4b866894",
   "metadata": {},
   "outputs": [
    {
     "data": {
      "text/plain": [
       "True"
      ]
     },
     "execution_count": 44,
     "metadata": {},
     "output_type": "execute_result"
    }
   ],
   "source": [
    "with open('foo.txt', 'r') as f:\n",
    "     read_data = f.read()\n",
    "\n",
    "f.closed"
   ]
  },
  {
   "cell_type": "markdown",
   "id": "a020fde7-523c-40eb-9d1d-78b9e41ae736",
   "metadata": {},
   "source": [
    "#### pickle 模块\n",
    "python的pickle模块实现了基本的数据序列和反序列化。\n",
    "\n",
    "通过pickle模块的序列化操作我们能够将程序中运行的对象信息保存到文件中去，永久存储。\n",
    "\n",
    "通过pickle模块的反序列化操作，我们能够从文件中创建上一次程序保存的对象。\n",
    "\n",
    "基本接口：\n",
    "\n",
    "pickle.dump(obj, file, [,protocol])\n",
    "\n",
    "有了 pickle 这个对象, 就能对 file 以读取的形式打开:\n",
    "\n",
    "x = pickle.load(file)\n",
    "\n",
    "注解：从 file 中读取一个字符串，并将它重构为原来的python对象。\n",
    "\n",
    "file: 类文件对象，有read()和readline()接口。"
   ]
  },
  {
   "cell_type": "code",
   "execution_count": 45,
   "id": "67422a30-7c05-49dd-9671-74baa3cb1f84",
   "metadata": {},
   "outputs": [],
   "source": [
    "#!/usr/bin/python3\n",
    "import pickle\n",
    "\n",
    "# 使用pickle模块将数据对象保存到文件\n",
    "data1 = {'a': [1, 2.0, 3, 4+6j],\n",
    "         'b': ('string', u'Unicode string'),\n",
    "         'c': None}\n",
    "\n",
    "selfref_list = [1, 2, 3]\n",
    "selfref_list.append(selfref_list)\n",
    "\n",
    "output = open('data.pkl', 'wb')\n",
    "\n",
    "# Pickle dictionary using protocol 0.\n",
    "pickle.dump(data1, output)\n",
    "\n",
    "# Pickle the list using the highest protocol available.\n",
    "pickle.dump(selfref_list, output, -1)\n",
    "\n",
    "output.close()"
   ]
  },
  {
   "cell_type": "code",
   "execution_count": 46,
   "id": "42aea7fc-56f9-40c5-866f-18cd93a3295a",
   "metadata": {},
   "outputs": [
    {
     "name": "stdout",
     "output_type": "stream",
     "text": [
      "{'a': [1, 2.0, 3, (4+6j)], 'b': ('string', 'Unicode string'), 'c': None}\n",
      "[1, 2, 3, <Recursion on list with id=140426392500480>]\n"
     ]
    }
   ],
   "source": [
    "#!/usr/bin/python3\n",
    "import pprint, pickle\n",
    "\n",
    "#使用pickle模块从文件中重构python对象\n",
    "pkl_file = open('data.pkl', 'rb')\n",
    "\n",
    "data1 = pickle.load(pkl_file)\n",
    "pprint.pprint(data1)\n",
    "\n",
    "data2 = pickle.load(pkl_file)\n",
    "pprint.pprint(data2)\n",
    "\n",
    "pkl_file.close()"
   ]
  },
  {
   "cell_type": "markdown",
   "id": "3345630a-81fd-43a5-aeed-843f7a380d35",
   "metadata": {},
   "source": [
    "### 错误与异常"
   ]
  },
  {
   "cell_type": "code",
   "execution_count": 47,
   "id": "dbecd4df-77bf-49f1-ada6-77f8341e3592",
   "metadata": {},
   "outputs": [
    {
     "name": "stdin",
     "output_type": "stream",
     "text": [
      "请输入一个数字:  3.9\n"
     ]
    },
    {
     "name": "stdout",
     "output_type": "stream",
     "text": [
      "您输入的不是数字，请再次尝试输入！\n"
     ]
    },
    {
     "name": "stdin",
     "output_type": "stream",
     "text": [
      "请输入一个数字:  3\n"
     ]
    }
   ],
   "source": [
    "while True:\n",
    "    try:\n",
    "        x = int(input(\"请输入一个数字: \"))\n",
    "        break\n",
    "    except ValueError:\n",
    "        print(\"您输入的不是数字，请再次尝试输入！\")"
   ]
  },
  {
   "cell_type": "markdown",
   "id": "9a05b0cf-557a-45fd-8f05-a7d04e45fac1",
   "metadata": {},
   "source": [
    "#### try/except 语句\n",
    "try 语句按照如下方式工作；\n",
    "\n",
    "- 首先，执行 try 子句（在关键字 try 和关键字 except 之间的语句）。\n",
    "\n",
    "- 如果没有异常发生，忽略 except 子句，try 子句执行后结束。\n",
    "\n",
    "- 如果在执行 try 子句的过程中发生了异常，那么 try 子句余下的部分将被忽略。如果异常的类型和 except 之后的名称相符，那么对应的 except 子句将被执行。\n",
    "\n",
    "- 如果一个异常没有与任何的 except 匹配，那么这个异常将会传递给上层的 try 中。\n",
    "\n",
    "一个 try 语句可能包含多个except子句，分别来处理不同的特定的异常。最多只有一个分支会被执行。\n",
    "\n",
    "处理程序将只针对对应的 try 子句中的异常进行处理，而不是其他的 try 的处理程序中的异常。\n",
    "\n",
    "一个except子句可以同时处理多个异常，这些异常将被放在一个括号里成为一个元组，例如:"
   ]
  },
  {
   "cell_type": "code",
   "execution_count": 49,
   "id": "fd2f62e5-9875-4cff-9ce5-1a6b58091509",
   "metadata": {},
   "outputs": [
    {
     "name": "stdin",
     "output_type": "stream",
     "text": [
      "请输入一个数字:  1\n"
     ]
    }
   ],
   "source": [
    "while True:\n",
    "    try:\n",
    "        x = int(input(\"请输入一个数字: \"))\n",
    "        break\n",
    "    except (RuntimeError, TypeError, NameError):\n",
    "        print(\"您输入的不是数字，请再次尝试输入！\")"
   ]
  },
  {
   "cell_type": "markdown",
   "id": "58d8147a-78a4-4982-8075-8e5bb46c86a0",
   "metadata": {},
   "source": [
    "最后一个except子句可以忽略异常的名称，它将被当作通配符使用。你可以使用这种方法打印一个错误信息，然后再次把异常抛出。"
   ]
  },
  {
   "cell_type": "code",
   "execution_count": 50,
   "id": "2c41c9c0-e041-47fb-a389-6d5f48d45734",
   "metadata": {},
   "outputs": [
    {
     "name": "stdout",
     "output_type": "stream",
     "text": [
      "OS error: [Errno 2] No such file or directory: 'myfile.txt'\n"
     ]
    }
   ],
   "source": [
    "import sys\n",
    "\n",
    "try:\n",
    "    f = open('myfile.txt')\n",
    "    s = f.readline()\n",
    "    i = int(s.strip())\n",
    "except OSError as err:\n",
    "    print(\"OS error: {0}\".format(err))\n",
    "except ValueError:\n",
    "    print(\"Could not convert data to an integer.\")\n",
    "except:\n",
    "    print(\"Unexpected error:\", sys.exc_info()[0])\n",
    "    raise"
   ]
  },
  {
   "cell_type": "markdown",
   "id": "4d9aeca2-d4d6-40ae-822b-500dfdc6905c",
   "metadata": {},
   "source": [
    "#### try/except...else 语句\n",
    "try/except 语句还有一个可选的 else 子句，如果使用这个子句，那么必须放在所有的 except 子句之后。\n",
    "\n",
    "else 子句将在 try 子句没有发生任何异常的时候执行。"
   ]
  },
  {
   "cell_type": "code",
   "execution_count": 51,
   "id": "50ae5562-4b75-42e3-b381-15b99ab45448",
   "metadata": {},
   "outputs": [
    {
     "name": "stdout",
     "output_type": "stream",
     "text": [
      "cannot open -f\n",
      "/Users/mba_yuboxu/Library/Jupyter/runtime/kernel-0778344d-a5a1-4d7f-90c8-4ee4de33c9a1.json has 12 lines\n"
     ]
    }
   ],
   "source": [
    "for arg in sys.argv[1:]:\n",
    "    try:\n",
    "        f = open(arg, 'r')\n",
    "    except IOError:\n",
    "        print('cannot open', arg)\n",
    "    else:\n",
    "        print(arg, 'has', len(f.readlines()), 'lines')\n",
    "        f.close()"
   ]
  },
  {
   "cell_type": "markdown",
   "id": "96a111b9-d86c-4929-9a70-699c8b77081a",
   "metadata": {},
   "source": [
    "使用 else 子句比把所有的语句都放在 try 子句里面要好，这样可以避免一些意想不到，而 except 又无法捕获的异常。\n",
    "\n",
    "异常处理并不仅仅处理那些直接发生在 try 子句中的异常，而且还能处理子句中调用的函数（甚至间接调用的函数）里抛出的异常。例如:"
   ]
  },
  {
   "cell_type": "code",
   "execution_count": 52,
   "id": "2b3da7d7-d802-49d1-a7bd-f39683958d9d",
   "metadata": {},
   "outputs": [
    {
     "name": "stdout",
     "output_type": "stream",
     "text": [
      "Handling run-time error: division by zero\n"
     ]
    }
   ],
   "source": [
    "def this_fails():\n",
    "    x = 1/0\n",
    "\n",
    "try:\n",
    "    this_fails()\n",
    "except ZeroDivisionError as err:\n",
    "    print('Handling run-time error:', err)"
   ]
  },
  {
   "cell_type": "markdown",
   "id": "80868f7d-d633-41fa-81fa-3635090fcf43",
   "metadata": {},
   "source": [
    "#### try-finally 语句\n",
    "try-finally 语句无论是否发生异常都将执行最后的代码。"
   ]
  },
  {
   "cell_type": "code",
   "execution_count": 53,
   "id": "a16a2b4b-779b-4eb3-b39e-12720ed8e588",
   "metadata": {},
   "outputs": [
    {
     "name": "stdout",
     "output_type": "stream",
     "text": [
      "这句话，无论异常是否发生都会执行。\n"
     ]
    },
    {
     "ename": "NameError",
     "evalue": "name 'runoob' is not defined",
     "output_type": "error",
     "traceback": [
      "\u001b[0;31m---------------------------------------------------------------------------\u001b[0m",
      "\u001b[0;31mNameError\u001b[0m                                 Traceback (most recent call last)",
      "Input \u001b[0;32mIn [53]\u001b[0m, in \u001b[0;36m<cell line: 1>\u001b[0;34m()\u001b[0m\n\u001b[1;32m      1\u001b[0m \u001b[38;5;28;01mtry\u001b[39;00m:\n\u001b[0;32m----> 2\u001b[0m     \u001b[43mrunoob\u001b[49m()\n\u001b[1;32m      3\u001b[0m \u001b[38;5;28;01mexcept\u001b[39;00m \u001b[38;5;167;01mAssertionError\u001b[39;00m \u001b[38;5;28;01mas\u001b[39;00m error:\n\u001b[1;32m      4\u001b[0m     \u001b[38;5;28mprint\u001b[39m(error)\n",
      "\u001b[0;31mNameError\u001b[0m: name 'runoob' is not defined"
     ]
    }
   ],
   "source": [
    "try:\n",
    "    runoob()\n",
    "except AssertionError as error:\n",
    "    print(error)\n",
    "else:\n",
    "    try:\n",
    "        with open('file.log') as file:\n",
    "            read_data = file.read()\n",
    "    except FileNotFoundError as fnf_error:\n",
    "        print(fnf_error)\n",
    "finally:\n",
    "    print('这句话，无论异常是否发生都会执行。')"
   ]
  },
  {
   "cell_type": "markdown",
   "id": "0add11a6-a022-476a-b9a2-ed2e41be0caf",
   "metadata": {},
   "source": [
    "#### 抛出异常\n",
    "Python 使用 raise 语句抛出一个指定的异常。\n",
    "\n",
    "raise语法格式如下：\n",
    "\n",
    "raise [Exception [, args [, traceback]]]"
   ]
  },
  {
   "cell_type": "code",
   "execution_count": 54,
   "id": "9e6c7125-48d3-4217-a2ac-ac0d8fc75544",
   "metadata": {},
   "outputs": [
    {
     "ename": "Exception",
     "evalue": "x 不能大于 5。x 的值为: 10",
     "output_type": "error",
     "traceback": [
      "\u001b[0;31m---------------------------------------------------------------------------\u001b[0m",
      "\u001b[0;31mException\u001b[0m                                 Traceback (most recent call last)",
      "Input \u001b[0;32mIn [54]\u001b[0m, in \u001b[0;36m<cell line: 3>\u001b[0;34m()\u001b[0m\n\u001b[1;32m      2\u001b[0m x \u001b[38;5;241m=\u001b[39m \u001b[38;5;241m10\u001b[39m\n\u001b[1;32m      3\u001b[0m \u001b[38;5;28;01mif\u001b[39;00m x \u001b[38;5;241m>\u001b[39m \u001b[38;5;241m5\u001b[39m:\n\u001b[0;32m----> 4\u001b[0m     \u001b[38;5;28;01mraise\u001b[39;00m \u001b[38;5;167;01mException\u001b[39;00m(\u001b[38;5;124m'\u001b[39m\u001b[38;5;124mx 不能大于 5。x 的值为: \u001b[39m\u001b[38;5;132;01m{}\u001b[39;00m\u001b[38;5;124m'\u001b[39m\u001b[38;5;241m.\u001b[39mformat(x))\n",
      "\u001b[0;31mException\u001b[0m: x 不能大于 5。x 的值为: 10"
     ]
    }
   ],
   "source": [
    "# 如果 x 大于 5 就触发异常:\n",
    "x = 10\n",
    "if x > 5:\n",
    "    raise Exception('x 不能大于 5。x 的值为: {}'.format(x))"
   ]
  },
  {
   "cell_type": "markdown",
   "id": "263b0d6d-f449-4375-bd4c-c5ed198ac7d9",
   "metadata": {},
   "source": [
    "raise 唯一的一个参数指定了要被抛出的异常。它必须是一个异常的实例或者是异常的类（也就是 Exception 的子类）。\n",
    "\n",
    "如果你只想知道这是否抛出了一个异常，并不想去处理它，那么一个简单的 raise 语句就可以再次把它抛出。"
   ]
  },
  {
   "cell_type": "code",
   "execution_count": 55,
   "id": "e4987cc1-039a-4869-b24c-c4ccc80f8374",
   "metadata": {},
   "outputs": [
    {
     "name": "stdout",
     "output_type": "stream",
     "text": [
      "An exception flew by!\n"
     ]
    },
    {
     "ename": "NameError",
     "evalue": "HiThere",
     "output_type": "error",
     "traceback": [
      "\u001b[0;31m---------------------------------------------------------------------------\u001b[0m",
      "\u001b[0;31mNameError\u001b[0m                                 Traceback (most recent call last)",
      "Input \u001b[0;32mIn [55]\u001b[0m, in \u001b[0;36m<cell line: 1>\u001b[0;34m()\u001b[0m\n\u001b[1;32m      1\u001b[0m \u001b[38;5;28;01mtry\u001b[39;00m:\n\u001b[0;32m----> 2\u001b[0m     \u001b[38;5;28;01mraise\u001b[39;00m \u001b[38;5;167;01mNameError\u001b[39;00m(\u001b[38;5;124m'\u001b[39m\u001b[38;5;124mHiThere\u001b[39m\u001b[38;5;124m'\u001b[39m)  \u001b[38;5;66;03m# 模拟一个异常。\u001b[39;00m\n\u001b[1;32m      3\u001b[0m \u001b[38;5;28;01mexcept\u001b[39;00m \u001b[38;5;167;01mNameError\u001b[39;00m:\n\u001b[1;32m      4\u001b[0m     \u001b[38;5;28mprint\u001b[39m(\u001b[38;5;124m'\u001b[39m\u001b[38;5;124mAn exception flew by!\u001b[39m\u001b[38;5;124m'\u001b[39m)\n",
      "\u001b[0;31mNameError\u001b[0m: HiThere"
     ]
    }
   ],
   "source": [
    "try:\n",
    "    raise NameError('HiThere')  # 模拟一个异常。\n",
    "except NameError:\n",
    "    print('An exception flew by!')\n",
    "    raise"
   ]
  },
  {
   "cell_type": "markdown",
   "id": "68b90eaf-bf3b-47c2-95e6-1f91c16fe754",
   "metadata": {},
   "source": [
    "#### 用户自定义异常\n",
    "你可以通过创建一个新的异常类来拥有自己的异常。异常类继承自 Exception 类，可以直接继承，或者间接继承。"
   ]
  },
  {
   "cell_type": "code",
   "execution_count": 56,
   "id": "8a38cca6-4e93-42e5-8b85-8c3748a5ccf8",
   "metadata": {},
   "outputs": [
    {
     "name": "stdout",
     "output_type": "stream",
     "text": [
      "My exception occurred, value: 4\n"
     ]
    },
    {
     "ename": "MyError",
     "evalue": "'oops!'",
     "output_type": "error",
     "traceback": [
      "\u001b[0;31m---------------------------------------------------------------------------\u001b[0m",
      "\u001b[0;31mMyError\u001b[0m                                   Traceback (most recent call last)",
      "Input \u001b[0;32mIn [56]\u001b[0m, in \u001b[0;36m<cell line: 12>\u001b[0;34m()\u001b[0m\n\u001b[1;32m      9\u001b[0m \u001b[38;5;28;01mexcept\u001b[39;00m MyError \u001b[38;5;28;01mas\u001b[39;00m e:\n\u001b[1;32m     10\u001b[0m     \u001b[38;5;28mprint\u001b[39m(\u001b[38;5;124m'\u001b[39m\u001b[38;5;124mMy exception occurred, value:\u001b[39m\u001b[38;5;124m'\u001b[39m, e\u001b[38;5;241m.\u001b[39mvalue)\n\u001b[0;32m---> 12\u001b[0m \u001b[38;5;28;01mraise\u001b[39;00m MyError(\u001b[38;5;124m'\u001b[39m\u001b[38;5;124moops!\u001b[39m\u001b[38;5;124m'\u001b[39m)\n",
      "\u001b[0;31mMyError\u001b[0m: 'oops!'"
     ]
    }
   ],
   "source": [
    "class MyError(Exception):\n",
    "    def __init__(self, value):\n",
    "        self.value = value\n",
    "    def __str__(self):\n",
    "        return repr(self.value)\n",
    "   \n",
    "try:\n",
    "    raise MyError(2*2)\n",
    "except MyError as e:\n",
    "    print('My exception occurred, value:', e.value)\n",
    "\n",
    "raise MyError('oops!')"
   ]
  },
  {
   "cell_type": "markdown",
   "id": "d0bf9fe4-c2b2-4a45-be94-add17e59274c",
   "metadata": {},
   "source": [
    "在这个例子中，类 Exception 默认的 __init__() 被覆盖。\n",
    "\n",
    "当创建一个模块有可能抛出多种不同的异常时，一种通常的做法是为这个包建立一个基础异常类，然后基于这个基础类为不同的错误情况创建不同的子类:"
   ]
  },
  {
   "cell_type": "code",
   "execution_count": 57,
   "id": "ce3a8384-6aa7-4d47-a606-4bf1f2954aa9",
   "metadata": {},
   "outputs": [],
   "source": [
    "class Error(Exception):\n",
    "    \"\"\"Base class for exceptions in this module.\"\"\"\n",
    "    pass\n",
    "\n",
    "class InputError(Error):\n",
    "    \"\"\"Exception raised for errors in the input.\n",
    "\n",
    "    Attributes:\n",
    "        expression -- input expression in which the error occurred\n",
    "        message -- explanation of the error\n",
    "    \"\"\"\n",
    "\n",
    "    def __init__(self, expression, message):\n",
    "        self.expression = expression\n",
    "        self.message = message\n",
    "\n",
    "class TransitionError(Error):\n",
    "    \"\"\"Raised when an operation attempts a state transition that's not\n",
    "    allowed.\n",
    "\n",
    "    Attributes:\n",
    "        previous -- state at beginning of transition\n",
    "        next -- attempted new state\n",
    "        message -- explanation of why the specific transition is not allowed\n",
    "    \"\"\"\n",
    "\n",
    "    def __init__(self, previous, next, message):\n",
    "        self.previous = previous\n",
    "        self.next = next\n",
    "        self.message = message"
   ]
  },
  {
   "cell_type": "markdown",
   "id": "36b70e15-c18f-4cf8-81de-1f7a3268c7f5",
   "metadata": {},
   "source": [
    "#### 定义清理行为\n",
    "try 语句还有另外一个可选的子句，它定义了无论在任何情况下都会执行的清理行为。"
   ]
  },
  {
   "cell_type": "code",
   "execution_count": 58,
   "id": "dabcb48b-cf31-411e-ada1-c3b2d30fb381",
   "metadata": {},
   "outputs": [
    {
     "name": "stdout",
     "output_type": "stream",
     "text": [
      "Goodbye, world!\n"
     ]
    },
    {
     "ename": "KeyboardInterrupt",
     "evalue": "",
     "output_type": "error",
     "traceback": [
      "\u001b[0;31m---------------------------------------------------------------------------\u001b[0m",
      "\u001b[0;31mKeyboardInterrupt\u001b[0m                         Traceback (most recent call last)",
      "Input \u001b[0;32mIn [58]\u001b[0m, in \u001b[0;36m<cell line: 1>\u001b[0;34m()\u001b[0m\n\u001b[1;32m      1\u001b[0m \u001b[38;5;28;01mtry\u001b[39;00m:\n\u001b[0;32m----> 2\u001b[0m     \u001b[38;5;28;01mraise\u001b[39;00m \u001b[38;5;167;01mKeyboardInterrupt\u001b[39;00m\n\u001b[1;32m      3\u001b[0m \u001b[38;5;28;01mfinally\u001b[39;00m:\n\u001b[1;32m      4\u001b[0m     \u001b[38;5;28mprint\u001b[39m(\u001b[38;5;124m'\u001b[39m\u001b[38;5;124mGoodbye, world!\u001b[39m\u001b[38;5;124m'\u001b[39m)\n",
      "\u001b[0;31mKeyboardInterrupt\u001b[0m: "
     ]
    }
   ],
   "source": [
    "try:\n",
    "    raise KeyboardInterrupt\n",
    "finally:\n",
    "    print('Goodbye, world!')"
   ]
  },
  {
   "cell_type": "markdown",
   "id": "5b37267e-562f-4c1e-8aaa-4586b7c8ecd4",
   "metadata": {},
   "source": [
    "以上例子不管 try 子句里面有没有发生异常，finally 子句都会执行。\n",
    "\n",
    "如果一个异常在 try 子句里（或者在 except 和 else 子句里）被抛出，而又没有任何的 except 把它截住，那么这个异常会在 finally 子句执行后被抛出。\n",
    "\n",
    "下面是一个更加复杂的例子（在同一个 try 语句里包含 except 和 finally 子句）:"
   ]
  },
  {
   "cell_type": "code",
   "execution_count": 63,
   "id": "f06099f3-a7d6-4f09-9856-0c9f0b252573",
   "metadata": {},
   "outputs": [
    {
     "name": "stdout",
     "output_type": "stream",
     "text": [
      "result is 2.0\n",
      "executing finally clause\n",
      "--------------------------\n",
      "division by zero!\n",
      "executing finally clause\n",
      "--------------------------\n",
      "executing finally clause\n"
     ]
    },
    {
     "ename": "TypeError",
     "evalue": "unsupported operand type(s) for /: 'str' and 'str'",
     "output_type": "error",
     "traceback": [
      "\u001b[0;31m---------------------------------------------------------------------------\u001b[0m",
      "\u001b[0;31mTypeError\u001b[0m                                 Traceback (most recent call last)",
      "Input \u001b[0;32mIn [63]\u001b[0m, in \u001b[0;36m<cell line: 15>\u001b[0;34m()\u001b[0m\n\u001b[1;32m     13\u001b[0m divide(\u001b[38;5;241m2\u001b[39m, \u001b[38;5;241m0\u001b[39m)\n\u001b[1;32m     14\u001b[0m \u001b[38;5;28mprint\u001b[39m(\u001b[38;5;124m\"\u001b[39m\u001b[38;5;124m--------------------------\u001b[39m\u001b[38;5;124m\"\u001b[39m)\n\u001b[0;32m---> 15\u001b[0m \u001b[43mdivide\u001b[49m\u001b[43m(\u001b[49m\u001b[38;5;124;43m\"\u001b[39;49m\u001b[38;5;124;43m2\u001b[39;49m\u001b[38;5;124;43m\"\u001b[39;49m\u001b[43m,\u001b[49m\u001b[43m \u001b[49m\u001b[38;5;124;43m\"\u001b[39;49m\u001b[38;5;124;43m1\u001b[39;49m\u001b[38;5;124;43m\"\u001b[39;49m\u001b[43m)\u001b[49m\n",
      "Input \u001b[0;32mIn [63]\u001b[0m, in \u001b[0;36mdivide\u001b[0;34m(x, y)\u001b[0m\n\u001b[1;32m      1\u001b[0m \u001b[38;5;28;01mdef\u001b[39;00m \u001b[38;5;21mdivide\u001b[39m(x, y):\n\u001b[1;32m      2\u001b[0m     \u001b[38;5;28;01mtry\u001b[39;00m:\n\u001b[0;32m----> 3\u001b[0m         result \u001b[38;5;241m=\u001b[39m \u001b[43mx\u001b[49m\u001b[43m \u001b[49m\u001b[38;5;241;43m/\u001b[39;49m\u001b[43m \u001b[49m\u001b[43my\u001b[49m\n\u001b[1;32m      4\u001b[0m     \u001b[38;5;28;01mexcept\u001b[39;00m \u001b[38;5;167;01mZeroDivisionError\u001b[39;00m:\n\u001b[1;32m      5\u001b[0m         \u001b[38;5;28mprint\u001b[39m(\u001b[38;5;124m\"\u001b[39m\u001b[38;5;124mdivision by zero!\u001b[39m\u001b[38;5;124m\"\u001b[39m)\n",
      "\u001b[0;31mTypeError\u001b[0m: unsupported operand type(s) for /: 'str' and 'str'"
     ]
    }
   ],
   "source": [
    "def divide(x, y):\n",
    "    try:\n",
    "        result = x / y\n",
    "    except ZeroDivisionError:\n",
    "        print(\"division by zero!\")\n",
    "    else:\n",
    "        print(\"result is\", result)\n",
    "    finally:\n",
    "        print(\"executing finally clause\")\n",
    "        \n",
    "divide(2, 1)\n",
    "print(\"--------------------------\")\n",
    "divide(2, 0)\n",
    "print(\"--------------------------\")\n",
    "divide(\"2\", \"1\")"
   ]
  },
  {
   "cell_type": "markdown",
   "id": "f274d8c6-cc1c-4bd8-b7a3-f3be34500bbf",
   "metadata": {},
   "source": [
    "#### 预定义的清理行为\n",
    "一些对象定义了标准的清理行为，无论系统是否成功的使用了它，一旦不需要它了，那么这个标准的清理行为就会执行。\n",
    "\n",
    "下面这个例子展示了尝试打开一个文件，然后把内容打印到屏幕上:"
   ]
  },
  {
   "cell_type": "code",
   "execution_count": 64,
   "id": "76b4a618-57c3-4919-81a4-57072bcbdf28",
   "metadata": {},
   "outputs": [
    {
     "ename": "FileNotFoundError",
     "evalue": "[Errno 2] No such file or directory: 'myfile.txt'",
     "output_type": "error",
     "traceback": [
      "\u001b[0;31m---------------------------------------------------------------------------\u001b[0m",
      "\u001b[0;31mFileNotFoundError\u001b[0m                         Traceback (most recent call last)",
      "Input \u001b[0;32mIn [64]\u001b[0m, in \u001b[0;36m<cell line: 1>\u001b[0;34m()\u001b[0m\n\u001b[0;32m----> 1\u001b[0m \u001b[38;5;28;01mfor\u001b[39;00m line \u001b[38;5;129;01min\u001b[39;00m \u001b[38;5;28;43mopen\u001b[39;49m\u001b[43m(\u001b[49m\u001b[38;5;124;43m\"\u001b[39;49m\u001b[38;5;124;43mmyfile.txt\u001b[39;49m\u001b[38;5;124;43m\"\u001b[39;49m\u001b[43m)\u001b[49m:\n\u001b[1;32m      2\u001b[0m     \u001b[38;5;28mprint\u001b[39m(line, end\u001b[38;5;241m=\u001b[39m\u001b[38;5;124m\"\u001b[39m\u001b[38;5;124m\"\u001b[39m)\n",
      "\u001b[0;31mFileNotFoundError\u001b[0m: [Errno 2] No such file or directory: 'myfile.txt'"
     ]
    }
   ],
   "source": [
    "for line in open(\"myfile.txt\"):\n",
    "    print(line, end=\"\")"
   ]
  },
  {
   "cell_type": "markdown",
   "id": "7a1e4c8e-e95c-4775-a415-e87a6ca28c01",
   "metadata": {},
   "source": [
    "以上这段代码的问题是，当执行完毕后，文件会保持打开状态，并没有被关闭。\n",
    "\n",
    "关键词 with 语句就可以保证诸如文件之类的对象在使用完之后一定会正确的执行他的清理方法:"
   ]
  },
  {
   "cell_type": "code",
   "execution_count": 65,
   "id": "455377de-3910-4f8d-b055-ecdf5a8efb46",
   "metadata": {},
   "outputs": [
    {
     "ename": "FileNotFoundError",
     "evalue": "[Errno 2] No such file or directory: 'myfile.txt'",
     "output_type": "error",
     "traceback": [
      "\u001b[0;31m---------------------------------------------------------------------------\u001b[0m",
      "\u001b[0;31mFileNotFoundError\u001b[0m                         Traceback (most recent call last)",
      "Input \u001b[0;32mIn [65]\u001b[0m, in \u001b[0;36m<cell line: 1>\u001b[0;34m()\u001b[0m\n\u001b[0;32m----> 1\u001b[0m \u001b[38;5;28;01mwith\u001b[39;00m \u001b[38;5;28;43mopen\u001b[39;49m\u001b[43m(\u001b[49m\u001b[38;5;124;43m\"\u001b[39;49m\u001b[38;5;124;43mmyfile.txt\u001b[39;49m\u001b[38;5;124;43m\"\u001b[39;49m\u001b[43m)\u001b[49m \u001b[38;5;28;01mas\u001b[39;00m f:\n\u001b[1;32m      2\u001b[0m     \u001b[38;5;28;01mfor\u001b[39;00m line \u001b[38;5;129;01min\u001b[39;00m f:\n\u001b[1;32m      3\u001b[0m         \u001b[38;5;28mprint\u001b[39m(line, end\u001b[38;5;241m=\u001b[39m\u001b[38;5;124m\"\u001b[39m\u001b[38;5;124m\"\u001b[39m)\n",
      "\u001b[0;31mFileNotFoundError\u001b[0m: [Errno 2] No such file or directory: 'myfile.txt'"
     ]
    }
   ],
   "source": [
    "with open(\"myfile.txt\") as f:\n",
    "    for line in f:\n",
    "        print(line, end=\"\")"
   ]
  },
  {
   "cell_type": "markdown",
   "id": "145a552b-d6b6-4af4-91a8-d9530a0cbc8b",
   "metadata": {},
   "source": [
    "以上这段代码执行完毕后，就算在处理过程中出问题了，文件 f 总是会关闭。"
   ]
  },
  {
   "cell_type": "markdown",
   "id": "f8bcee86-037b-4c1c-baf8-9e878841c00b",
   "metadata": {},
   "source": [
    "### 类"
   ]
  },
  {
   "cell_type": "markdown",
   "id": "92f3ba9f-9839-481a-b951-7da6b6323d8e",
   "metadata": {},
   "source": [
    "技术简介\n",
    "\n",
    "- 类(Class): 用来描述具有相同的属性和方法的对象的集合。它定义了该集合中每个对象所共有的属性和方法。对象是类的实例。\n",
    "- 方法：类中定义的函数。\n",
    "- 类变量：类变量在整个实例化的对象中是公用的。类变量定义在类中且在函数体之外。类变量通常不作为实例变量使用。\n",
    "- 数据成员：类变量或者实例变量用于处理类及其实例对象的相关的数据。\n",
    "- 方法重写：如果从父类继承的方法不能满足子类的需求，可以对其进行改写，这个过程叫方法的覆盖（override），也称为方法的重写。\n",
    "- 局部变量：定义在方法中的变量，只作用于当前实例的类。\n",
    "- 实例变量：在类的声明中，属性是用变量来表示的，这种变量就称为实例变量，实例变量就是一个用 self 修饰的变量。\n",
    "- 继承：即一个派生类（derived class）继承基类（base class）的字段和方法。继承也允许把一个派生类的对象作为一个基类对象对待。例如，有这样一个设计：一个Dog类型的对象派生自Animal类，这是模拟\"是一个（is-a）\"关系（例图，Dog是一个Animal）。\n",
    "- 实例化：创建一个类的实例，类的具体对象。\n",
    "- 对象：通过类定义的数据结构实例。对象包括两个数据成员（类变量和实例变量）和方法。"
   ]
  },
  {
   "cell_type": "markdown",
   "id": "04aac369-70c0-44f0-8822-ee1a9bb207dd",
   "metadata": {},
   "source": [
    "#### 类定义\n",
    "语法格式如下：\n",
    "\n",
    "class ClassName:\n",
    "\n",
    "    <statement-1>\n",
    "    \n",
    "    .\n",
    "    \n",
    "    .\n",
    "    \n",
    "    .\n",
    "    \n",
    "    <statement-N>\n",
    "    \n",
    "类实例化后，可以使用其属性，实际上，创建一个类之后，可以通过类名访问其属性。"
   ]
  },
  {
   "cell_type": "markdown",
   "id": "a2b43244-6f5e-4c6b-8d92-13903842dd03",
   "metadata": {},
   "source": [
    "#### 类对象\n",
    "类对象支持两种操作：属性引用和实例化。\n",
    "\n",
    "属性引用使用和 Python 中所有的属性引用一样的标准语法：obj.name。\n",
    "\n",
    "类对象创建后，类命名空间中所有的命名都是有效属性名。"
   ]
  },
  {
   "cell_type": "code",
   "execution_count": 67,
   "id": "fe908da5-35f9-4e72-8ecf-c73536777792",
   "metadata": {},
   "outputs": [
    {
     "name": "stdout",
     "output_type": "stream",
     "text": [
      "MyClass 类的属性 i 为： 12345\n",
      "MyClass 类的方法 f 输出为： hello world\n"
     ]
    }
   ],
   "source": [
    "# 创建了一个新的类实例并将该对象赋给局部变量 x，x 为空的对象。\n",
    "class MyClass:\n",
    "    \"\"\"一个简单的类实例\"\"\"\n",
    "    i = 12345\n",
    "    def f(self):\n",
    "        return 'hello world'\n",
    " \n",
    "# 实例化类\n",
    "x = MyClass()\n",
    " \n",
    "# 访问类的属性和方法\n",
    "print(\"MyClass 类的属性 i 为：\", x.i)\n",
    "print(\"MyClass 类的方法 f 输出为：\", x.f())"
   ]
  },
  {
   "cell_type": "markdown",
   "id": "e7c5c1e7-43a7-43ba-92fd-26994780882a",
   "metadata": {},
   "source": [
    "类有一个名为 `__init__()` 的特殊方法`（构造方法）`，该方法在类实例化时会自动调用，像这样：\n",
    "\n",
    "def __init__(self):\n",
    "\n",
    "    self.data = []\n",
    "\n",
    "类定义了 __init__() 方法，类的实例化操作会自动调用 __init__() 方法。如下实例化类 MyClass，对应的 __init__() 方法就会被调用:\n",
    "\n",
    "x = MyClass()\n",
    "\n",
    "当然， __init__() 方法可以有参数，参数通过 __init__() 传递到类的实例化操作上。"
   ]
  },
  {
   "cell_type": "code",
   "execution_count": 68,
   "id": "a00b5d5f-a298-4ea9-8540-d472219c29d8",
   "metadata": {},
   "outputs": [
    {
     "name": "stdout",
     "output_type": "stream",
     "text": [
      "3.0 -4.5\n"
     ]
    }
   ],
   "source": [
    "class Complex:\n",
    "    def __init__(self, realpart, imagpart):\n",
    "        self.r = realpart\n",
    "        self.i = imagpart\n",
    "x = Complex(3.0, -4.5)\n",
    "print(x.r, x.i)   # 输出结果：3.0 -4.5"
   ]
  },
  {
   "cell_type": "markdown",
   "id": "42e89ad8-f10d-4de0-aa6b-eee82ffd4b77",
   "metadata": {},
   "source": [
    "#### self 代表类的实例，而非类\n",
    "类的方法与普通的函数只有一个特别的区别——它们必须有一个额外的`第一个参数名称`, 按照惯例它的名称是 self。"
   ]
  },
  {
   "cell_type": "code",
   "execution_count": 69,
   "id": "baf678d9-2966-4fa1-b24b-8db120eac78d",
   "metadata": {},
   "outputs": [
    {
     "name": "stdout",
     "output_type": "stream",
     "text": [
      "<__main__.Test object at 0x7fb7a02b19d0>\n",
      "<class '__main__.Test'>\n"
     ]
    }
   ],
   "source": [
    "class Test:\n",
    "    def prt(self):\n",
    "        print(self)\n",
    "        print(self.__class__)\n",
    " \n",
    "t = Test()\n",
    "t.prt()"
   ]
  },
  {
   "cell_type": "markdown",
   "id": "d941e66a-b9c0-4370-8f19-5523ee3a355c",
   "metadata": {},
   "source": [
    "从执行结果可以很明显的看出，self 代表的是类的实例，代表当前对象的地址，而 self.class 则指向类。\n",
    "\n",
    "self 不是 python 关键字，我们把他换成 runoob 也是可以正常执行的:"
   ]
  },
  {
   "cell_type": "code",
   "execution_count": 70,
   "id": "7825e115-4678-4995-8a97-a856ed15b6b8",
   "metadata": {},
   "outputs": [
    {
     "name": "stdout",
     "output_type": "stream",
     "text": [
      "<__main__.Test object at 0x7fb7a02c7550>\n",
      "<class '__main__.Test'>\n"
     ]
    }
   ],
   "source": [
    "class Test:\n",
    "    def prt(runoob):\n",
    "        print(runoob)\n",
    "        print(runoob.__class__)\n",
    " \n",
    "t = Test()\n",
    "t.prt()"
   ]
  },
  {
   "cell_type": "markdown",
   "id": "f8c93475-50d7-420b-b6a5-f736683d817c",
   "metadata": {},
   "source": [
    "在 Python中，self 是一个惯用的名称，用于表示类的实例（对象）自身。它是一个指向实例的引用，使得类的方法能够访问和操作实例的属性。\n",
    "\n",
    "当你定义一个类，并在类中定义方法时，第一个参数通常被命名为 self，尽管你可以使用其他名称，但强烈建议使用 self，以保持代码的一致性和可读性。"
   ]
  },
  {
   "cell_type": "code",
   "execution_count": 71,
   "id": "e9e69142-a8df-4bc2-b6f8-ade5100e9c88",
   "metadata": {},
   "outputs": [
    {
     "name": "stdout",
     "output_type": "stream",
     "text": [
      "42\n"
     ]
    }
   ],
   "source": [
    "class MyClass:\n",
    "    def __init__(self, value):\n",
    "        self.value = value\n",
    "\n",
    "    def display_value(self):\n",
    "        print(self.value)\n",
    "\n",
    "# 创建一个类的实例\n",
    "obj = MyClass(42) \n",
    "\n",
    "# 调用实例的方法\n",
    "obj.display_value() # 输出 42"
   ]
  },
  {
   "cell_type": "markdown",
   "id": "34e5c095-2a90-4fbe-964d-4c98354b7e89",
   "metadata": {},
   "source": [
    "在上面的例子中，self 是一个指向类实例的引用，它在 __init__ 构造函数中用于初始化实例的属性，也在 display_value 方法中用于访问实例的属性。通过使用 self，你可以在类的方法中访问和操作实例的属性，从而实现类的行为。"
   ]
  },
  {
   "cell_type": "markdown",
   "id": "3bb1ffa4-7990-4e76-ac5e-afb9701c9554",
   "metadata": {},
   "source": [
    "#### 类的方法\n",
    "在类的内部，使用 def 关键字来定义一个方法，与一般函数定义不同，类方法必须包含参数 self, 且为第一个参数，self 代表的是类的实例。"
   ]
  },
  {
   "cell_type": "code",
   "execution_count": 72,
   "id": "006bcd9b-a976-4f80-83c6-c8553de752ed",
   "metadata": {},
   "outputs": [
    {
     "name": "stdout",
     "output_type": "stream",
     "text": [
      "runoob 说: 我 10 岁。\n"
     ]
    }
   ],
   "source": [
    "#类定义\n",
    "class people:\n",
    "    #定义基本属性\n",
    "    name = ''\n",
    "    age = 0\n",
    "    #定义私有属性,私有属性在类外部无法直接进行访问\n",
    "    __weight = 0\n",
    "    #定义构造方法\n",
    "    def __init__(self,n,a,w):\n",
    "        self.name = n\n",
    "        self.age = a\n",
    "        self.__weight = w\n",
    "    def speak(self):\n",
    "        print(\"%s 说: 我 %d 岁。\" %(self.name,self.age))\n",
    " \n",
    "# 实例化类\n",
    "p = people('runoob',10,30)\n",
    "p.speak()"
   ]
  },
  {
   "cell_type": "markdown",
   "id": "a35c6f6b-929a-41c1-94b8-2e696ca26c3d",
   "metadata": {},
   "source": [
    "#### 继承\n",
    "Python 同样支持类的继承，如果一种语言不支持继承，类就没有什么意义。派生类的定义如下所示:\n",
    "\n",
    "class DerivedClassName(BaseClassName):\n",
    "\n",
    "    <statement-1>\n",
    "    \n",
    "    .\n",
    "    \n",
    "    .\n",
    "    \n",
    "    .\n",
    "    \n",
    "    <statement-N>\n",
    "    \n",
    "子类（派生类 DerivedClassName）会继承父类（基类 BaseClassName）的属性和方法。\n",
    "\n",
    "BaseClassName（实例中的基类名）必须与派生类定义在一个作用域内。除了类，还可以用表达式，基类定义在另一个模块中时这一点非常有用:\n",
    "\n",
    "class DerivedClassName(modname.BaseClassName):"
   ]
  },
  {
   "cell_type": "code",
   "execution_count": 73,
   "id": "ef4725cd-e50a-42d5-ad59-96a8fbf77b9b",
   "metadata": {},
   "outputs": [
    {
     "name": "stdout",
     "output_type": "stream",
     "text": [
      "ken 说: 我 10 岁了，我在读 3 年级\n"
     ]
    }
   ],
   "source": [
    "#类定义\n",
    "class people:\n",
    "    #定义基本属性\n",
    "    name = ''\n",
    "    age = 0\n",
    "    #定义私有属性,私有属性在类外部无法直接进行访问\n",
    "    __weight = 0\n",
    "    #定义构造方法\n",
    "    def __init__(self,n,a,w):\n",
    "        self.name = n\n",
    "        self.age = a\n",
    "        self.__weight = w\n",
    "    def speak(self):\n",
    "        print(\"%s 说: 我 %d 岁。\" %(self.name,self.age))\n",
    " \n",
    "#单继承示例\n",
    "class student(people):\n",
    "    grade = ''\n",
    "    def __init__(self,n,a,w,g):\n",
    "        #调用父类的构函\n",
    "        people.__init__(self,n,a,w)\n",
    "        self.grade = g\n",
    "    #覆写父类的方法\n",
    "    def speak(self):\n",
    "        print(\"%s 说: 我 %d 岁了，我在读 %d 年级\"%(self.name,self.age,self.grade))\n",
    " \n",
    " \n",
    " \n",
    "s = student('ken',10,60,3)\n",
    "s.speak()"
   ]
  },
  {
   "cell_type": "markdown",
   "id": "e1e753c1-c945-460d-9f17-05f97031d21e",
   "metadata": {},
   "source": [
    "#### 多继承\n",
    "Python同样有限的支持多继承形式。多继承的类定义形如下例:\n",
    "\n",
    "class DerivedClassName(Base1, Base2, Base3):\n",
    "\n",
    "    <statement-1>\n",
    "    \n",
    "    .\n",
    "    \n",
    "    .\n",
    "    \n",
    "    .\n",
    "    \n",
    "    <statement-N>\n",
    "    \n",
    "需要注意圆括号中父类的顺序，若是父类中有相同的方法名，而在子类使用时未指定，python从左至右搜索 即方法在子类中未找到时，从左到右查找父类中是否包含方法。"
   ]
  },
  {
   "cell_type": "code",
   "execution_count": 74,
   "id": "bd805d65-894d-4459-80c8-449893f0b66b",
   "metadata": {},
   "outputs": [
    {
     "name": "stdout",
     "output_type": "stream",
     "text": [
      "我叫 Tim，我是一个演说家，我演讲的主题是 Python\n"
     ]
    }
   ],
   "source": [
    "#类定义\n",
    "class people:\n",
    "    #定义基本属性\n",
    "    name = ''\n",
    "    age = 0\n",
    "    #定义私有属性,私有属性在类外部无法直接进行访问\n",
    "    __weight = 0\n",
    "    #定义构造方法\n",
    "    def __init__(self,n,a,w):\n",
    "        self.name = n\n",
    "        self.age = a\n",
    "        self.__weight = w\n",
    "    def speak(self):\n",
    "        print(\"%s 说: 我 %d 岁。\" %(self.name,self.age))\n",
    " \n",
    "#单继承示例\n",
    "class student(people):\n",
    "    grade = ''\n",
    "    def __init__(self,n,a,w,g):\n",
    "        #调用父类的构函\n",
    "        people.__init__(self,n,a,w)\n",
    "        self.grade = g\n",
    "    #覆写父类的方法\n",
    "    def speak(self):\n",
    "        print(\"%s 说: 我 %d 岁了，我在读 %d 年级\"%(self.name,self.age,self.grade))\n",
    " \n",
    "#另一个类，多继承之前的准备\n",
    "class speaker():\n",
    "    topic = ''\n",
    "    name = ''\n",
    "    def __init__(self,n,t):\n",
    "        self.name = n\n",
    "        self.topic = t\n",
    "    def speak(self):\n",
    "        print(\"我叫 %s，我是一个演说家，我演讲的主题是 %s\"%(self.name,self.topic))\n",
    " \n",
    "#多继承\n",
    "class sample(speaker,student):\n",
    "    a =''\n",
    "    def __init__(self,n,a,w,g,t):\n",
    "        student.__init__(self,n,a,w,g)\n",
    "        speaker.__init__(self,n,t)\n",
    " \n",
    "test = sample(\"Tim\",25,80,4,\"Python\")\n",
    "test.speak()   #方法名同，默认调用的是在括号中参数位置排前父类的方法"
   ]
  },
  {
   "cell_type": "markdown",
   "id": "e5d549f6-472a-4701-9920-0fd6c2c6bc31",
   "metadata": {},
   "source": [
    "#### 方法重写\n",
    "如果你的父类方法的功能不能满足你的需求，你可以在子类重写你父类的方法。\n",
    "\n",
    "super() 函数是用于调用父类(超类)的一个方法。"
   ]
  },
  {
   "cell_type": "code",
   "execution_count": 75,
   "id": "887f16b6-92de-42d0-b588-2644f1b98f4b",
   "metadata": {},
   "outputs": [
    {
     "name": "stdout",
     "output_type": "stream",
     "text": [
      "调用子类方法\n",
      "调用父类方法\n"
     ]
    }
   ],
   "source": [
    "class Parent:        # 定义父类\n",
    "   def myMethod(self):\n",
    "      print ('调用父类方法')\n",
    " \n",
    "class Child(Parent): # 定义子类\n",
    "   def myMethod(self):\n",
    "      print ('调用子类方法')\n",
    " \n",
    "c = Child()          # 子类实例\n",
    "c.myMethod()         # 子类调用重写方法\n",
    "super(Child,c).myMethod() #用子类对象调用父类已被覆盖的方法"
   ]
  },
  {
   "cell_type": "markdown",
   "id": "ce08f189-d663-4fca-9d8b-8496acc0a5a3",
   "metadata": {},
   "source": [
    "#### 类属性与方法\n",
    "\n",
    "- 类的私有属性\n",
    "\n",
    "__private_attrs：两个下划线开头，声明该属性为私有，不能在类的外部被使用或直接访问。在类内部的方法中使用时 self.__private_attrs。\n",
    "\n",
    "- 类的方法\n",
    "\n",
    "在类的内部，使用 def 关键字来定义一个方法，与一般函数定义不同，类方法必须包含参数 self，且为第一个参数，self 代表的是类的实例。\n",
    "\n",
    "self 的名字并不是规定死的，也可以使用 this，但是最好还是按照约定使用 self。\n",
    "\n",
    "- 类的私有方法\n",
    "\n",
    "__private_method：两个下划线开头，声明该方法为私有方法，只能在类的内部调用 ，不能在类的外部调用。self.__private_methods。"
   ]
  },
  {
   "cell_type": "code",
   "execution_count": 76,
   "id": "a280b186-929d-452c-9692-cb649fa5982d",
   "metadata": {},
   "outputs": [
    {
     "name": "stdout",
     "output_type": "stream",
     "text": [
      "1\n",
      "2\n",
      "2\n"
     ]
    },
    {
     "ename": "AttributeError",
     "evalue": "'JustCounter' object has no attribute '__secretCount'",
     "output_type": "error",
     "traceback": [
      "\u001b[0;31m---------------------------------------------------------------------------\u001b[0m",
      "\u001b[0;31mAttributeError\u001b[0m                            Traceback (most recent call last)",
      "Input \u001b[0;32mIn [76]\u001b[0m, in \u001b[0;36m<cell line: 14>\u001b[0;34m()\u001b[0m\n\u001b[1;32m     12\u001b[0m counter\u001b[38;5;241m.\u001b[39mcount()\n\u001b[1;32m     13\u001b[0m \u001b[38;5;28mprint\u001b[39m (counter\u001b[38;5;241m.\u001b[39mpublicCount)\n\u001b[0;32m---> 14\u001b[0m \u001b[38;5;28mprint\u001b[39m (\u001b[43mcounter\u001b[49m\u001b[38;5;241;43m.\u001b[39;49m\u001b[43m__secretCount\u001b[49m)\n",
      "\u001b[0;31mAttributeError\u001b[0m: 'JustCounter' object has no attribute '__secretCount'"
     ]
    }
   ],
   "source": [
    "class JustCounter:\n",
    "    __secretCount = 0  # 私有变量\n",
    "    publicCount = 0    # 公开变量\n",
    " \n",
    "    def count(self):\n",
    "        self.__secretCount += 1\n",
    "        self.publicCount += 1\n",
    "        print (self.__secretCount)\n",
    " \n",
    "counter = JustCounter()\n",
    "counter.count()\n",
    "counter.count()\n",
    "print (counter.publicCount)\n",
    "print (counter.__secretCount)  # 报错，实例不能访问私有变量"
   ]
  },
  {
   "cell_type": "code",
   "execution_count": 77,
   "id": "56ff7abb-b9ce-49ab-9b91-3950bb8f9c7a",
   "metadata": {},
   "outputs": [
    {
     "name": "stdout",
     "output_type": "stream",
     "text": [
      "name  :  菜鸟教程\n",
      "url :  www.runoob.com\n",
      "这是公共方法\n",
      "这是私有方法\n"
     ]
    },
    {
     "ename": "AttributeError",
     "evalue": "'Site' object has no attribute '__foo'",
     "output_type": "error",
     "traceback": [
      "\u001b[0;31m---------------------------------------------------------------------------\u001b[0m",
      "\u001b[0;31mAttributeError\u001b[0m                            Traceback (most recent call last)",
      "Input \u001b[0;32mIn [77]\u001b[0m, in \u001b[0;36m<cell line: 20>\u001b[0;34m()\u001b[0m\n\u001b[1;32m     18\u001b[0m x\u001b[38;5;241m.\u001b[39mwho()        \u001b[38;5;66;03m# 正常输出\u001b[39;00m\n\u001b[1;32m     19\u001b[0m x\u001b[38;5;241m.\u001b[39mfoo()        \u001b[38;5;66;03m# 正常输出\u001b[39;00m\n\u001b[0;32m---> 20\u001b[0m \u001b[43mx\u001b[49m\u001b[38;5;241;43m.\u001b[39;49m\u001b[43m__foo\u001b[49m()\n",
      "\u001b[0;31mAttributeError\u001b[0m: 'Site' object has no attribute '__foo'"
     ]
    }
   ],
   "source": [
    "class Site:\n",
    "    def __init__(self, name, url):\n",
    "        self.name = name       # public\n",
    "        self.__url = url   # private\n",
    " \n",
    "    def who(self):\n",
    "        print('name  : ', self.name)\n",
    "        print('url : ', self.__url)\n",
    " \n",
    "    def __foo(self):          # 私有方法\n",
    "        print('这是私有方法')\n",
    " \n",
    "    def foo(self):            # 公共方法\n",
    "        print('这是公共方法')\n",
    "        self.__foo()\n",
    " \n",
    "x = Site('菜鸟教程', 'www.runoob.com')\n",
    "x.who()        # 正常输出\n",
    "x.foo()        # 正常输出\n",
    "x.__foo()      # 报错"
   ]
  },
  {
   "cell_type": "markdown",
   "id": "3b2efbb7-5498-424e-aabc-77e7fc9888ca",
   "metadata": {},
   "source": [
    "#### 类的专有方法：\n",
    "- __init__ : 构造函数，在生成对象时调用\n",
    "- __del__ : 析构函数，释放对象时使用\n",
    "- __repr__ : 打印，转换\n",
    "- __setitem__ : 按照索引赋值\n",
    "- __getitem__: 按照索引获取值\n",
    "- __len__: 获得长度\n",
    "- __cmp__: 比较运算\n",
    "- __call__: 函数调用\n",
    "- __add__: 加运算\n",
    "- __sub__: 减运算\n",
    "- __mul__: 乘运算\n",
    "- __truediv__: 除运算\n",
    "- __mod__: 求余运算\n",
    "- __pow__: 乘方"
   ]
  },
  {
   "cell_type": "markdown",
   "id": "0d312205-b1e0-431f-aa7a-0f4e409710ae",
   "metadata": {},
   "source": [
    "#### 运算符重载\n",
    "Python同样支持运算符重载，我们可以对类的专有方法进行重载。"
   ]
  },
  {
   "cell_type": "code",
   "execution_count": 78,
   "id": "8afa7240-d732-472d-9288-91987b772f32",
   "metadata": {},
   "outputs": [
    {
     "name": "stdout",
     "output_type": "stream",
     "text": [
      "Vector (7, 8)\n"
     ]
    }
   ],
   "source": [
    "class Vector:\n",
    "   def __init__(self, a, b):\n",
    "      self.a = a\n",
    "      self.b = b\n",
    " \n",
    "   def __str__(self):\n",
    "      return 'Vector (%d, %d)' % (self.a, self.b)\n",
    "   \n",
    "   def __add__(self,other):\n",
    "      return Vector(self.a + other.a, self.b + other.b)\n",
    " \n",
    "v1 = Vector(2,10)\n",
    "v2 = Vector(5,-2)\n",
    "print (v1 + v2)"
   ]
  },
  {
   "cell_type": "markdown",
   "id": "5e021dfc-fb48-4d3e-b7a8-63035b990401",
   "metadata": {},
   "source": [
    "#### 命名空间/作用域\n",
    "一般有三种命名空间：\n",
    "\n",
    "- 内置名称（built-in names）， Python 语言内置的名称，比如函数名 abs、char 和异常名称 BaseException、Exception 等等。\n",
    "- 全局名称（global names），模块中定义的名称，记录了模块的变量，包括函数、类、其它导入的模块、模块级的变量和常量。\n",
    "- 局部名称（local names），函数中定义的名称，记录了函数的变量，包括函数的参数和局部定义的变量。（类中定义的也是）\n",
    "\n",
    "Python 的查找顺序为：局部的命名空间 -> 全局命名空间 -> 内置命名空间。\n",
    "\n",
    "命名空间的生命周期：\n",
    "\n",
    "命名空间的生命周期取决于对象的作用域，如果对象执行完成，则该命名空间的生命周期就结束。\n",
    "\n",
    "因此，我们无法从外部命名空间访问内部命名空间的对象。"
   ]
  },
  {
   "cell_type": "code",
   "execution_count": 79,
   "id": "a9019b10-dffb-4262-85f8-04f76add8953",
   "metadata": {},
   "outputs": [],
   "source": [
    "# var1 是全局名称\n",
    "var1 = 5\n",
    "def some_func(): \n",
    "  \n",
    "    # var2 是局部名称\n",
    "    var2 = 6\n",
    "    def some_inner_func(): \n",
    "  \n",
    "        # var3 是内嵌的局部名称\n",
    "        var3 = 7"
   ]
  },
  {
   "cell_type": "markdown",
   "id": "bf7ea01a-d560-47e0-a7f7-39aec535cebf",
   "metadata": {},
   "source": [
    "作用域就是一个 Python 程序可以直接访问命名空间的正文区域。\n",
    "\n",
    "在一个 python 程序中，直接访问一个变量，会从内到外依次访问所有的作用域直到找到，否则会报未定义的错误。\n",
    "\n",
    "Python 中，程序的变量并不是在哪个位置都可以访问的，访问权限决定于这个变量是在哪里赋值的。\n",
    "\n",
    "变量的作用域决定了在哪一部分程序可以访问哪个特定的变量名称。Python 的作用域一共有4种，分别是：\n",
    "\n",
    "有四种作用域：\n",
    "\n",
    "- L（Local）：最内层，包含局部变量，比如一个函数/方法内部。\n",
    "- E（Enclosing）：包含了非局部(non-local)也非全局(non-global)的变量。比如两个嵌套函数，一个函数（或类） A 里面又包含了一个函数 B ，那么对于 B 中的名称来说 A 中的作用域就为 nonlocal。\n",
    "- G（Global）：当前脚本的最外层，比如当前模块的全局变量。\n",
    "- B（Built-in）： 包含了内建的变量/关键字等，最后被搜索。\n",
    "\n",
    "规则顺序： L –> E –> G –> B。\n",
    "\n",
    "在局部找不到，便会去局部外的局部找（例如闭包），再找不到就会去全局找，再者去内置中找。"
   ]
  },
  {
   "cell_type": "code",
   "execution_count": 80,
   "id": "69f7e05a-4749-4b7d-b5c0-0e0307e989b6",
   "metadata": {},
   "outputs": [],
   "source": [
    "g_count = 0  # 全局作用域\n",
    "def outer():\n",
    "    o_count = 1  # 闭包函数外的函数中\n",
    "    def inner():\n",
    "        i_count = 2  # 局部作用域"
   ]
  },
  {
   "cell_type": "markdown",
   "id": "e72070af-0574-4cc5-949a-c2c672c7c765",
   "metadata": {},
   "source": [
    "内置作用域是通过一个名为 builtin 的标准模块来实现的，但是这个变量名自身并没有放入内置作用域内，所以必须导入这个文件才能够使用它。在Python3.0中，可以使用以下的代码来查看到底预定义了哪些变量:"
   ]
  },
  {
   "cell_type": "code",
   "execution_count": 81,
   "id": "27d5160c-f379-4592-b642-9cb36ac4f6bb",
   "metadata": {},
   "outputs": [
    {
     "data": {
      "text/plain": [
       "['ArithmeticError',\n",
       " 'AssertionError',\n",
       " 'AttributeError',\n",
       " 'BaseException',\n",
       " 'BlockingIOError',\n",
       " 'BrokenPipeError',\n",
       " 'BufferError',\n",
       " 'BytesWarning',\n",
       " 'ChildProcessError',\n",
       " 'ConnectionAbortedError',\n",
       " 'ConnectionError',\n",
       " 'ConnectionRefusedError',\n",
       " 'ConnectionResetError',\n",
       " 'DeprecationWarning',\n",
       " 'EOFError',\n",
       " 'Ellipsis',\n",
       " 'EnvironmentError',\n",
       " 'Exception',\n",
       " 'False',\n",
       " 'FileExistsError',\n",
       " 'FileNotFoundError',\n",
       " 'FloatingPointError',\n",
       " 'FutureWarning',\n",
       " 'GeneratorExit',\n",
       " 'IOError',\n",
       " 'ImportError',\n",
       " 'ImportWarning',\n",
       " 'IndentationError',\n",
       " 'IndexError',\n",
       " 'InterruptedError',\n",
       " 'IsADirectoryError',\n",
       " 'KeyError',\n",
       " 'KeyboardInterrupt',\n",
       " 'LookupError',\n",
       " 'MemoryError',\n",
       " 'ModuleNotFoundError',\n",
       " 'NameError',\n",
       " 'None',\n",
       " 'NotADirectoryError',\n",
       " 'NotImplemented',\n",
       " 'NotImplementedError',\n",
       " 'OSError',\n",
       " 'OverflowError',\n",
       " 'PendingDeprecationWarning',\n",
       " 'PermissionError',\n",
       " 'ProcessLookupError',\n",
       " 'RecursionError',\n",
       " 'ReferenceError',\n",
       " 'ResourceWarning',\n",
       " 'RuntimeError',\n",
       " 'RuntimeWarning',\n",
       " 'StopAsyncIteration',\n",
       " 'StopIteration',\n",
       " 'SyntaxError',\n",
       " 'SyntaxWarning',\n",
       " 'SystemError',\n",
       " 'SystemExit',\n",
       " 'TabError',\n",
       " 'TimeoutError',\n",
       " 'True',\n",
       " 'TypeError',\n",
       " 'UnboundLocalError',\n",
       " 'UnicodeDecodeError',\n",
       " 'UnicodeEncodeError',\n",
       " 'UnicodeError',\n",
       " 'UnicodeTranslateError',\n",
       " 'UnicodeWarning',\n",
       " 'UserWarning',\n",
       " 'ValueError',\n",
       " 'Warning',\n",
       " 'ZeroDivisionError',\n",
       " '__IPYTHON__',\n",
       " '__build_class__',\n",
       " '__debug__',\n",
       " '__doc__',\n",
       " '__import__',\n",
       " '__loader__',\n",
       " '__name__',\n",
       " '__package__',\n",
       " '__spec__',\n",
       " 'abs',\n",
       " 'all',\n",
       " 'any',\n",
       " 'ascii',\n",
       " 'bin',\n",
       " 'bool',\n",
       " 'breakpoint',\n",
       " 'bytearray',\n",
       " 'bytes',\n",
       " 'callable',\n",
       " 'chr',\n",
       " 'classmethod',\n",
       " 'compile',\n",
       " 'complex',\n",
       " 'copyright',\n",
       " 'credits',\n",
       " 'delattr',\n",
       " 'dict',\n",
       " 'dir',\n",
       " 'display',\n",
       " 'divmod',\n",
       " 'enumerate',\n",
       " 'eval',\n",
       " 'exec',\n",
       " 'execfile',\n",
       " 'filter',\n",
       " 'float',\n",
       " 'format',\n",
       " 'frozenset',\n",
       " 'get_ipython',\n",
       " 'getattr',\n",
       " 'globals',\n",
       " 'hasattr',\n",
       " 'hash',\n",
       " 'help',\n",
       " 'hex',\n",
       " 'id',\n",
       " 'input',\n",
       " 'int',\n",
       " 'isinstance',\n",
       " 'issubclass',\n",
       " 'iter',\n",
       " 'len',\n",
       " 'license',\n",
       " 'list',\n",
       " 'locals',\n",
       " 'map',\n",
       " 'max',\n",
       " 'memoryview',\n",
       " 'min',\n",
       " 'next',\n",
       " 'object',\n",
       " 'oct',\n",
       " 'open',\n",
       " 'ord',\n",
       " 'pow',\n",
       " 'print',\n",
       " 'property',\n",
       " 'range',\n",
       " 'repr',\n",
       " 'reversed',\n",
       " 'round',\n",
       " 'runfile',\n",
       " 'set',\n",
       " 'setattr',\n",
       " 'slice',\n",
       " 'sorted',\n",
       " 'staticmethod',\n",
       " 'str',\n",
       " 'sum',\n",
       " 'super',\n",
       " 'tuple',\n",
       " 'type',\n",
       " 'vars',\n",
       " 'zip']"
      ]
     },
     "execution_count": 81,
     "metadata": {},
     "output_type": "execute_result"
    }
   ],
   "source": [
    "import builtins\n",
    "dir(builtins)"
   ]
  },
  {
   "cell_type": "markdown",
   "id": "ee5c9159-7b0a-45b5-928c-8ab461b4acb3",
   "metadata": {},
   "source": [
    "Python 中只有模块（module），类（class）以及函数（def、lambda）才会引入新的作用域，其它的代码块（如 if/elif/else/、try/except、for/while等）是不会引入新的作用域的，也就是说这些语句内定义的变量，外部也可以访问，如下代码："
   ]
  },
  {
   "cell_type": "code",
   "execution_count": 82,
   "id": "84bf532d-c52e-458e-8425-46739af4ac13",
   "metadata": {},
   "outputs": [
    {
     "data": {
      "text/plain": [
       "'I am from Runoob'"
      ]
     },
     "execution_count": 82,
     "metadata": {},
     "output_type": "execute_result"
    }
   ],
   "source": [
    "if True:\n",
    "    msg = 'I am from Runoob'\n",
    "\n",
    "msg"
   ]
  },
  {
   "cell_type": "markdown",
   "id": "3d950684-88be-4034-bba5-8a080ab1356d",
   "metadata": {},
   "source": [
    "实例中 msg 变量定义在 if 语句块中，但外部还是可以访问的。\n",
    "\n",
    "如果将 msg 定义在函数中，则它就是局部变量，外部不能访问："
   ]
  },
  {
   "cell_type": "code",
   "execution_count": 83,
   "id": "5ca314e2-b7d6-4c2d-ba27-3c434bcaa7c5",
   "metadata": {},
   "outputs": [
    {
     "ename": "NameError",
     "evalue": "name 'msg_inner' is not defined",
     "output_type": "error",
     "traceback": [
      "\u001b[0;31m---------------------------------------------------------------------------\u001b[0m",
      "\u001b[0;31mNameError\u001b[0m                                 Traceback (most recent call last)",
      "Input \u001b[0;32mIn [83]\u001b[0m, in \u001b[0;36m<cell line: 4>\u001b[0;34m()\u001b[0m\n\u001b[1;32m      1\u001b[0m \u001b[38;5;28;01mdef\u001b[39;00m \u001b[38;5;21mtest\u001b[39m():\n\u001b[1;32m      2\u001b[0m      msg_inner \u001b[38;5;241m=\u001b[39m \u001b[38;5;124m'\u001b[39m\u001b[38;5;124mI am from Runoob\u001b[39m\u001b[38;5;124m'\u001b[39m\n\u001b[0;32m----> 4\u001b[0m \u001b[43mmsg_inner\u001b[49m\n",
      "\u001b[0;31mNameError\u001b[0m: name 'msg_inner' is not defined"
     ]
    }
   ],
   "source": [
    "def test():\n",
    "     msg_inner = 'I am from Runoob'\n",
    "\n",
    "msg_inner"
   ]
  },
  {
   "cell_type": "markdown",
   "id": "c8b15cb3-2def-4fb7-ad60-c9c629b91fc3",
   "metadata": {},
   "source": [
    "#### 全局变量和局部变量\n",
    "定义在函数内部的变量拥有一个局部作用域，定义在函数外的拥有全局作用域。\n",
    "\n",
    "局部变量只能在其被声明的函数内部访问，而全局变量可以在整个程序范围内访问。调用函数时，所有在函数内声明的变量名称都将被加入到作用域中。如下实例："
   ]
  },
  {
   "cell_type": "code",
   "execution_count": 84,
   "id": "0c6e3bfa-3251-4300-9218-632dd5bc72e0",
   "metadata": {},
   "outputs": [
    {
     "name": "stdout",
     "output_type": "stream",
     "text": [
      "函数内是局部变量 :  30\n",
      "函数外是全局变量 :  0\n"
     ]
    }
   ],
   "source": [
    "total = 0 # 这是一个全局变量\n",
    "# 可写函数说明\n",
    "def sum( arg1, arg2 ):\n",
    "    #返回2个参数的和.\"\n",
    "    total = arg1 + arg2 # total在这里是局部变量.\n",
    "    print (\"函数内是局部变量 : \", total)\n",
    "    return total\n",
    " \n",
    "#调用sum函数\n",
    "sum( 10, 20 )\n",
    "print (\"函数外是全局变量 : \", total)"
   ]
  },
  {
   "cell_type": "markdown",
   "id": "54d94fb5-db36-4203-9b6e-1add6b666947",
   "metadata": {},
   "source": [
    "#### global 和 nonlocal关键字\n",
    "当内部作用域想修改外部作用域的变量时，就要用到 global 和 nonlocal 关键字了"
   ]
  },
  {
   "cell_type": "code",
   "execution_count": 85,
   "id": "9b17611d-dce9-4c16-9782-b733c3689bb4",
   "metadata": {},
   "outputs": [
    {
     "name": "stdout",
     "output_type": "stream",
     "text": [
      "1\n",
      "123\n",
      "123\n"
     ]
    }
   ],
   "source": [
    "num = 1\n",
    "def fun1():\n",
    "    global num  # 需要使用 global 关键字声明\n",
    "    print(num) \n",
    "    num = 123\n",
    "    print(num)\n",
    "fun1()\n",
    "print(num)"
   ]
  },
  {
   "cell_type": "markdown",
   "id": "be012f55-416f-4947-9e2f-19f924e4489a",
   "metadata": {},
   "source": [
    "如果要修改嵌套作用域（enclosing 作用域，外层非全局作用域）中的变量则需要 nonlocal 关键字了"
   ]
  },
  {
   "cell_type": "code",
   "execution_count": 86,
   "id": "05af118b-73ec-4b87-8d14-210bf251e324",
   "metadata": {},
   "outputs": [
    {
     "name": "stdout",
     "output_type": "stream",
     "text": [
      "100\n",
      "100\n"
     ]
    }
   ],
   "source": [
    "def outer():\n",
    "    num = 10\n",
    "    def inner():\n",
    "        nonlocal num   # nonlocal关键字声明\n",
    "        num = 100\n",
    "        print(num)\n",
    "    inner()\n",
    "    print(num)\n",
    "outer()"
   ]
  },
  {
   "cell_type": "markdown",
   "id": "0d4bb9c1-7814-41ba-a446-8eb0c2e9baeb",
   "metadata": {},
   "source": [
    "### 标准库\n",
    "Python 标准库非常庞大，所提供的组件涉及范围十分广泛，使用标准库我们可以让您轻松地完成各种任务。\n",
    "\n",
    "以下是一些 Python3 标准库中的模块：\n",
    "\n",
    "- os 模块：os 模块提供了许多与操作系统交互的函数，例如创建、移动和删除文件和目录，以及访问环境变量等。\n",
    "\n",
    "- sys 模块：sys 模块提供了与 Python 解释器和系统相关的功能，例如解释器的版本和路径，以及与 stdin、stdout 和 stderr 相关的信息。\n",
    "\n",
    "- time 模块：time 模块提供了处理时间的函数，例如获取当前时间、格式化日期和时间、计时等。\n",
    "\n",
    "- datetime 模块：datetime 模块提供了更高级的日期和时间处理函数，例如处理时区、计算时间差、计算日期差等。\n",
    "\n",
    "- random 模块：random 模块提供了生成随机数的函数，例如生成随机整数、浮点数、序列等。\n",
    "\n",
    "- math 模块：math 模块提供了数学函数，例如三角函数、对数函数、指数函数、常数等。\n",
    "\n",
    "- re 模块：re 模块提供了正则表达式处理函数，可以用于文本搜索、替换、分割等。\n",
    "\n",
    "- json 模块：json 模块提供了 JSON 编码和解码函数，可以将 Python 对象转换为 JSON 格式，并从 JSON 格式中解析出 Python 对象。\n",
    "\n",
    "- urllib 模块：urllib 模块提供了访问网页和处理 URL 的功能，包括下载文件、发送 POST 请求、处理 cookies 等。"
   ]
  },
  {
   "cell_type": "markdown",
   "id": "df8509e8-6aa5-48ef-8a66-9cdf77cd49bf",
   "metadata": {},
   "source": [
    "#### 操作系统接口\n",
    "os 模块提供了不少与操作系统相关联的函数，例如文件和目录的操作。"
   ]
  },
  {
   "cell_type": "code",
   "execution_count": 87,
   "id": "ce9dab80-bdf5-48f9-8f6f-039793e5ed4d",
   "metadata": {},
   "outputs": [
    {
     "name": "stdout",
     "output_type": "stream",
     "text": [
      "当前工作目录: /Users/mba_yuboxu/Desktop/python\n",
      "目录下的文件: ['Python_Learning.ipynb', '__pycache__', 'foo.txt', 'data.pkl', '.ipynb_checkpoints', 'foo1.txt']\n"
     ]
    }
   ],
   "source": [
    "import os\n",
    "\n",
    "# 获取当前工作目录\n",
    "current_dir = os.getcwd()\n",
    "print(\"当前工作目录:\", current_dir)\n",
    "\n",
    "# 列出目录下的文件\n",
    "files = os.listdir(current_dir)\n",
    "print(\"目录下的文件:\", files)"
   ]
  },
  {
   "cell_type": "markdown",
   "id": "91a88f7f-4277-4520-9ffd-2cd3bc7030d0",
   "metadata": {},
   "source": [
    "建议使用 import os 风格而非 from os import *，这样可以保证随操作系统不同而有所变化的 os.open() 不会覆盖内置函数 open()。\n",
    "\n",
    "在使用 os 这样的大型模块时内置的 dir() 和 help() 函数非常有用:"
   ]
  },
  {
   "cell_type": "code",
   "execution_count": 88,
   "id": "75ff0dea-820b-44f7-8252-cef422417465",
   "metadata": {},
   "outputs": [
    {
     "data": {
      "text/plain": [
       "['CLD_CONTINUED',\n",
       " 'CLD_DUMPED',\n",
       " 'CLD_EXITED',\n",
       " 'CLD_KILLED',\n",
       " 'CLD_STOPPED',\n",
       " 'CLD_TRAPPED',\n",
       " 'DirEntry',\n",
       " 'EX_CANTCREAT',\n",
       " 'EX_CONFIG',\n",
       " 'EX_DATAERR',\n",
       " 'EX_IOERR',\n",
       " 'EX_NOHOST',\n",
       " 'EX_NOINPUT',\n",
       " 'EX_NOPERM',\n",
       " 'EX_NOUSER',\n",
       " 'EX_OK',\n",
       " 'EX_OSERR',\n",
       " 'EX_OSFILE',\n",
       " 'EX_PROTOCOL',\n",
       " 'EX_SOFTWARE',\n",
       " 'EX_TEMPFAIL',\n",
       " 'EX_UNAVAILABLE',\n",
       " 'EX_USAGE',\n",
       " 'F_LOCK',\n",
       " 'F_OK',\n",
       " 'F_TEST',\n",
       " 'F_TLOCK',\n",
       " 'F_ULOCK',\n",
       " 'GenericAlias',\n",
       " 'Mapping',\n",
       " 'MutableMapping',\n",
       " 'NGROUPS_MAX',\n",
       " 'O_ACCMODE',\n",
       " 'O_APPEND',\n",
       " 'O_ASYNC',\n",
       " 'O_CLOEXEC',\n",
       " 'O_CREAT',\n",
       " 'O_DIRECTORY',\n",
       " 'O_DSYNC',\n",
       " 'O_EXCL',\n",
       " 'O_EXLOCK',\n",
       " 'O_NDELAY',\n",
       " 'O_NOCTTY',\n",
       " 'O_NOFOLLOW',\n",
       " 'O_NONBLOCK',\n",
       " 'O_RDONLY',\n",
       " 'O_RDWR',\n",
       " 'O_SHLOCK',\n",
       " 'O_SYNC',\n",
       " 'O_TRUNC',\n",
       " 'O_WRONLY',\n",
       " 'POSIX_SPAWN_CLOSE',\n",
       " 'POSIX_SPAWN_DUP2',\n",
       " 'POSIX_SPAWN_OPEN',\n",
       " 'PRIO_PGRP',\n",
       " 'PRIO_PROCESS',\n",
       " 'PRIO_USER',\n",
       " 'P_ALL',\n",
       " 'P_NOWAIT',\n",
       " 'P_NOWAITO',\n",
       " 'P_PGID',\n",
       " 'P_PID',\n",
       " 'P_WAIT',\n",
       " 'PathLike',\n",
       " 'RTLD_GLOBAL',\n",
       " 'RTLD_LAZY',\n",
       " 'RTLD_LOCAL',\n",
       " 'RTLD_NODELETE',\n",
       " 'RTLD_NOLOAD',\n",
       " 'RTLD_NOW',\n",
       " 'R_OK',\n",
       " 'SCHED_FIFO',\n",
       " 'SCHED_OTHER',\n",
       " 'SCHED_RR',\n",
       " 'SEEK_CUR',\n",
       " 'SEEK_END',\n",
       " 'SEEK_SET',\n",
       " 'ST_NOSUID',\n",
       " 'ST_RDONLY',\n",
       " 'TMP_MAX',\n",
       " 'WCONTINUED',\n",
       " 'WCOREDUMP',\n",
       " 'WEXITED',\n",
       " 'WEXITSTATUS',\n",
       " 'WIFCONTINUED',\n",
       " 'WIFEXITED',\n",
       " 'WIFSIGNALED',\n",
       " 'WIFSTOPPED',\n",
       " 'WNOHANG',\n",
       " 'WNOWAIT',\n",
       " 'WSTOPPED',\n",
       " 'WSTOPSIG',\n",
       " 'WTERMSIG',\n",
       " 'WUNTRACED',\n",
       " 'W_OK',\n",
       " 'X_OK',\n",
       " '_Environ',\n",
       " '__all__',\n",
       " '__builtins__',\n",
       " '__cached__',\n",
       " '__doc__',\n",
       " '__file__',\n",
       " '__loader__',\n",
       " '__name__',\n",
       " '__package__',\n",
       " '__spec__',\n",
       " '_check_methods',\n",
       " '_execvpe',\n",
       " '_exists',\n",
       " '_exit',\n",
       " '_fspath',\n",
       " '_fwalk',\n",
       " '_get_exports_list',\n",
       " '_spawnvef',\n",
       " '_walk',\n",
       " '_wrap_close',\n",
       " 'abc',\n",
       " 'abort',\n",
       " 'access',\n",
       " 'altsep',\n",
       " 'chdir',\n",
       " 'chflags',\n",
       " 'chmod',\n",
       " 'chown',\n",
       " 'chroot',\n",
       " 'close',\n",
       " 'closerange',\n",
       " 'confstr',\n",
       " 'confstr_names',\n",
       " 'cpu_count',\n",
       " 'ctermid',\n",
       " 'curdir',\n",
       " 'defpath',\n",
       " 'device_encoding',\n",
       " 'devnull',\n",
       " 'dup',\n",
       " 'dup2',\n",
       " 'environ',\n",
       " 'environb',\n",
       " 'error',\n",
       " 'execl',\n",
       " 'execle',\n",
       " 'execlp',\n",
       " 'execlpe',\n",
       " 'execv',\n",
       " 'execve',\n",
       " 'execvp',\n",
       " 'execvpe',\n",
       " 'extsep',\n",
       " 'fchdir',\n",
       " 'fchmod',\n",
       " 'fchown',\n",
       " 'fdopen',\n",
       " 'fork',\n",
       " 'forkpty',\n",
       " 'fpathconf',\n",
       " 'fsdecode',\n",
       " 'fsencode',\n",
       " 'fspath',\n",
       " 'fstat',\n",
       " 'fstatvfs',\n",
       " 'fsync',\n",
       " 'ftruncate',\n",
       " 'fwalk',\n",
       " 'get_blocking',\n",
       " 'get_exec_path',\n",
       " 'get_inheritable',\n",
       " 'get_terminal_size',\n",
       " 'getcwd',\n",
       " 'getcwdb',\n",
       " 'getegid',\n",
       " 'getenv',\n",
       " 'getenvb',\n",
       " 'geteuid',\n",
       " 'getgid',\n",
       " 'getgrouplist',\n",
       " 'getgroups',\n",
       " 'getloadavg',\n",
       " 'getlogin',\n",
       " 'getpgid',\n",
       " 'getpgrp',\n",
       " 'getpid',\n",
       " 'getppid',\n",
       " 'getpriority',\n",
       " 'getsid',\n",
       " 'getuid',\n",
       " 'initgroups',\n",
       " 'isatty',\n",
       " 'kill',\n",
       " 'killpg',\n",
       " 'lchflags',\n",
       " 'lchmod',\n",
       " 'lchown',\n",
       " 'linesep',\n",
       " 'link',\n",
       " 'listdir',\n",
       " 'lockf',\n",
       " 'lseek',\n",
       " 'lstat',\n",
       " 'major',\n",
       " 'makedev',\n",
       " 'makedirs',\n",
       " 'minor',\n",
       " 'mkdir',\n",
       " 'mkfifo',\n",
       " 'mknod',\n",
       " 'name',\n",
       " 'nice',\n",
       " 'open',\n",
       " 'openpty',\n",
       " 'pardir',\n",
       " 'path',\n",
       " 'pathconf',\n",
       " 'pathconf_names',\n",
       " 'pathsep',\n",
       " 'pipe',\n",
       " 'popen',\n",
       " 'posix_spawn',\n",
       " 'posix_spawnp',\n",
       " 'pread',\n",
       " 'putenv',\n",
       " 'pwrite',\n",
       " 'read',\n",
       " 'readlink',\n",
       " 'readv',\n",
       " 'register_at_fork',\n",
       " 'remove',\n",
       " 'removedirs',\n",
       " 'rename',\n",
       " 'renames',\n",
       " 'replace',\n",
       " 'rmdir',\n",
       " 'scandir',\n",
       " 'sched_get_priority_max',\n",
       " 'sched_get_priority_min',\n",
       " 'sched_yield',\n",
       " 'sendfile',\n",
       " 'sep',\n",
       " 'set_blocking',\n",
       " 'set_inheritable',\n",
       " 'setegid',\n",
       " 'seteuid',\n",
       " 'setgid',\n",
       " 'setgroups',\n",
       " 'setpgid',\n",
       " 'setpgrp',\n",
       " 'setpriority',\n",
       " 'setregid',\n",
       " 'setreuid',\n",
       " 'setsid',\n",
       " 'setuid',\n",
       " 'spawnl',\n",
       " 'spawnle',\n",
       " 'spawnlp',\n",
       " 'spawnlpe',\n",
       " 'spawnv',\n",
       " 'spawnve',\n",
       " 'spawnvp',\n",
       " 'spawnvpe',\n",
       " 'st',\n",
       " 'stat',\n",
       " 'stat_result',\n",
       " 'statvfs',\n",
       " 'statvfs_result',\n",
       " 'strerror',\n",
       " 'supports_bytes_environ',\n",
       " 'supports_dir_fd',\n",
       " 'supports_effective_ids',\n",
       " 'supports_fd',\n",
       " 'supports_follow_symlinks',\n",
       " 'symlink',\n",
       " 'sync',\n",
       " 'sys',\n",
       " 'sysconf',\n",
       " 'sysconf_names',\n",
       " 'system',\n",
       " 'tcgetpgrp',\n",
       " 'tcsetpgrp',\n",
       " 'terminal_size',\n",
       " 'times',\n",
       " 'times_result',\n",
       " 'truncate',\n",
       " 'ttyname',\n",
       " 'umask',\n",
       " 'uname',\n",
       " 'uname_result',\n",
       " 'unlink',\n",
       " 'unsetenv',\n",
       " 'urandom',\n",
       " 'utime',\n",
       " 'wait',\n",
       " 'wait3',\n",
       " 'wait4',\n",
       " 'waitpid',\n",
       " 'waitstatus_to_exitcode',\n",
       " 'walk',\n",
       " 'write',\n",
       " 'writev']"
      ]
     },
     "execution_count": 88,
     "metadata": {},
     "output_type": "execute_result"
    }
   ],
   "source": [
    "dir(os)"
   ]
  },
  {
   "cell_type": "code",
   "execution_count": 89,
   "id": "cda2c6fa-2908-4006-8d19-65f4d7cc891a",
   "metadata": {},
   "outputs": [
    {
     "name": "stdout",
     "output_type": "stream",
     "text": [
      "Help on module os:\n",
      "\n",
      "NAME\n",
      "    os - OS routines for NT or Posix depending on what system we're on.\n",
      "\n",
      "MODULE REFERENCE\n",
      "    https://docs.python.org/3.9/library/os\n",
      "    \n",
      "    The following documentation is automatically generated from the Python\n",
      "    source files.  It may be incomplete, incorrect or include features that\n",
      "    are considered implementation detail and may vary between Python\n",
      "    implementations.  When in doubt, consult the module reference at the\n",
      "    location listed above.\n",
      "\n",
      "DESCRIPTION\n",
      "    This exports:\n",
      "      - all functions from posix or nt, e.g. unlink, stat, etc.\n",
      "      - os.path is either posixpath or ntpath\n",
      "      - os.name is either 'posix' or 'nt'\n",
      "      - os.curdir is a string representing the current directory (always '.')\n",
      "      - os.pardir is a string representing the parent directory (always '..')\n",
      "      - os.sep is the (or a most common) pathname separator ('/' or '\\\\')\n",
      "      - os.extsep is the extension separator (always '.')\n",
      "      - os.altsep is the alternate pathname separator (None or '/')\n",
      "      - os.pathsep is the component separator used in $PATH etc\n",
      "      - os.linesep is the line separator in text files ('\\r' or '\\n' or '\\r\\n')\n",
      "      - os.defpath is the default search path for executables\n",
      "      - os.devnull is the file path of the null device ('/dev/null', etc.)\n",
      "    \n",
      "    Programs that import and use 'os' stand a better chance of being\n",
      "    portable between different platforms.  Of course, they must then\n",
      "    only use functions that are defined by all platforms (e.g., unlink\n",
      "    and opendir), and leave all pathname manipulation to os.path\n",
      "    (e.g., split and join).\n",
      "\n",
      "CLASSES\n",
      "    builtins.Exception(builtins.BaseException)\n",
      "        builtins.OSError\n",
      "    builtins.object\n",
      "        posix.DirEntry\n",
      "    builtins.tuple(builtins.object)\n",
      "        stat_result\n",
      "        statvfs_result\n",
      "        terminal_size\n",
      "        posix.times_result\n",
      "        posix.uname_result\n",
      "    \n",
      "    class DirEntry(builtins.object)\n",
      "     |  Methods defined here:\n",
      "     |  \n",
      "     |  __fspath__(self, /)\n",
      "     |      Returns the path for the entry.\n",
      "     |  \n",
      "     |  __repr__(self, /)\n",
      "     |      Return repr(self).\n",
      "     |  \n",
      "     |  inode(self, /)\n",
      "     |      Return inode of the entry; cached per entry.\n",
      "     |  \n",
      "     |  is_dir(self, /, *, follow_symlinks=True)\n",
      "     |      Return True if the entry is a directory; cached per entry.\n",
      "     |  \n",
      "     |  is_file(self, /, *, follow_symlinks=True)\n",
      "     |      Return True if the entry is a file; cached per entry.\n",
      "     |  \n",
      "     |  is_symlink(self, /)\n",
      "     |      Return True if the entry is a symbolic link; cached per entry.\n",
      "     |  \n",
      "     |  stat(self, /, *, follow_symlinks=True)\n",
      "     |      Return stat_result object for the entry; cached per entry.\n",
      "     |  \n",
      "     |  ----------------------------------------------------------------------\n",
      "     |  Class methods defined here:\n",
      "     |  \n",
      "     |  __class_getitem__(...) from builtins.type\n",
      "     |      See PEP 585\n",
      "     |  \n",
      "     |  ----------------------------------------------------------------------\n",
      "     |  Static methods defined here:\n",
      "     |  \n",
      "     |  __new__(*args, **kwargs) from builtins.type\n",
      "     |      Create and return a new object.  See help(type) for accurate signature.\n",
      "     |  \n",
      "     |  ----------------------------------------------------------------------\n",
      "     |  Data descriptors defined here:\n",
      "     |  \n",
      "     |  name\n",
      "     |      the entry's base filename, relative to scandir() \"path\" argument\n",
      "     |  \n",
      "     |  path\n",
      "     |      the entry's full path name; equivalent to os.path.join(scandir_path, entry.name)\n",
      "    \n",
      "    error = class OSError(Exception)\n",
      "     |  Base class for I/O related errors.\n",
      "     |  \n",
      "     |  Method resolution order:\n",
      "     |      OSError\n",
      "     |      Exception\n",
      "     |      BaseException\n",
      "     |      object\n",
      "     |  \n",
      "     |  Built-in subclasses:\n",
      "     |      BlockingIOError\n",
      "     |      ChildProcessError\n",
      "     |      ConnectionError\n",
      "     |      FileExistsError\n",
      "     |      ... and 7 other subclasses\n",
      "     |  \n",
      "     |  Methods defined here:\n",
      "     |  \n",
      "     |  __init__(self, /, *args, **kwargs)\n",
      "     |      Initialize self.  See help(type(self)) for accurate signature.\n",
      "     |  \n",
      "     |  __reduce__(...)\n",
      "     |      Helper for pickle.\n",
      "     |  \n",
      "     |  __str__(self, /)\n",
      "     |      Return str(self).\n",
      "     |  \n",
      "     |  ----------------------------------------------------------------------\n",
      "     |  Static methods defined here:\n",
      "     |  \n",
      "     |  __new__(*args, **kwargs) from builtins.type\n",
      "     |      Create and return a new object.  See help(type) for accurate signature.\n",
      "     |  \n",
      "     |  ----------------------------------------------------------------------\n",
      "     |  Data descriptors defined here:\n",
      "     |  \n",
      "     |  characters_written\n",
      "     |  \n",
      "     |  errno\n",
      "     |      POSIX exception code\n",
      "     |  \n",
      "     |  filename\n",
      "     |      exception filename\n",
      "     |  \n",
      "     |  filename2\n",
      "     |      second exception filename\n",
      "     |  \n",
      "     |  strerror\n",
      "     |      exception strerror\n",
      "     |  \n",
      "     |  ----------------------------------------------------------------------\n",
      "     |  Methods inherited from BaseException:\n",
      "     |  \n",
      "     |  __delattr__(self, name, /)\n",
      "     |      Implement delattr(self, name).\n",
      "     |  \n",
      "     |  __getattribute__(self, name, /)\n",
      "     |      Return getattr(self, name).\n",
      "     |  \n",
      "     |  __repr__(self, /)\n",
      "     |      Return repr(self).\n",
      "     |  \n",
      "     |  __setattr__(self, name, value, /)\n",
      "     |      Implement setattr(self, name, value).\n",
      "     |  \n",
      "     |  __setstate__(...)\n",
      "     |  \n",
      "     |  with_traceback(...)\n",
      "     |      Exception.with_traceback(tb) --\n",
      "     |      set self.__traceback__ to tb and return self.\n",
      "     |  \n",
      "     |  ----------------------------------------------------------------------\n",
      "     |  Data descriptors inherited from BaseException:\n",
      "     |  \n",
      "     |  __cause__\n",
      "     |      exception cause\n",
      "     |  \n",
      "     |  __context__\n",
      "     |      exception context\n",
      "     |  \n",
      "     |  __dict__\n",
      "     |  \n",
      "     |  __suppress_context__\n",
      "     |  \n",
      "     |  __traceback__\n",
      "     |  \n",
      "     |  args\n",
      "    \n",
      "    class stat_result(builtins.tuple)\n",
      "     |  stat_result(iterable=(), /)\n",
      "     |  \n",
      "     |  stat_result: Result from stat, fstat, or lstat.\n",
      "     |  \n",
      "     |  This object may be accessed either as a tuple of\n",
      "     |    (mode, ino, dev, nlink, uid, gid, size, atime, mtime, ctime)\n",
      "     |  or via the attributes st_mode, st_ino, st_dev, st_nlink, st_uid, and so on.\n",
      "     |  \n",
      "     |  Posix/windows: If your platform supports st_blksize, st_blocks, st_rdev,\n",
      "     |  or st_flags, they are available as attributes only.\n",
      "     |  \n",
      "     |  See os.stat for more information.\n",
      "     |  \n",
      "     |  Method resolution order:\n",
      "     |      stat_result\n",
      "     |      builtins.tuple\n",
      "     |      builtins.object\n",
      "     |  \n",
      "     |  Methods defined here:\n",
      "     |  \n",
      "     |  __reduce__(...)\n",
      "     |      Helper for pickle.\n",
      "     |  \n",
      "     |  __repr__(self, /)\n",
      "     |      Return repr(self).\n",
      "     |  \n",
      "     |  ----------------------------------------------------------------------\n",
      "     |  Static methods defined here:\n",
      "     |  \n",
      "     |  __new__(*args, **kwargs) from builtins.type\n",
      "     |      Create and return a new object.  See help(type) for accurate signature.\n",
      "     |  \n",
      "     |  ----------------------------------------------------------------------\n",
      "     |  Data descriptors defined here:\n",
      "     |  \n",
      "     |  st_atime\n",
      "     |      time of last access\n",
      "     |  \n",
      "     |  st_atime_ns\n",
      "     |      time of last access in nanoseconds\n",
      "     |  \n",
      "     |  st_birthtime\n",
      "     |      time of creation\n",
      "     |  \n",
      "     |  st_blksize\n",
      "     |      blocksize for filesystem I/O\n",
      "     |  \n",
      "     |  st_blocks\n",
      "     |      number of blocks allocated\n",
      "     |  \n",
      "     |  st_ctime\n",
      "     |      time of last change\n",
      "     |  \n",
      "     |  st_ctime_ns\n",
      "     |      time of last change in nanoseconds\n",
      "     |  \n",
      "     |  st_dev\n",
      "     |      device\n",
      "     |  \n",
      "     |  st_flags\n",
      "     |      user defined flags for file\n",
      "     |  \n",
      "     |  st_gen\n",
      "     |      generation number\n",
      "     |  \n",
      "     |  st_gid\n",
      "     |      group ID of owner\n",
      "     |  \n",
      "     |  st_ino\n",
      "     |      inode\n",
      "     |  \n",
      "     |  st_mode\n",
      "     |      protection bits\n",
      "     |  \n",
      "     |  st_mtime\n",
      "     |      time of last modification\n",
      "     |  \n",
      "     |  st_mtime_ns\n",
      "     |      time of last modification in nanoseconds\n",
      "     |  \n",
      "     |  st_nlink\n",
      "     |      number of hard links\n",
      "     |  \n",
      "     |  st_rdev\n",
      "     |      device type (if inode device)\n",
      "     |  \n",
      "     |  st_size\n",
      "     |      total size, in bytes\n",
      "     |  \n",
      "     |  st_uid\n",
      "     |      user ID of owner\n",
      "     |  \n",
      "     |  ----------------------------------------------------------------------\n",
      "     |  Data and other attributes defined here:\n",
      "     |  \n",
      "     |  n_fields = 22\n",
      "     |  \n",
      "     |  n_sequence_fields = 10\n",
      "     |  \n",
      "     |  n_unnamed_fields = 3\n",
      "     |  \n",
      "     |  ----------------------------------------------------------------------\n",
      "     |  Methods inherited from builtins.tuple:\n",
      "     |  \n",
      "     |  __add__(self, value, /)\n",
      "     |      Return self+value.\n",
      "     |  \n",
      "     |  __contains__(self, key, /)\n",
      "     |      Return key in self.\n",
      "     |  \n",
      "     |  __eq__(self, value, /)\n",
      "     |      Return self==value.\n",
      "     |  \n",
      "     |  __ge__(self, value, /)\n",
      "     |      Return self>=value.\n",
      "     |  \n",
      "     |  __getattribute__(self, name, /)\n",
      "     |      Return getattr(self, name).\n",
      "     |  \n",
      "     |  __getitem__(self, key, /)\n",
      "     |      Return self[key].\n",
      "     |  \n",
      "     |  __getnewargs__(self, /)\n",
      "     |  \n",
      "     |  __gt__(self, value, /)\n",
      "     |      Return self>value.\n",
      "     |  \n",
      "     |  __hash__(self, /)\n",
      "     |      Return hash(self).\n",
      "     |  \n",
      "     |  __iter__(self, /)\n",
      "     |      Implement iter(self).\n",
      "     |  \n",
      "     |  __le__(self, value, /)\n",
      "     |      Return self<=value.\n",
      "     |  \n",
      "     |  __len__(self, /)\n",
      "     |      Return len(self).\n",
      "     |  \n",
      "     |  __lt__(self, value, /)\n",
      "     |      Return self<value.\n",
      "     |  \n",
      "     |  __mul__(self, value, /)\n",
      "     |      Return self*value.\n",
      "     |  \n",
      "     |  __ne__(self, value, /)\n",
      "     |      Return self!=value.\n",
      "     |  \n",
      "     |  __rmul__(self, value, /)\n",
      "     |      Return value*self.\n",
      "     |  \n",
      "     |  count(self, value, /)\n",
      "     |      Return number of occurrences of value.\n",
      "     |  \n",
      "     |  index(self, value, start=0, stop=9223372036854775807, /)\n",
      "     |      Return first index of value.\n",
      "     |      \n",
      "     |      Raises ValueError if the value is not present.\n",
      "     |  \n",
      "     |  ----------------------------------------------------------------------\n",
      "     |  Class methods inherited from builtins.tuple:\n",
      "     |  \n",
      "     |  __class_getitem__(...) from builtins.type\n",
      "     |      See PEP 585\n",
      "    \n",
      "    class statvfs_result(builtins.tuple)\n",
      "     |  statvfs_result(iterable=(), /)\n",
      "     |  \n",
      "     |  statvfs_result: Result from statvfs or fstatvfs.\n",
      "     |  \n",
      "     |  This object may be accessed either as a tuple of\n",
      "     |    (bsize, frsize, blocks, bfree, bavail, files, ffree, favail, flag, namemax),\n",
      "     |  or via the attributes f_bsize, f_frsize, f_blocks, f_bfree, and so on.\n",
      "     |  \n",
      "     |  See os.statvfs for more information.\n",
      "     |  \n",
      "     |  Method resolution order:\n",
      "     |      statvfs_result\n",
      "     |      builtins.tuple\n",
      "     |      builtins.object\n",
      "     |  \n",
      "     |  Methods defined here:\n",
      "     |  \n",
      "     |  __reduce__(...)\n",
      "     |      Helper for pickle.\n",
      "     |  \n",
      "     |  __repr__(self, /)\n",
      "     |      Return repr(self).\n",
      "     |  \n",
      "     |  ----------------------------------------------------------------------\n",
      "     |  Static methods defined here:\n",
      "     |  \n",
      "     |  __new__(*args, **kwargs) from builtins.type\n",
      "     |      Create and return a new object.  See help(type) for accurate signature.\n",
      "     |  \n",
      "     |  ----------------------------------------------------------------------\n",
      "     |  Data descriptors defined here:\n",
      "     |  \n",
      "     |  f_bavail\n",
      "     |  \n",
      "     |  f_bfree\n",
      "     |  \n",
      "     |  f_blocks\n",
      "     |  \n",
      "     |  f_bsize\n",
      "     |  \n",
      "     |  f_favail\n",
      "     |  \n",
      "     |  f_ffree\n",
      "     |  \n",
      "     |  f_files\n",
      "     |  \n",
      "     |  f_flag\n",
      "     |  \n",
      "     |  f_frsize\n",
      "     |  \n",
      "     |  f_fsid\n",
      "     |  \n",
      "     |  f_namemax\n",
      "     |  \n",
      "     |  ----------------------------------------------------------------------\n",
      "     |  Data and other attributes defined here:\n",
      "     |  \n",
      "     |  n_fields = 11\n",
      "     |  \n",
      "     |  n_sequence_fields = 10\n",
      "     |  \n",
      "     |  n_unnamed_fields = 0\n",
      "     |  \n",
      "     |  ----------------------------------------------------------------------\n",
      "     |  Methods inherited from builtins.tuple:\n",
      "     |  \n",
      "     |  __add__(self, value, /)\n",
      "     |      Return self+value.\n",
      "     |  \n",
      "     |  __contains__(self, key, /)\n",
      "     |      Return key in self.\n",
      "     |  \n",
      "     |  __eq__(self, value, /)\n",
      "     |      Return self==value.\n",
      "     |  \n",
      "     |  __ge__(self, value, /)\n",
      "     |      Return self>=value.\n",
      "     |  \n",
      "     |  __getattribute__(self, name, /)\n",
      "     |      Return getattr(self, name).\n",
      "     |  \n",
      "     |  __getitem__(self, key, /)\n",
      "     |      Return self[key].\n",
      "     |  \n",
      "     |  __getnewargs__(self, /)\n",
      "     |  \n",
      "     |  __gt__(self, value, /)\n",
      "     |      Return self>value.\n",
      "     |  \n",
      "     |  __hash__(self, /)\n",
      "     |      Return hash(self).\n",
      "     |  \n",
      "     |  __iter__(self, /)\n",
      "     |      Implement iter(self).\n",
      "     |  \n",
      "     |  __le__(self, value, /)\n",
      "     |      Return self<=value.\n",
      "     |  \n",
      "     |  __len__(self, /)\n",
      "     |      Return len(self).\n",
      "     |  \n",
      "     |  __lt__(self, value, /)\n",
      "     |      Return self<value.\n",
      "     |  \n",
      "     |  __mul__(self, value, /)\n",
      "     |      Return self*value.\n",
      "     |  \n",
      "     |  __ne__(self, value, /)\n",
      "     |      Return self!=value.\n",
      "     |  \n",
      "     |  __rmul__(self, value, /)\n",
      "     |      Return value*self.\n",
      "     |  \n",
      "     |  count(self, value, /)\n",
      "     |      Return number of occurrences of value.\n",
      "     |  \n",
      "     |  index(self, value, start=0, stop=9223372036854775807, /)\n",
      "     |      Return first index of value.\n",
      "     |      \n",
      "     |      Raises ValueError if the value is not present.\n",
      "     |  \n",
      "     |  ----------------------------------------------------------------------\n",
      "     |  Class methods inherited from builtins.tuple:\n",
      "     |  \n",
      "     |  __class_getitem__(...) from builtins.type\n",
      "     |      See PEP 585\n",
      "    \n",
      "    class terminal_size(builtins.tuple)\n",
      "     |  terminal_size(iterable=(), /)\n",
      "     |  \n",
      "     |  A tuple of (columns, lines) for holding terminal window size\n",
      "     |  \n",
      "     |  Method resolution order:\n",
      "     |      terminal_size\n",
      "     |      builtins.tuple\n",
      "     |      builtins.object\n",
      "     |  \n",
      "     |  Methods defined here:\n",
      "     |  \n",
      "     |  __reduce__(...)\n",
      "     |      Helper for pickle.\n",
      "     |  \n",
      "     |  __repr__(self, /)\n",
      "     |      Return repr(self).\n",
      "     |  \n",
      "     |  ----------------------------------------------------------------------\n",
      "     |  Static methods defined here:\n",
      "     |  \n",
      "     |  __new__(*args, **kwargs) from builtins.type\n",
      "     |      Create and return a new object.  See help(type) for accurate signature.\n",
      "     |  \n",
      "     |  ----------------------------------------------------------------------\n",
      "     |  Data descriptors defined here:\n",
      "     |  \n",
      "     |  columns\n",
      "     |      width of the terminal window in characters\n",
      "     |  \n",
      "     |  lines\n",
      "     |      height of the terminal window in characters\n",
      "     |  \n",
      "     |  ----------------------------------------------------------------------\n",
      "     |  Data and other attributes defined here:\n",
      "     |  \n",
      "     |  n_fields = 2\n",
      "     |  \n",
      "     |  n_sequence_fields = 2\n",
      "     |  \n",
      "     |  n_unnamed_fields = 0\n",
      "     |  \n",
      "     |  ----------------------------------------------------------------------\n",
      "     |  Methods inherited from builtins.tuple:\n",
      "     |  \n",
      "     |  __add__(self, value, /)\n",
      "     |      Return self+value.\n",
      "     |  \n",
      "     |  __contains__(self, key, /)\n",
      "     |      Return key in self.\n",
      "     |  \n",
      "     |  __eq__(self, value, /)\n",
      "     |      Return self==value.\n",
      "     |  \n",
      "     |  __ge__(self, value, /)\n",
      "     |      Return self>=value.\n",
      "     |  \n",
      "     |  __getattribute__(self, name, /)\n",
      "     |      Return getattr(self, name).\n",
      "     |  \n",
      "     |  __getitem__(self, key, /)\n",
      "     |      Return self[key].\n",
      "     |  \n",
      "     |  __getnewargs__(self, /)\n",
      "     |  \n",
      "     |  __gt__(self, value, /)\n",
      "     |      Return self>value.\n",
      "     |  \n",
      "     |  __hash__(self, /)\n",
      "     |      Return hash(self).\n",
      "     |  \n",
      "     |  __iter__(self, /)\n",
      "     |      Implement iter(self).\n",
      "     |  \n",
      "     |  __le__(self, value, /)\n",
      "     |      Return self<=value.\n",
      "     |  \n",
      "     |  __len__(self, /)\n",
      "     |      Return len(self).\n",
      "     |  \n",
      "     |  __lt__(self, value, /)\n",
      "     |      Return self<value.\n",
      "     |  \n",
      "     |  __mul__(self, value, /)\n",
      "     |      Return self*value.\n",
      "     |  \n",
      "     |  __ne__(self, value, /)\n",
      "     |      Return self!=value.\n",
      "     |  \n",
      "     |  __rmul__(self, value, /)\n",
      "     |      Return value*self.\n",
      "     |  \n",
      "     |  count(self, value, /)\n",
      "     |      Return number of occurrences of value.\n",
      "     |  \n",
      "     |  index(self, value, start=0, stop=9223372036854775807, /)\n",
      "     |      Return first index of value.\n",
      "     |      \n",
      "     |      Raises ValueError if the value is not present.\n",
      "     |  \n",
      "     |  ----------------------------------------------------------------------\n",
      "     |  Class methods inherited from builtins.tuple:\n",
      "     |  \n",
      "     |  __class_getitem__(...) from builtins.type\n",
      "     |      See PEP 585\n",
      "    \n",
      "    class times_result(builtins.tuple)\n",
      "     |  times_result(iterable=(), /)\n",
      "     |  \n",
      "     |  times_result: Result from os.times().\n",
      "     |  \n",
      "     |  This object may be accessed either as a tuple of\n",
      "     |    (user, system, children_user, children_system, elapsed),\n",
      "     |  or via the attributes user, system, children_user, children_system,\n",
      "     |  and elapsed.\n",
      "     |  \n",
      "     |  See os.times for more information.\n",
      "     |  \n",
      "     |  Method resolution order:\n",
      "     |      times_result\n",
      "     |      builtins.tuple\n",
      "     |      builtins.object\n",
      "     |  \n",
      "     |  Methods defined here:\n",
      "     |  \n",
      "     |  __reduce__(...)\n",
      "     |      Helper for pickle.\n",
      "     |  \n",
      "     |  __repr__(self, /)\n",
      "     |      Return repr(self).\n",
      "     |  \n",
      "     |  ----------------------------------------------------------------------\n",
      "     |  Static methods defined here:\n",
      "     |  \n",
      "     |  __new__(*args, **kwargs) from builtins.type\n",
      "     |      Create and return a new object.  See help(type) for accurate signature.\n",
      "     |  \n",
      "     |  ----------------------------------------------------------------------\n",
      "     |  Data descriptors defined here:\n",
      "     |  \n",
      "     |  children_system\n",
      "     |      system time of children\n",
      "     |  \n",
      "     |  children_user\n",
      "     |      user time of children\n",
      "     |  \n",
      "     |  elapsed\n",
      "     |      elapsed time since an arbitrary point in the past\n",
      "     |  \n",
      "     |  system\n",
      "     |      system time\n",
      "     |  \n",
      "     |  user\n",
      "     |      user time\n",
      "     |  \n",
      "     |  ----------------------------------------------------------------------\n",
      "     |  Data and other attributes defined here:\n",
      "     |  \n",
      "     |  n_fields = 5\n",
      "     |  \n",
      "     |  n_sequence_fields = 5\n",
      "     |  \n",
      "     |  n_unnamed_fields = 0\n",
      "     |  \n",
      "     |  ----------------------------------------------------------------------\n",
      "     |  Methods inherited from builtins.tuple:\n",
      "     |  \n",
      "     |  __add__(self, value, /)\n",
      "     |      Return self+value.\n",
      "     |  \n",
      "     |  __contains__(self, key, /)\n",
      "     |      Return key in self.\n",
      "     |  \n",
      "     |  __eq__(self, value, /)\n",
      "     |      Return self==value.\n",
      "     |  \n",
      "     |  __ge__(self, value, /)\n",
      "     |      Return self>=value.\n",
      "     |  \n",
      "     |  __getattribute__(self, name, /)\n",
      "     |      Return getattr(self, name).\n",
      "     |  \n",
      "     |  __getitem__(self, key, /)\n",
      "     |      Return self[key].\n",
      "     |  \n",
      "     |  __getnewargs__(self, /)\n",
      "     |  \n",
      "     |  __gt__(self, value, /)\n",
      "     |      Return self>value.\n",
      "     |  \n",
      "     |  __hash__(self, /)\n",
      "     |      Return hash(self).\n",
      "     |  \n",
      "     |  __iter__(self, /)\n",
      "     |      Implement iter(self).\n",
      "     |  \n",
      "     |  __le__(self, value, /)\n",
      "     |      Return self<=value.\n",
      "     |  \n",
      "     |  __len__(self, /)\n",
      "     |      Return len(self).\n",
      "     |  \n",
      "     |  __lt__(self, value, /)\n",
      "     |      Return self<value.\n",
      "     |  \n",
      "     |  __mul__(self, value, /)\n",
      "     |      Return self*value.\n",
      "     |  \n",
      "     |  __ne__(self, value, /)\n",
      "     |      Return self!=value.\n",
      "     |  \n",
      "     |  __rmul__(self, value, /)\n",
      "     |      Return value*self.\n",
      "     |  \n",
      "     |  count(self, value, /)\n",
      "     |      Return number of occurrences of value.\n",
      "     |  \n",
      "     |  index(self, value, start=0, stop=9223372036854775807, /)\n",
      "     |      Return first index of value.\n",
      "     |      \n",
      "     |      Raises ValueError if the value is not present.\n",
      "     |  \n",
      "     |  ----------------------------------------------------------------------\n",
      "     |  Class methods inherited from builtins.tuple:\n",
      "     |  \n",
      "     |  __class_getitem__(...) from builtins.type\n",
      "     |      See PEP 585\n",
      "    \n",
      "    class uname_result(builtins.tuple)\n",
      "     |  uname_result(iterable=(), /)\n",
      "     |  \n",
      "     |  uname_result: Result from os.uname().\n",
      "     |  \n",
      "     |  This object may be accessed either as a tuple of\n",
      "     |    (sysname, nodename, release, version, machine),\n",
      "     |  or via the attributes sysname, nodename, release, version, and machine.\n",
      "     |  \n",
      "     |  See os.uname for more information.\n",
      "     |  \n",
      "     |  Method resolution order:\n",
      "     |      uname_result\n",
      "     |      builtins.tuple\n",
      "     |      builtins.object\n",
      "     |  \n",
      "     |  Methods defined here:\n",
      "     |  \n",
      "     |  __reduce__(...)\n",
      "     |      Helper for pickle.\n",
      "     |  \n",
      "     |  __repr__(self, /)\n",
      "     |      Return repr(self).\n",
      "     |  \n",
      "     |  ----------------------------------------------------------------------\n",
      "     |  Static methods defined here:\n",
      "     |  \n",
      "     |  __new__(*args, **kwargs) from builtins.type\n",
      "     |      Create and return a new object.  See help(type) for accurate signature.\n",
      "     |  \n",
      "     |  ----------------------------------------------------------------------\n",
      "     |  Data descriptors defined here:\n",
      "     |  \n",
      "     |  machine\n",
      "     |      hardware identifier\n",
      "     |  \n",
      "     |  nodename\n",
      "     |      name of machine on network (implementation-defined)\n",
      "     |  \n",
      "     |  release\n",
      "     |      operating system release\n",
      "     |  \n",
      "     |  sysname\n",
      "     |      operating system name\n",
      "     |  \n",
      "     |  version\n",
      "     |      operating system version\n",
      "     |  \n",
      "     |  ----------------------------------------------------------------------\n",
      "     |  Data and other attributes defined here:\n",
      "     |  \n",
      "     |  n_fields = 5\n",
      "     |  \n",
      "     |  n_sequence_fields = 5\n",
      "     |  \n",
      "     |  n_unnamed_fields = 0\n",
      "     |  \n",
      "     |  ----------------------------------------------------------------------\n",
      "     |  Methods inherited from builtins.tuple:\n",
      "     |  \n",
      "     |  __add__(self, value, /)\n",
      "     |      Return self+value.\n",
      "     |  \n",
      "     |  __contains__(self, key, /)\n",
      "     |      Return key in self.\n",
      "     |  \n",
      "     |  __eq__(self, value, /)\n",
      "     |      Return self==value.\n",
      "     |  \n",
      "     |  __ge__(self, value, /)\n",
      "     |      Return self>=value.\n",
      "     |  \n",
      "     |  __getattribute__(self, name, /)\n",
      "     |      Return getattr(self, name).\n",
      "     |  \n",
      "     |  __getitem__(self, key, /)\n",
      "     |      Return self[key].\n",
      "     |  \n",
      "     |  __getnewargs__(self, /)\n",
      "     |  \n",
      "     |  __gt__(self, value, /)\n",
      "     |      Return self>value.\n",
      "     |  \n",
      "     |  __hash__(self, /)\n",
      "     |      Return hash(self).\n",
      "     |  \n",
      "     |  __iter__(self, /)\n",
      "     |      Implement iter(self).\n",
      "     |  \n",
      "     |  __le__(self, value, /)\n",
      "     |      Return self<=value.\n",
      "     |  \n",
      "     |  __len__(self, /)\n",
      "     |      Return len(self).\n",
      "     |  \n",
      "     |  __lt__(self, value, /)\n",
      "     |      Return self<value.\n",
      "     |  \n",
      "     |  __mul__(self, value, /)\n",
      "     |      Return self*value.\n",
      "     |  \n",
      "     |  __ne__(self, value, /)\n",
      "     |      Return self!=value.\n",
      "     |  \n",
      "     |  __rmul__(self, value, /)\n",
      "     |      Return value*self.\n",
      "     |  \n",
      "     |  count(self, value, /)\n",
      "     |      Return number of occurrences of value.\n",
      "     |  \n",
      "     |  index(self, value, start=0, stop=9223372036854775807, /)\n",
      "     |      Return first index of value.\n",
      "     |      \n",
      "     |      Raises ValueError if the value is not present.\n",
      "     |  \n",
      "     |  ----------------------------------------------------------------------\n",
      "     |  Class methods inherited from builtins.tuple:\n",
      "     |  \n",
      "     |  __class_getitem__(...) from builtins.type\n",
      "     |      See PEP 585\n",
      "\n",
      "FUNCTIONS\n",
      "    WCOREDUMP(status, /)\n",
      "        Return True if the process returning status was dumped to a core file.\n",
      "    \n",
      "    WEXITSTATUS(status)\n",
      "        Return the process return code from status.\n",
      "    \n",
      "    WIFCONTINUED(status)\n",
      "        Return True if a particular process was continued from a job control stop.\n",
      "        \n",
      "        Return True if the process returning status was continued from a\n",
      "        job control stop.\n",
      "    \n",
      "    WIFEXITED(status)\n",
      "        Return True if the process returning status exited via the exit() system call.\n",
      "    \n",
      "    WIFSIGNALED(status)\n",
      "        Return True if the process returning status was terminated by a signal.\n",
      "    \n",
      "    WIFSTOPPED(status)\n",
      "        Return True if the process returning status was stopped.\n",
      "    \n",
      "    WSTOPSIG(status)\n",
      "        Return the signal that stopped the process that provided the status value.\n",
      "    \n",
      "    WTERMSIG(status)\n",
      "        Return the signal that terminated the process that provided the status value.\n",
      "    \n",
      "    _exit(status)\n",
      "        Exit to the system with specified status, without normal exit processing.\n",
      "    \n",
      "    abort()\n",
      "        Abort the interpreter immediately.\n",
      "        \n",
      "        This function 'dumps core' or otherwise fails in the hardest way possible\n",
      "        on the hosting operating system.  This function never returns.\n",
      "    \n",
      "    access(path, mode, *, dir_fd=None, effective_ids=False, follow_symlinks=True)\n",
      "        Use the real uid/gid to test for access to a path.\n",
      "        \n",
      "          path\n",
      "            Path to be tested; can be string, bytes, or a path-like object.\n",
      "          mode\n",
      "            Operating-system mode bitfield.  Can be F_OK to test existence,\n",
      "            or the inclusive-OR of R_OK, W_OK, and X_OK.\n",
      "          dir_fd\n",
      "            If not None, it should be a file descriptor open to a directory,\n",
      "            and path should be relative; path will then be relative to that\n",
      "            directory.\n",
      "          effective_ids\n",
      "            If True, access will use the effective uid/gid instead of\n",
      "            the real uid/gid.\n",
      "          follow_symlinks\n",
      "            If False, and the last element of the path is a symbolic link,\n",
      "            access will examine the symbolic link itself instead of the file\n",
      "            the link points to.\n",
      "        \n",
      "        dir_fd, effective_ids, and follow_symlinks may not be implemented\n",
      "          on your platform.  If they are unavailable, using them will raise a\n",
      "          NotImplementedError.\n",
      "        \n",
      "        Note that most operations will use the effective uid/gid, therefore this\n",
      "          routine can be used in a suid/sgid environment to test if the invoking user\n",
      "          has the specified access to the path.\n",
      "    \n",
      "    chdir(path)\n",
      "        Change the current working directory to the specified path.\n",
      "        \n",
      "        path may always be specified as a string.\n",
      "        On some platforms, path may also be specified as an open file descriptor.\n",
      "          If this functionality is unavailable, using it raises an exception.\n",
      "    \n",
      "    chflags(path, flags, follow_symlinks=True)\n",
      "        Set file flags.\n",
      "        \n",
      "        If follow_symlinks is False, and the last element of the path is a symbolic\n",
      "          link, chflags will change flags on the symbolic link itself instead of the\n",
      "          file the link points to.\n",
      "        follow_symlinks may not be implemented on your platform.  If it is\n",
      "        unavailable, using it will raise a NotImplementedError.\n",
      "    \n",
      "    chmod(path, mode, *, dir_fd=None, follow_symlinks=True)\n",
      "        Change the access permissions of a file.\n",
      "        \n",
      "          path\n",
      "            Path to be modified.  May always be specified as a str, bytes, or a path-like object.\n",
      "            On some platforms, path may also be specified as an open file descriptor.\n",
      "            If this functionality is unavailable, using it raises an exception.\n",
      "          mode\n",
      "            Operating-system mode bitfield.\n",
      "          dir_fd\n",
      "            If not None, it should be a file descriptor open to a directory,\n",
      "            and path should be relative; path will then be relative to that\n",
      "            directory.\n",
      "          follow_symlinks\n",
      "            If False, and the last element of the path is a symbolic link,\n",
      "            chmod will modify the symbolic link itself instead of the file\n",
      "            the link points to.\n",
      "        \n",
      "        It is an error to use dir_fd or follow_symlinks when specifying path as\n",
      "          an open file descriptor.\n",
      "        dir_fd and follow_symlinks may not be implemented on your platform.\n",
      "          If they are unavailable, using them will raise a NotImplementedError.\n",
      "    \n",
      "    chown(path, uid, gid, *, dir_fd=None, follow_symlinks=True)\n",
      "        Change the owner and group id of path to the numeric uid and gid.\\\n",
      "        \n",
      "          path\n",
      "            Path to be examined; can be string, bytes, a path-like object, or open-file-descriptor int.\n",
      "          dir_fd\n",
      "            If not None, it should be a file descriptor open to a directory,\n",
      "            and path should be relative; path will then be relative to that\n",
      "            directory.\n",
      "          follow_symlinks\n",
      "            If False, and the last element of the path is a symbolic link,\n",
      "            stat will examine the symbolic link itself instead of the file\n",
      "            the link points to.\n",
      "        \n",
      "        path may always be specified as a string.\n",
      "        On some platforms, path may also be specified as an open file descriptor.\n",
      "          If this functionality is unavailable, using it raises an exception.\n",
      "        If dir_fd is not None, it should be a file descriptor open to a directory,\n",
      "          and path should be relative; path will then be relative to that directory.\n",
      "        If follow_symlinks is False, and the last element of the path is a symbolic\n",
      "          link, chown will modify the symbolic link itself instead of the file the\n",
      "          link points to.\n",
      "        It is an error to use dir_fd or follow_symlinks when specifying path as\n",
      "          an open file descriptor.\n",
      "        dir_fd and follow_symlinks may not be implemented on your platform.\n",
      "          If they are unavailable, using them will raise a NotImplementedError.\n",
      "    \n",
      "    chroot(path)\n",
      "        Change root directory to path.\n",
      "    \n",
      "    close(fd)\n",
      "        Close a file descriptor.\n",
      "    \n",
      "    closerange(fd_low, fd_high, /)\n",
      "        Closes all file descriptors in [fd_low, fd_high), ignoring errors.\n",
      "    \n",
      "    confstr(name, /)\n",
      "        Return a string-valued system configuration variable.\n",
      "    \n",
      "    cpu_count()\n",
      "        Return the number of CPUs in the system; return None if indeterminable.\n",
      "        \n",
      "        This number is not equivalent to the number of CPUs the current process can\n",
      "        use.  The number of usable CPUs can be obtained with\n",
      "        ``len(os.sched_getaffinity(0))``\n",
      "    \n",
      "    ctermid()\n",
      "        Return the name of the controlling terminal for this process.\n",
      "    \n",
      "    device_encoding(fd)\n",
      "        Return a string describing the encoding of a terminal's file descriptor.\n",
      "        \n",
      "        The file descriptor must be attached to a terminal.\n",
      "        If the device is not a terminal, return None.\n",
      "    \n",
      "    dup(fd, /)\n",
      "        Return a duplicate of a file descriptor.\n",
      "    \n",
      "    dup2(fd, fd2, inheritable=True)\n",
      "        Duplicate file descriptor.\n",
      "    \n",
      "    execl(file, *args)\n",
      "        execl(file, *args)\n",
      "        \n",
      "        Execute the executable file with argument list args, replacing the\n",
      "        current process.\n",
      "    \n",
      "    execle(file, *args)\n",
      "        execle(file, *args, env)\n",
      "        \n",
      "        Execute the executable file with argument list args and\n",
      "        environment env, replacing the current process.\n",
      "    \n",
      "    execlp(file, *args)\n",
      "        execlp(file, *args)\n",
      "        \n",
      "        Execute the executable file (which is searched for along $PATH)\n",
      "        with argument list args, replacing the current process.\n",
      "    \n",
      "    execlpe(file, *args)\n",
      "        execlpe(file, *args, env)\n",
      "        \n",
      "        Execute the executable file (which is searched for along $PATH)\n",
      "        with argument list args and environment env, replacing the current\n",
      "        process.\n",
      "    \n",
      "    execv(path, argv, /)\n",
      "        Execute an executable path with arguments, replacing current process.\n",
      "        \n",
      "        path\n",
      "          Path of executable file.\n",
      "        argv\n",
      "          Tuple or list of strings.\n",
      "    \n",
      "    execve(path, argv, env)\n",
      "        Execute an executable path with arguments, replacing current process.\n",
      "        \n",
      "        path\n",
      "          Path of executable file.\n",
      "        argv\n",
      "          Tuple or list of strings.\n",
      "        env\n",
      "          Dictionary of strings mapping to strings.\n",
      "    \n",
      "    execvp(file, args)\n",
      "        execvp(file, args)\n",
      "        \n",
      "        Execute the executable file (which is searched for along $PATH)\n",
      "        with argument list args, replacing the current process.\n",
      "        args may be a list or tuple of strings.\n",
      "    \n",
      "    execvpe(file, args, env)\n",
      "        execvpe(file, args, env)\n",
      "        \n",
      "        Execute the executable file (which is searched for along $PATH)\n",
      "        with argument list args and environment env, replacing the\n",
      "        current process.\n",
      "        args may be a list or tuple of strings.\n",
      "    \n",
      "    fchdir(fd)\n",
      "        Change to the directory of the given file descriptor.\n",
      "        \n",
      "        fd must be opened on a directory, not a file.\n",
      "        Equivalent to os.chdir(fd).\n",
      "    \n",
      "    fchmod(fd, mode)\n",
      "        Change the access permissions of the file given by file descriptor fd.\n",
      "        \n",
      "        Equivalent to os.chmod(fd, mode).\n",
      "    \n",
      "    fchown(fd, uid, gid)\n",
      "        Change the owner and group id of the file specified by file descriptor.\n",
      "        \n",
      "        Equivalent to os.chown(fd, uid, gid).\n",
      "    \n",
      "    fdopen(fd, *args, **kwargs)\n",
      "        # Supply os.fdopen()\n",
      "    \n",
      "    fork()\n",
      "        Fork a child process.\n",
      "        \n",
      "        Return 0 to child process and PID of child to parent process.\n",
      "    \n",
      "    forkpty()\n",
      "        Fork a new process with a new pseudo-terminal as controlling tty.\n",
      "        \n",
      "        Returns a tuple of (pid, master_fd).\n",
      "        Like fork(), return pid of 0 to the child process,\n",
      "        and pid of child to the parent process.\n",
      "        To both, return fd of newly opened pseudo-terminal.\n",
      "    \n",
      "    fpathconf(fd, name, /)\n",
      "        Return the configuration limit name for the file descriptor fd.\n",
      "        \n",
      "        If there is no limit, return -1.\n",
      "    \n",
      "    fsdecode(filename)\n",
      "        Decode filename (an os.PathLike, bytes, or str) from the filesystem\n",
      "        encoding with 'surrogateescape' error handler, return str unchanged. On\n",
      "        Windows, use 'strict' error handler if the file system encoding is\n",
      "        'mbcs' (which is the default encoding).\n",
      "    \n",
      "    fsencode(filename)\n",
      "        Encode filename (an os.PathLike, bytes, or str) to the filesystem\n",
      "        encoding with 'surrogateescape' error handler, return bytes unchanged.\n",
      "        On Windows, use 'strict' error handler if the file system encoding is\n",
      "        'mbcs' (which is the default encoding).\n",
      "    \n",
      "    fspath(path)\n",
      "        Return the file system path representation of the object.\n",
      "        \n",
      "        If the object is str or bytes, then allow it to pass through as-is. If the\n",
      "        object defines __fspath__(), then return the result of that method. All other\n",
      "        types raise a TypeError.\n",
      "    \n",
      "    fstat(fd)\n",
      "        Perform a stat system call on the given file descriptor.\n",
      "        \n",
      "        Like stat(), but for an open file descriptor.\n",
      "        Equivalent to os.stat(fd).\n",
      "    \n",
      "    fstatvfs(fd, /)\n",
      "        Perform an fstatvfs system call on the given fd.\n",
      "        \n",
      "        Equivalent to statvfs(fd).\n",
      "    \n",
      "    fsync(fd)\n",
      "        Force write of fd to disk.\n",
      "    \n",
      "    ftruncate(fd, length, /)\n",
      "        Truncate a file, specified by file descriptor, to a specific length.\n",
      "    \n",
      "    fwalk(top='.', topdown=True, onerror=None, *, follow_symlinks=False, dir_fd=None)\n",
      "        Directory tree generator.\n",
      "        \n",
      "        This behaves exactly like walk(), except that it yields a 4-tuple\n",
      "        \n",
      "            dirpath, dirnames, filenames, dirfd\n",
      "        \n",
      "        `dirpath`, `dirnames` and `filenames` are identical to walk() output,\n",
      "        and `dirfd` is a file descriptor referring to the directory `dirpath`.\n",
      "        \n",
      "        The advantage of fwalk() over walk() is that it's safe against symlink\n",
      "        races (when follow_symlinks is False).\n",
      "        \n",
      "        If dir_fd is not None, it should be a file descriptor open to a directory,\n",
      "          and top should be relative; top will then be relative to that directory.\n",
      "          (dir_fd is always supported for fwalk.)\n",
      "        \n",
      "        Caution:\n",
      "        Since fwalk() yields file descriptors, those are only valid until the\n",
      "        next iteration step, so you should dup() them if you want to keep them\n",
      "        for a longer period.\n",
      "        \n",
      "        Example:\n",
      "        \n",
      "        import os\n",
      "        for root, dirs, files, rootfd in os.fwalk('python/Lib/email'):\n",
      "            print(root, \"consumes\", end=\"\")\n",
      "            print(sum(os.stat(name, dir_fd=rootfd).st_size for name in files),\n",
      "                  end=\"\")\n",
      "            print(\"bytes in\", len(files), \"non-directory files\")\n",
      "            if 'CVS' in dirs:\n",
      "                dirs.remove('CVS')  # don't visit CVS directories\n",
      "    \n",
      "    get_blocking(fd, /)\n",
      "        Get the blocking mode of the file descriptor.\n",
      "        \n",
      "        Return False if the O_NONBLOCK flag is set, True if the flag is cleared.\n",
      "    \n",
      "    get_exec_path(env=None)\n",
      "        Returns the sequence of directories that will be searched for the\n",
      "        named executable (similar to a shell) when launching a process.\n",
      "        \n",
      "        *env* must be an environment variable dict or None.  If *env* is None,\n",
      "        os.environ will be used.\n",
      "    \n",
      "    get_inheritable(fd, /)\n",
      "        Get the close-on-exe flag of the specified file descriptor.\n",
      "    \n",
      "    get_terminal_size(...)\n",
      "        Return the size of the terminal window as (columns, lines).\n",
      "        \n",
      "        The optional argument fd (default standard output) specifies\n",
      "        which file descriptor should be queried.\n",
      "        \n",
      "        If the file descriptor is not connected to a terminal, an OSError\n",
      "        is thrown.\n",
      "        \n",
      "        This function will only be defined if an implementation is\n",
      "        available for this system.\n",
      "        \n",
      "        shutil.get_terminal_size is the high-level function which should\n",
      "        normally be used, os.get_terminal_size is the low-level implementation.\n",
      "    \n",
      "    getcwd()\n",
      "        Return a unicode string representing the current working directory.\n",
      "    \n",
      "    getcwdb()\n",
      "        Return a bytes string representing the current working directory.\n",
      "    \n",
      "    getegid()\n",
      "        Return the current process's effective group id.\n",
      "    \n",
      "    getenv(key, default=None)\n",
      "        Get an environment variable, return None if it doesn't exist.\n",
      "        The optional second argument can specify an alternate default.\n",
      "        key, default and the result are str.\n",
      "    \n",
      "    getenvb(key, default=None)\n",
      "        Get an environment variable, return None if it doesn't exist.\n",
      "        The optional second argument can specify an alternate default.\n",
      "        key, default and the result are bytes.\n",
      "    \n",
      "    geteuid()\n",
      "        Return the current process's effective user id.\n",
      "    \n",
      "    getgid()\n",
      "        Return the current process's group id.\n",
      "    \n",
      "    getgrouplist(user, group, /)\n",
      "        Returns a list of groups to which a user belongs.\n",
      "        \n",
      "        user\n",
      "          username to lookup\n",
      "        group\n",
      "          base group id of the user\n",
      "    \n",
      "    getgroups()\n",
      "        Return list of supplemental group IDs for the process.\n",
      "    \n",
      "    getloadavg()\n",
      "        Return average recent system load information.\n",
      "        \n",
      "        Return the number of processes in the system run queue averaged over\n",
      "        the last 1, 5, and 15 minutes as a tuple of three floats.\n",
      "        Raises OSError if the load average was unobtainable.\n",
      "    \n",
      "    getlogin()\n",
      "        Return the actual login name.\n",
      "    \n",
      "    getpgid(pid)\n",
      "        Call the system call getpgid(), and return the result.\n",
      "    \n",
      "    getpgrp()\n",
      "        Return the current process group id.\n",
      "    \n",
      "    getpid()\n",
      "        Return the current process id.\n",
      "    \n",
      "    getppid()\n",
      "        Return the parent's process id.\n",
      "        \n",
      "        If the parent process has already exited, Windows machines will still\n",
      "        return its id; others systems will return the id of the 'init' process (1).\n",
      "    \n",
      "    getpriority(which, who)\n",
      "        Return program scheduling priority.\n",
      "    \n",
      "    getsid(pid, /)\n",
      "        Call the system call getsid(pid) and return the result.\n",
      "    \n",
      "    getuid()\n",
      "        Return the current process's user id.\n",
      "    \n",
      "    initgroups(username, gid, /)\n",
      "        Initialize the group access list.\n",
      "        \n",
      "        Call the system initgroups() to initialize the group access list with all of\n",
      "        the groups of which the specified username is a member, plus the specified\n",
      "        group id.\n",
      "    \n",
      "    isatty(fd, /)\n",
      "        Return True if the fd is connected to a terminal.\n",
      "        \n",
      "        Return True if the file descriptor is an open file descriptor\n",
      "        connected to the slave end of a terminal.\n",
      "    \n",
      "    kill(pid, signal, /)\n",
      "        Kill a process with a signal.\n",
      "    \n",
      "    killpg(pgid, signal, /)\n",
      "        Kill a process group with a signal.\n",
      "    \n",
      "    lchflags(path, flags)\n",
      "        Set file flags.\n",
      "        \n",
      "        This function will not follow symbolic links.\n",
      "        Equivalent to chflags(path, flags, follow_symlinks=False).\n",
      "    \n",
      "    lchmod(path, mode)\n",
      "        Change the access permissions of a file, without following symbolic links.\n",
      "        \n",
      "        If path is a symlink, this affects the link itself rather than the target.\n",
      "        Equivalent to chmod(path, mode, follow_symlinks=False).\"\n",
      "    \n",
      "    lchown(path, uid, gid)\n",
      "        Change the owner and group id of path to the numeric uid and gid.\n",
      "        \n",
      "        This function will not follow symbolic links.\n",
      "        Equivalent to os.chown(path, uid, gid, follow_symlinks=False).\n",
      "    \n",
      "    link(src, dst, *, src_dir_fd=None, dst_dir_fd=None, follow_symlinks=True)\n",
      "        Create a hard link to a file.\n",
      "        \n",
      "        If either src_dir_fd or dst_dir_fd is not None, it should be a file\n",
      "          descriptor open to a directory, and the respective path string (src or dst)\n",
      "          should be relative; the path will then be relative to that directory.\n",
      "        If follow_symlinks is False, and the last element of src is a symbolic\n",
      "          link, link will create a link to the symbolic link itself instead of the\n",
      "          file the link points to.\n",
      "        src_dir_fd, dst_dir_fd, and follow_symlinks may not be implemented on your\n",
      "          platform.  If they are unavailable, using them will raise a\n",
      "          NotImplementedError.\n",
      "    \n",
      "    listdir(path=None)\n",
      "        Return a list containing the names of the files in the directory.\n",
      "        \n",
      "        path can be specified as either str, bytes, or a path-like object.  If path is bytes,\n",
      "          the filenames returned will also be bytes; in all other circumstances\n",
      "          the filenames returned will be str.\n",
      "        If path is None, uses the path='.'.\n",
      "        On some platforms, path may also be specified as an open file descriptor;\\\n",
      "          the file descriptor must refer to a directory.\n",
      "          If this functionality is unavailable, using it raises NotImplementedError.\n",
      "        \n",
      "        The list is in arbitrary order.  It does not include the special\n",
      "        entries '.' and '..' even if they are present in the directory.\n",
      "    \n",
      "    lockf(fd, command, length, /)\n",
      "        Apply, test or remove a POSIX lock on an open file descriptor.\n",
      "        \n",
      "        fd\n",
      "          An open file descriptor.\n",
      "        command\n",
      "          One of F_LOCK, F_TLOCK, F_ULOCK or F_TEST.\n",
      "        length\n",
      "          The number of bytes to lock, starting at the current position.\n",
      "    \n",
      "    lseek(fd, position, how, /)\n",
      "        Set the position of a file descriptor.  Return the new position.\n",
      "        \n",
      "        Return the new cursor position in number of bytes\n",
      "        relative to the beginning of the file.\n",
      "    \n",
      "    lstat(path, *, dir_fd=None)\n",
      "        Perform a stat system call on the given path, without following symbolic links.\n",
      "        \n",
      "        Like stat(), but do not follow symbolic links.\n",
      "        Equivalent to stat(path, follow_symlinks=False).\n",
      "    \n",
      "    major(device, /)\n",
      "        Extracts a device major number from a raw device number.\n",
      "    \n",
      "    makedev(major, minor, /)\n",
      "        Composes a raw device number from the major and minor device numbers.\n",
      "    \n",
      "    makedirs(name, mode=511, exist_ok=False)\n",
      "        makedirs(name [, mode=0o777][, exist_ok=False])\n",
      "        \n",
      "        Super-mkdir; create a leaf directory and all intermediate ones.  Works like\n",
      "        mkdir, except that any intermediate path segment (not just the rightmost)\n",
      "        will be created if it does not exist. If the target directory already\n",
      "        exists, raise an OSError if exist_ok is False. Otherwise no exception is\n",
      "        raised.  This is recursive.\n",
      "    \n",
      "    minor(device, /)\n",
      "        Extracts a device minor number from a raw device number.\n",
      "    \n",
      "    mkdir(path, mode=511, *, dir_fd=None)\n",
      "        Create a directory.\n",
      "        \n",
      "        If dir_fd is not None, it should be a file descriptor open to a directory,\n",
      "          and path should be relative; path will then be relative to that directory.\n",
      "        dir_fd may not be implemented on your platform.\n",
      "          If it is unavailable, using it will raise a NotImplementedError.\n",
      "        \n",
      "        The mode argument is ignored on Windows.\n",
      "    \n",
      "    mkfifo(path, mode=438, *, dir_fd=None)\n",
      "        Create a \"fifo\" (a POSIX named pipe).\n",
      "        \n",
      "        If dir_fd is not None, it should be a file descriptor open to a directory,\n",
      "          and path should be relative; path will then be relative to that directory.\n",
      "        dir_fd may not be implemented on your platform.\n",
      "          If it is unavailable, using it will raise a NotImplementedError.\n",
      "    \n",
      "    mknod(path, mode=384, device=0, *, dir_fd=None)\n",
      "        Create a node in the file system.\n",
      "        \n",
      "        Create a node in the file system (file, device special file or named pipe)\n",
      "        at path.  mode specifies both the permissions to use and the\n",
      "        type of node to be created, being combined (bitwise OR) with one of\n",
      "        S_IFREG, S_IFCHR, S_IFBLK, and S_IFIFO.  If S_IFCHR or S_IFBLK is set on mode,\n",
      "        device defines the newly created device special file (probably using\n",
      "        os.makedev()).  Otherwise device is ignored.\n",
      "        \n",
      "        If dir_fd is not None, it should be a file descriptor open to a directory,\n",
      "          and path should be relative; path will then be relative to that directory.\n",
      "        dir_fd may not be implemented on your platform.\n",
      "          If it is unavailable, using it will raise a NotImplementedError.\n",
      "    \n",
      "    nice(increment, /)\n",
      "        Add increment to the priority of process and return the new priority.\n",
      "    \n",
      "    open(path, flags, mode=511, *, dir_fd=None)\n",
      "        Open a file for low level IO.  Returns a file descriptor (integer).\n",
      "        \n",
      "        If dir_fd is not None, it should be a file descriptor open to a directory,\n",
      "          and path should be relative; path will then be relative to that directory.\n",
      "        dir_fd may not be implemented on your platform.\n",
      "          If it is unavailable, using it will raise a NotImplementedError.\n",
      "    \n",
      "    openpty()\n",
      "        Open a pseudo-terminal.\n",
      "        \n",
      "        Return a tuple of (master_fd, slave_fd) containing open file descriptors\n",
      "        for both the master and slave ends.\n",
      "    \n",
      "    pathconf(path, name)\n",
      "        Return the configuration limit name for the file or directory path.\n",
      "        \n",
      "        If there is no limit, return -1.\n",
      "        On some platforms, path may also be specified as an open file descriptor.\n",
      "          If this functionality is unavailable, using it raises an exception.\n",
      "    \n",
      "    pipe()\n",
      "        Create a pipe.\n",
      "        \n",
      "        Returns a tuple of two file descriptors:\n",
      "          (read_fd, write_fd)\n",
      "    \n",
      "    popen(cmd, mode='r', buffering=-1)\n",
      "        # Supply os.popen()\n",
      "    \n",
      "    posix_spawn(...)\n",
      "        Execute the program specified by path in a new process.\n",
      "        \n",
      "        path\n",
      "          Path of executable file.\n",
      "        argv\n",
      "          Tuple or list of strings.\n",
      "        env\n",
      "          Dictionary of strings mapping to strings.\n",
      "        file_actions\n",
      "          A sequence of file action tuples.\n",
      "        setpgroup\n",
      "          The pgroup to use with the POSIX_SPAWN_SETPGROUP flag.\n",
      "        resetids\n",
      "          If the value is `true` the POSIX_SPAWN_RESETIDS will be activated.\n",
      "        setsid\n",
      "          If the value is `true` the POSIX_SPAWN_SETSID or POSIX_SPAWN_SETSID_NP will be activated.\n",
      "        setsigmask\n",
      "          The sigmask to use with the POSIX_SPAWN_SETSIGMASK flag.\n",
      "        setsigdef\n",
      "          The sigmask to use with the POSIX_SPAWN_SETSIGDEF flag.\n",
      "        scheduler\n",
      "          A tuple with the scheduler policy (optional) and parameters.\n",
      "    \n",
      "    posix_spawnp(...)\n",
      "        Execute the program specified by path in a new process.\n",
      "        \n",
      "        path\n",
      "          Path of executable file.\n",
      "        argv\n",
      "          Tuple or list of strings.\n",
      "        env\n",
      "          Dictionary of strings mapping to strings.\n",
      "        file_actions\n",
      "          A sequence of file action tuples.\n",
      "        setpgroup\n",
      "          The pgroup to use with the POSIX_SPAWN_SETPGROUP flag.\n",
      "        resetids\n",
      "          If the value is `True` the POSIX_SPAWN_RESETIDS will be activated.\n",
      "        setsid\n",
      "          If the value is `True` the POSIX_SPAWN_SETSID or POSIX_SPAWN_SETSID_NP will be activated.\n",
      "        setsigmask\n",
      "          The sigmask to use with the POSIX_SPAWN_SETSIGMASK flag.\n",
      "        setsigdef\n",
      "          The sigmask to use with the POSIX_SPAWN_SETSIGDEF flag.\n",
      "        scheduler\n",
      "          A tuple with the scheduler policy (optional) and parameters.\n",
      "    \n",
      "    pread(fd, length, offset, /)\n",
      "        Read a number of bytes from a file descriptor starting at a particular offset.\n",
      "        \n",
      "        Read length bytes from file descriptor fd, starting at offset bytes from\n",
      "        the beginning of the file.  The file offset remains unchanged.\n",
      "    \n",
      "    putenv(name, value, /)\n",
      "        Change or add an environment variable.\n",
      "    \n",
      "    pwrite(fd, buffer, offset, /)\n",
      "        Write bytes to a file descriptor starting at a particular offset.\n",
      "        \n",
      "        Write buffer to fd, starting at offset bytes from the beginning of\n",
      "        the file.  Returns the number of bytes writte.  Does not change the\n",
      "        current file offset.\n",
      "    \n",
      "    read(fd, length, /)\n",
      "        Read from a file descriptor.  Returns a bytes object.\n",
      "    \n",
      "    readlink(path, *, dir_fd=None)\n",
      "        Return a string representing the path to which the symbolic link points.\n",
      "        \n",
      "        If dir_fd is not None, it should be a file descriptor open to a directory,\n",
      "        and path should be relative; path will then be relative to that directory.\n",
      "        \n",
      "        dir_fd may not be implemented on your platform.  If it is unavailable,\n",
      "        using it will raise a NotImplementedError.\n",
      "    \n",
      "    readv(fd, buffers, /)\n",
      "        Read from a file descriptor fd into an iterable of buffers.\n",
      "        \n",
      "        The buffers should be mutable buffers accepting bytes.\n",
      "        readv will transfer data into each buffer until it is full\n",
      "        and then move on to the next buffer in the sequence to hold\n",
      "        the rest of the data.\n",
      "        \n",
      "        readv returns the total number of bytes read,\n",
      "        which may be less than the total capacity of all the buffers.\n",
      "    \n",
      "    register_at_fork(...)\n",
      "        Register callables to be called when forking a new process.\n",
      "        \n",
      "          before\n",
      "            A callable to be called in the parent before the fork() syscall.\n",
      "          after_in_child\n",
      "            A callable to be called in the child after fork().\n",
      "          after_in_parent\n",
      "            A callable to be called in the parent after fork().\n",
      "        \n",
      "        'before' callbacks are called in reverse order.\n",
      "        'after_in_child' and 'after_in_parent' callbacks are called in order.\n",
      "    \n",
      "    remove(path, *, dir_fd=None)\n",
      "        Remove a file (same as unlink()).\n",
      "        \n",
      "        If dir_fd is not None, it should be a file descriptor open to a directory,\n",
      "          and path should be relative; path will then be relative to that directory.\n",
      "        dir_fd may not be implemented on your platform.\n",
      "          If it is unavailable, using it will raise a NotImplementedError.\n",
      "    \n",
      "    removedirs(name)\n",
      "        removedirs(name)\n",
      "        \n",
      "        Super-rmdir; remove a leaf directory and all empty intermediate\n",
      "        ones.  Works like rmdir except that, if the leaf directory is\n",
      "        successfully removed, directories corresponding to rightmost path\n",
      "        segments will be pruned away until either the whole path is\n",
      "        consumed or an error occurs.  Errors during this latter phase are\n",
      "        ignored -- they generally mean that a directory was not empty.\n",
      "    \n",
      "    rename(src, dst, *, src_dir_fd=None, dst_dir_fd=None)\n",
      "        Rename a file or directory.\n",
      "        \n",
      "        If either src_dir_fd or dst_dir_fd is not None, it should be a file\n",
      "          descriptor open to a directory, and the respective path string (src or dst)\n",
      "          should be relative; the path will then be relative to that directory.\n",
      "        src_dir_fd and dst_dir_fd, may not be implemented on your platform.\n",
      "          If they are unavailable, using them will raise a NotImplementedError.\n",
      "    \n",
      "    renames(old, new)\n",
      "        renames(old, new)\n",
      "        \n",
      "        Super-rename; create directories as necessary and delete any left\n",
      "        empty.  Works like rename, except creation of any intermediate\n",
      "        directories needed to make the new pathname good is attempted\n",
      "        first.  After the rename, directories corresponding to rightmost\n",
      "        path segments of the old name will be pruned until either the\n",
      "        whole path is consumed or a nonempty directory is found.\n",
      "        \n",
      "        Note: this function can fail with the new directory structure made\n",
      "        if you lack permissions needed to unlink the leaf directory or\n",
      "        file.\n",
      "    \n",
      "    replace(src, dst, *, src_dir_fd=None, dst_dir_fd=None)\n",
      "        Rename a file or directory, overwriting the destination.\n",
      "        \n",
      "        If either src_dir_fd or dst_dir_fd is not None, it should be a file\n",
      "          descriptor open to a directory, and the respective path string (src or dst)\n",
      "          should be relative; the path will then be relative to that directory.\n",
      "        src_dir_fd and dst_dir_fd, may not be implemented on your platform.\n",
      "          If they are unavailable, using them will raise a NotImplementedError.\n",
      "    \n",
      "    rmdir(path, *, dir_fd=None)\n",
      "        Remove a directory.\n",
      "        \n",
      "        If dir_fd is not None, it should be a file descriptor open to a directory,\n",
      "          and path should be relative; path will then be relative to that directory.\n",
      "        dir_fd may not be implemented on your platform.\n",
      "          If it is unavailable, using it will raise a NotImplementedError.\n",
      "    \n",
      "    scandir(path=None)\n",
      "        Return an iterator of DirEntry objects for given path.\n",
      "        \n",
      "        path can be specified as either str, bytes, or a path-like object.  If path\n",
      "        is bytes, the names of yielded DirEntry objects will also be bytes; in\n",
      "        all other circumstances they will be str.\n",
      "        \n",
      "        If path is None, uses the path='.'.\n",
      "    \n",
      "    sched_get_priority_max(policy)\n",
      "        Get the maximum scheduling priority for policy.\n",
      "    \n",
      "    sched_get_priority_min(policy)\n",
      "        Get the minimum scheduling priority for policy.\n",
      "    \n",
      "    sched_yield()\n",
      "        Voluntarily relinquish the CPU.\n",
      "    \n",
      "    sendfile(out_fd, in_fd, offset, count, headers=(), trailers=(), flags=0)\n",
      "        Copy count bytes from file descriptor in_fd to file descriptor out_fd.\n",
      "    \n",
      "    set_blocking(fd, blocking, /)\n",
      "        Set the blocking mode of the specified file descriptor.\n",
      "        \n",
      "        Set the O_NONBLOCK flag if blocking is False,\n",
      "        clear the O_NONBLOCK flag otherwise.\n",
      "    \n",
      "    set_inheritable(fd, inheritable, /)\n",
      "        Set the inheritable flag of the specified file descriptor.\n",
      "    \n",
      "    setegid(egid, /)\n",
      "        Set the current process's effective group id.\n",
      "    \n",
      "    seteuid(euid, /)\n",
      "        Set the current process's effective user id.\n",
      "    \n",
      "    setgid(gid, /)\n",
      "        Set the current process's group id.\n",
      "    \n",
      "    setgroups(groups, /)\n",
      "        Set the groups of the current process to list.\n",
      "    \n",
      "    setpgid(pid, pgrp, /)\n",
      "        Call the system call setpgid(pid, pgrp).\n",
      "    \n",
      "    setpgrp()\n",
      "        Make the current process the leader of its process group.\n",
      "    \n",
      "    setpriority(which, who, priority)\n",
      "        Set program scheduling priority.\n",
      "    \n",
      "    setregid(rgid, egid, /)\n",
      "        Set the current process's real and effective group ids.\n",
      "    \n",
      "    setreuid(ruid, euid, /)\n",
      "        Set the current process's real and effective user ids.\n",
      "    \n",
      "    setsid()\n",
      "        Call the system call setsid().\n",
      "    \n",
      "    setuid(uid, /)\n",
      "        Set the current process's user id.\n",
      "    \n",
      "    spawnl(mode, file, *args)\n",
      "        spawnl(mode, file, *args) -> integer\n",
      "        \n",
      "        Execute file with arguments from args in a subprocess.\n",
      "        If mode == P_NOWAIT return the pid of the process.\n",
      "        If mode == P_WAIT return the process's exit code if it exits normally;\n",
      "        otherwise return -SIG, where SIG is the signal that killed it.\n",
      "    \n",
      "    spawnle(mode, file, *args)\n",
      "        spawnle(mode, file, *args, env) -> integer\n",
      "        \n",
      "        Execute file with arguments from args in a subprocess with the\n",
      "        supplied environment.\n",
      "        If mode == P_NOWAIT return the pid of the process.\n",
      "        If mode == P_WAIT return the process's exit code if it exits normally;\n",
      "        otherwise return -SIG, where SIG is the signal that killed it.\n",
      "    \n",
      "    spawnlp(mode, file, *args)\n",
      "        spawnlp(mode, file, *args) -> integer\n",
      "        \n",
      "        Execute file (which is looked for along $PATH) with arguments from\n",
      "        args in a subprocess with the supplied environment.\n",
      "        If mode == P_NOWAIT return the pid of the process.\n",
      "        If mode == P_WAIT return the process's exit code if it exits normally;\n",
      "        otherwise return -SIG, where SIG is the signal that killed it.\n",
      "    \n",
      "    spawnlpe(mode, file, *args)\n",
      "        spawnlpe(mode, file, *args, env) -> integer\n",
      "        \n",
      "        Execute file (which is looked for along $PATH) with arguments from\n",
      "        args in a subprocess with the supplied environment.\n",
      "        If mode == P_NOWAIT return the pid of the process.\n",
      "        If mode == P_WAIT return the process's exit code if it exits normally;\n",
      "        otherwise return -SIG, where SIG is the signal that killed it.\n",
      "    \n",
      "    spawnv(mode, file, args)\n",
      "        spawnv(mode, file, args) -> integer\n",
      "        \n",
      "        Execute file with arguments from args in a subprocess.\n",
      "        If mode == P_NOWAIT return the pid of the process.\n",
      "        If mode == P_WAIT return the process's exit code if it exits normally;\n",
      "        otherwise return -SIG, where SIG is the signal that killed it.\n",
      "    \n",
      "    spawnve(mode, file, args, env)\n",
      "        spawnve(mode, file, args, env) -> integer\n",
      "        \n",
      "        Execute file with arguments from args in a subprocess with the\n",
      "        specified environment.\n",
      "        If mode == P_NOWAIT return the pid of the process.\n",
      "        If mode == P_WAIT return the process's exit code if it exits normally;\n",
      "        otherwise return -SIG, where SIG is the signal that killed it.\n",
      "    \n",
      "    spawnvp(mode, file, args)\n",
      "        spawnvp(mode, file, args) -> integer\n",
      "        \n",
      "        Execute file (which is looked for along $PATH) with arguments from\n",
      "        args in a subprocess.\n",
      "        If mode == P_NOWAIT return the pid of the process.\n",
      "        If mode == P_WAIT return the process's exit code if it exits normally;\n",
      "        otherwise return -SIG, where SIG is the signal that killed it.\n",
      "    \n",
      "    spawnvpe(mode, file, args, env)\n",
      "        spawnvpe(mode, file, args, env) -> integer\n",
      "        \n",
      "        Execute file (which is looked for along $PATH) with arguments from\n",
      "        args in a subprocess with the supplied environment.\n",
      "        If mode == P_NOWAIT return the pid of the process.\n",
      "        If mode == P_WAIT return the process's exit code if it exits normally;\n",
      "        otherwise return -SIG, where SIG is the signal that killed it.\n",
      "    \n",
      "    stat(path, *, dir_fd=None, follow_symlinks=True)\n",
      "        Perform a stat system call on the given path.\n",
      "        \n",
      "          path\n",
      "            Path to be examined; can be string, bytes, a path-like object or\n",
      "            open-file-descriptor int.\n",
      "          dir_fd\n",
      "            If not None, it should be a file descriptor open to a directory,\n",
      "            and path should be a relative string; path will then be relative to\n",
      "            that directory.\n",
      "          follow_symlinks\n",
      "            If False, and the last element of the path is a symbolic link,\n",
      "            stat will examine the symbolic link itself instead of the file\n",
      "            the link points to.\n",
      "        \n",
      "        dir_fd and follow_symlinks may not be implemented\n",
      "          on your platform.  If they are unavailable, using them will raise a\n",
      "          NotImplementedError.\n",
      "        \n",
      "        It's an error to use dir_fd or follow_symlinks when specifying path as\n",
      "          an open file descriptor.\n",
      "    \n",
      "    statvfs(path)\n",
      "        Perform a statvfs system call on the given path.\n",
      "        \n",
      "        path may always be specified as a string.\n",
      "        On some platforms, path may also be specified as an open file descriptor.\n",
      "          If this functionality is unavailable, using it raises an exception.\n",
      "    \n",
      "    strerror(code, /)\n",
      "        Translate an error code to a message string.\n",
      "    \n",
      "    symlink(src, dst, target_is_directory=False, *, dir_fd=None)\n",
      "        Create a symbolic link pointing to src named dst.\n",
      "        \n",
      "        target_is_directory is required on Windows if the target is to be\n",
      "          interpreted as a directory.  (On Windows, symlink requires\n",
      "          Windows 6.0 or greater, and raises a NotImplementedError otherwise.)\n",
      "          target_is_directory is ignored on non-Windows platforms.\n",
      "        \n",
      "        If dir_fd is not None, it should be a file descriptor open to a directory,\n",
      "          and path should be relative; path will then be relative to that directory.\n",
      "        dir_fd may not be implemented on your platform.\n",
      "          If it is unavailable, using it will raise a NotImplementedError.\n",
      "    \n",
      "    sync()\n",
      "        Force write of everything to disk.\n",
      "    \n",
      "    sysconf(name, /)\n",
      "        Return an integer-valued system configuration variable.\n",
      "    \n",
      "    system(command)\n",
      "        Execute the command in a subshell.\n",
      "    \n",
      "    tcgetpgrp(fd, /)\n",
      "        Return the process group associated with the terminal specified by fd.\n",
      "    \n",
      "    tcsetpgrp(fd, pgid, /)\n",
      "        Set the process group associated with the terminal specified by fd.\n",
      "    \n",
      "    times()\n",
      "        Return a collection containing process timing information.\n",
      "        \n",
      "        The object returned behaves like a named tuple with these fields:\n",
      "          (utime, stime, cutime, cstime, elapsed_time)\n",
      "        All fields are floating point numbers.\n",
      "    \n",
      "    truncate(path, length)\n",
      "        Truncate a file, specified by path, to a specific length.\n",
      "        \n",
      "        On some platforms, path may also be specified as an open file descriptor.\n",
      "          If this functionality is unavailable, using it raises an exception.\n",
      "    \n",
      "    ttyname(fd, /)\n",
      "        Return the name of the terminal device connected to 'fd'.\n",
      "        \n",
      "        fd\n",
      "          Integer file descriptor handle.\n",
      "    \n",
      "    umask(mask, /)\n",
      "        Set the current numeric umask and return the previous umask.\n",
      "    \n",
      "    uname()\n",
      "        Return an object identifying the current operating system.\n",
      "        \n",
      "        The object behaves like a named tuple with the following fields:\n",
      "          (sysname, nodename, release, version, machine)\n",
      "    \n",
      "    unlink(path, *, dir_fd=None)\n",
      "        Remove a file (same as remove()).\n",
      "        \n",
      "        If dir_fd is not None, it should be a file descriptor open to a directory,\n",
      "          and path should be relative; path will then be relative to that directory.\n",
      "        dir_fd may not be implemented on your platform.\n",
      "          If it is unavailable, using it will raise a NotImplementedError.\n",
      "    \n",
      "    unsetenv(name, /)\n",
      "        Delete an environment variable.\n",
      "    \n",
      "    urandom(size, /)\n",
      "        Return a bytes object containing random bytes suitable for cryptographic use.\n",
      "    \n",
      "    utime(...)\n",
      "        Set the access and modified time of path.\n",
      "        \n",
      "        path may always be specified as a string.\n",
      "        On some platforms, path may also be specified as an open file descriptor.\n",
      "          If this functionality is unavailable, using it raises an exception.\n",
      "        \n",
      "        If times is not None, it must be a tuple (atime, mtime);\n",
      "            atime and mtime should be expressed as float seconds since the epoch.\n",
      "        If ns is specified, it must be a tuple (atime_ns, mtime_ns);\n",
      "            atime_ns and mtime_ns should be expressed as integer nanoseconds\n",
      "            since the epoch.\n",
      "        If times is None and ns is unspecified, utime uses the current time.\n",
      "        Specifying tuples for both times and ns is an error.\n",
      "        \n",
      "        If dir_fd is not None, it should be a file descriptor open to a directory,\n",
      "          and path should be relative; path will then be relative to that directory.\n",
      "        If follow_symlinks is False, and the last element of the path is a symbolic\n",
      "          link, utime will modify the symbolic link itself instead of the file the\n",
      "          link points to.\n",
      "        It is an error to use dir_fd or follow_symlinks when specifying path\n",
      "          as an open file descriptor.\n",
      "        dir_fd and follow_symlinks may not be available on your platform.\n",
      "          If they are unavailable, using them will raise a NotImplementedError.\n",
      "    \n",
      "    wait()\n",
      "        Wait for completion of a child process.\n",
      "        \n",
      "        Returns a tuple of information about the child process:\n",
      "            (pid, status)\n",
      "    \n",
      "    wait3(options)\n",
      "        Wait for completion of a child process.\n",
      "        \n",
      "        Returns a tuple of information about the child process:\n",
      "          (pid, status, rusage)\n",
      "    \n",
      "    wait4(pid, options)\n",
      "        Wait for completion of a specific child process.\n",
      "        \n",
      "        Returns a tuple of information about the child process:\n",
      "          (pid, status, rusage)\n",
      "    \n",
      "    waitpid(pid, options, /)\n",
      "        Wait for completion of a given child process.\n",
      "        \n",
      "        Returns a tuple of information regarding the child process:\n",
      "            (pid, status)\n",
      "        \n",
      "        The options argument is ignored on Windows.\n",
      "    \n",
      "    waitstatus_to_exitcode(status)\n",
      "        Convert a wait status to an exit code.\n",
      "        \n",
      "        On Unix:\n",
      "        \n",
      "        * If WIFEXITED(status) is true, return WEXITSTATUS(status).\n",
      "        * If WIFSIGNALED(status) is true, return -WTERMSIG(status).\n",
      "        * Otherwise, raise a ValueError.\n",
      "        \n",
      "        On Windows, return status shifted right by 8 bits.\n",
      "        \n",
      "        On Unix, if the process is being traced or if waitpid() was called with\n",
      "        WUNTRACED option, the caller must first check if WIFSTOPPED(status) is true.\n",
      "        This function must not be called if WIFSTOPPED(status) is true.\n",
      "    \n",
      "    walk(top, topdown=True, onerror=None, followlinks=False)\n",
      "        Directory tree generator.\n",
      "        \n",
      "        For each directory in the directory tree rooted at top (including top\n",
      "        itself, but excluding '.' and '..'), yields a 3-tuple\n",
      "        \n",
      "            dirpath, dirnames, filenames\n",
      "        \n",
      "        dirpath is a string, the path to the directory.  dirnames is a list of\n",
      "        the names of the subdirectories in dirpath (excluding '.' and '..').\n",
      "        filenames is a list of the names of the non-directory files in dirpath.\n",
      "        Note that the names in the lists are just names, with no path components.\n",
      "        To get a full path (which begins with top) to a file or directory in\n",
      "        dirpath, do os.path.join(dirpath, name).\n",
      "        \n",
      "        If optional arg 'topdown' is true or not specified, the triple for a\n",
      "        directory is generated before the triples for any of its subdirectories\n",
      "        (directories are generated top down).  If topdown is false, the triple\n",
      "        for a directory is generated after the triples for all of its\n",
      "        subdirectories (directories are generated bottom up).\n",
      "        \n",
      "        When topdown is true, the caller can modify the dirnames list in-place\n",
      "        (e.g., via del or slice assignment), and walk will only recurse into the\n",
      "        subdirectories whose names remain in dirnames; this can be used to prune the\n",
      "        search, or to impose a specific order of visiting.  Modifying dirnames when\n",
      "        topdown is false has no effect on the behavior of os.walk(), since the\n",
      "        directories in dirnames have already been generated by the time dirnames\n",
      "        itself is generated. No matter the value of topdown, the list of\n",
      "        subdirectories is retrieved before the tuples for the directory and its\n",
      "        subdirectories are generated.\n",
      "        \n",
      "        By default errors from the os.scandir() call are ignored.  If\n",
      "        optional arg 'onerror' is specified, it should be a function; it\n",
      "        will be called with one argument, an OSError instance.  It can\n",
      "        report the error to continue with the walk, or raise the exception\n",
      "        to abort the walk.  Note that the filename is available as the\n",
      "        filename attribute of the exception object.\n",
      "        \n",
      "        By default, os.walk does not follow symbolic links to subdirectories on\n",
      "        systems that support them.  In order to get this functionality, set the\n",
      "        optional argument 'followlinks' to true.\n",
      "        \n",
      "        Caution:  if you pass a relative pathname for top, don't change the\n",
      "        current working directory between resumptions of walk.  walk never\n",
      "        changes the current directory, and assumes that the client doesn't\n",
      "        either.\n",
      "        \n",
      "        Example:\n",
      "        \n",
      "        import os\n",
      "        from os.path import join, getsize\n",
      "        for root, dirs, files in os.walk('python/Lib/email'):\n",
      "            print(root, \"consumes\", end=\"\")\n",
      "            print(sum(getsize(join(root, name)) for name in files), end=\"\")\n",
      "            print(\"bytes in\", len(files), \"non-directory files\")\n",
      "            if 'CVS' in dirs:\n",
      "                dirs.remove('CVS')  # don't visit CVS directories\n",
      "    \n",
      "    write(fd, data, /)\n",
      "        Write a bytes object to a file descriptor.\n",
      "    \n",
      "    writev(fd, buffers, /)\n",
      "        Iterate over buffers, and write the contents of each to a file descriptor.\n",
      "        \n",
      "        Returns the total number of bytes written.\n",
      "        buffers must be a sequence of bytes-like objects.\n",
      "\n",
      "DATA\n",
      "    CLD_CONTINUED = 6\n",
      "    CLD_DUMPED = 3\n",
      "    CLD_EXITED = 1\n",
      "    CLD_KILLED = 2\n",
      "    CLD_STOPPED = 5\n",
      "    CLD_TRAPPED = 4\n",
      "    EX_CANTCREAT = 73\n",
      "    EX_CONFIG = 78\n",
      "    EX_DATAERR = 65\n",
      "    EX_IOERR = 74\n",
      "    EX_NOHOST = 68\n",
      "    EX_NOINPUT = 66\n",
      "    EX_NOPERM = 77\n",
      "    EX_NOUSER = 67\n",
      "    EX_OK = 0\n",
      "    EX_OSERR = 71\n",
      "    EX_OSFILE = 72\n",
      "    EX_PROTOCOL = 76\n",
      "    EX_SOFTWARE = 70\n",
      "    EX_TEMPFAIL = 75\n",
      "    EX_UNAVAILABLE = 69\n",
      "    EX_USAGE = 64\n",
      "    F_LOCK = 1\n",
      "    F_OK = 0\n",
      "    F_TEST = 3\n",
      "    F_TLOCK = 2\n",
      "    F_ULOCK = 0\n",
      "    NGROUPS_MAX = 16\n",
      "    O_ACCMODE = 3\n",
      "    O_APPEND = 8\n",
      "    O_ASYNC = 64\n",
      "    O_CLOEXEC = 16777216\n",
      "    O_CREAT = 512\n",
      "    O_DIRECTORY = 1048576\n",
      "    O_DSYNC = 4194304\n",
      "    O_EXCL = 2048\n",
      "    O_EXLOCK = 32\n",
      "    O_NDELAY = 4\n",
      "    O_NOCTTY = 131072\n",
      "    O_NOFOLLOW = 256\n",
      "    O_NONBLOCK = 4\n",
      "    O_RDONLY = 0\n",
      "    O_RDWR = 2\n",
      "    O_SHLOCK = 16\n",
      "    O_SYNC = 128\n",
      "    O_TRUNC = 1024\n",
      "    O_WRONLY = 1\n",
      "    POSIX_SPAWN_CLOSE = 1\n",
      "    POSIX_SPAWN_DUP2 = 2\n",
      "    POSIX_SPAWN_OPEN = 0\n",
      "    PRIO_PGRP = 1\n",
      "    PRIO_PROCESS = 0\n",
      "    PRIO_USER = 2\n",
      "    P_ALL = 0\n",
      "    P_NOWAIT = 1\n",
      "    P_NOWAITO = 1\n",
      "    P_PGID = 2\n",
      "    P_PID = 1\n",
      "    P_WAIT = 0\n",
      "    RTLD_GLOBAL = 8\n",
      "    RTLD_LAZY = 1\n",
      "    RTLD_LOCAL = 4\n",
      "    RTLD_NODELETE = 128\n",
      "    RTLD_NOLOAD = 16\n",
      "    RTLD_NOW = 2\n",
      "    R_OK = 4\n",
      "    SCHED_FIFO = 4\n",
      "    SCHED_OTHER = 1\n",
      "    SCHED_RR = 2\n",
      "    SEEK_CUR = 1\n",
      "    SEEK_END = 2\n",
      "    SEEK_SET = 0\n",
      "    ST_NOSUID = 2\n",
      "    ST_RDONLY = 1\n",
      "    TMP_MAX = 308915776\n",
      "    WCONTINUED = 16\n",
      "    WEXITED = 4\n",
      "    WNOHANG = 1\n",
      "    WNOWAIT = 32\n",
      "    WSTOPPED = 8\n",
      "    WUNTRACED = 2\n",
      "    W_OK = 2\n",
      "    X_OK = 1\n",
      "    __all__ = ['altsep', 'curdir', 'pardir', 'sep', 'pathsep', 'linesep', ...\n",
      "    altsep = None\n",
      "    confstr_names = {'CS_PATH': 1, 'CS_XBS5_ILP32_OFF32_CFLAGS': 20, 'CS_X...\n",
      "    curdir = '.'\n",
      "    defpath = '/bin:/usr/bin'\n",
      "    devnull = '/dev/null'\n",
      "    environ = environ({'SHELL': '/bin/zsh', 'TMPDIR': '/var/fo...D': 'modu...\n",
      "    environb = environ({b'SHELL': b'/bin/zsh', b'TMPDIR': b'/va...': b'mod...\n",
      "    extsep = '.'\n",
      "    linesep = '\\n'\n",
      "    name = 'posix'\n",
      "    pardir = '..'\n",
      "    pathconf_names = {'PC_ALLOC_SIZE_MIN': 16, 'PC_ASYNC_IO': 17, 'PC_CHOW...\n",
      "    pathsep = ':'\n",
      "    sep = '/'\n",
      "    supports_bytes_environ = True\n",
      "    sysconf_names = {'SC_2_CHAR_TERM': 20, 'SC_2_C_BIND': 18, 'SC_2_C_DEV'...\n",
      "\n",
      "FILE\n",
      "    /Users/mba_yuboxu/opt/anaconda3/lib/python3.9/os.py\n",
      "\n",
      "\n"
     ]
    }
   ],
   "source": [
    "help(os)"
   ]
  },
  {
   "cell_type": "markdown",
   "id": "46972bb3-b3c7-4b95-8835-13ebdd1620d1",
   "metadata": {},
   "source": [
    "针对日常的文件和目录管理任务，:mod:shutil 模块提供了一个易于使用的高级接口:"
   ]
  },
  {
   "cell_type": "code",
   "execution_count": 91,
   "id": "5eed4ca4-5122-444f-a21c-ace66bff2763",
   "metadata": {},
   "outputs": [],
   "source": [
    "import shutil\n",
    "#shutil.copyfile('data.db', 'archive.db')\n",
    "#shutil.move('/build/executables', 'installdir')"
   ]
  },
  {
   "cell_type": "markdown",
   "id": "b95bd0b7-5290-4ffd-af4e-35e4168ef613",
   "metadata": {},
   "source": [
    "#### 文件通配符\n",
    "glob 模块提供了一个函数用于从目录通配符搜索中生成文件列表:"
   ]
  },
  {
   "cell_type": "code",
   "execution_count": 93,
   "id": "8a655380-e9d1-456b-a3a1-b6ba631f4829",
   "metadata": {},
   "outputs": [
    {
     "data": {
      "text/plain": [
       "['foo.txt', 'foo1.txt']"
      ]
     },
     "execution_count": 93,
     "metadata": {},
     "output_type": "execute_result"
    }
   ],
   "source": [
    "import glob\n",
    "glob.glob('*.py')\n",
    "glob.glob('*.txt')"
   ]
  },
  {
   "cell_type": "markdown",
   "id": "45d7eb7d-34e0-44f7-a990-1970c1a7bdd2",
   "metadata": {},
   "source": [
    "#### 命令行参数\n",
    "通用工具脚本经常调用命令行参数。这些命令行参数以链表形式存储于 sys 模块的 argv 变量。"
   ]
  },
  {
   "cell_type": "code",
   "execution_count": 94,
   "id": "0f07b1ed-8eb8-4a13-9d5d-10d1785996f8",
   "metadata": {},
   "outputs": [
    {
     "name": "stdout",
     "output_type": "stream",
     "text": [
      "['/Users/mba_yuboxu/opt/anaconda3/lib/python3.9/site-packages/ipykernel_launcher.py', '-f', '/Users/mba_yuboxu/Library/Jupyter/runtime/kernel-0778344d-a5a1-4d7f-90c8-4ee4de33c9a1.json']\n"
     ]
    }
   ],
   "source": [
    "import sys\n",
    "print(sys.argv)"
   ]
  },
  {
   "cell_type": "markdown",
   "id": "30097ee1-207b-4421-a131-295319f2bd44",
   "metadata": {},
   "source": [
    "#### 错误输出重定向和程序终止\n",
    "sys 还有 stdin，stdout 和 stderr 属性，即使在 stdout 被重定向时，后者也可以用于显示警告和错误信息。"
   ]
  },
  {
   "cell_type": "code",
   "execution_count": 95,
   "id": "9e75819d-8a7a-49f5-b4e1-ca1944aa8432",
   "metadata": {},
   "outputs": [
    {
     "name": "stderr",
     "output_type": "stream",
     "text": [
      "Warning, log file not found starting a new one\n"
     ]
    },
    {
     "data": {
      "text/plain": [
       "47"
      ]
     },
     "execution_count": 95,
     "metadata": {},
     "output_type": "execute_result"
    }
   ],
   "source": [
    "sys.stderr.write('Warning, log file not found starting a new one\\n')"
   ]
  },
  {
   "cell_type": "markdown",
   "id": "18150b53-5074-4091-a701-a7aea83c4a37",
   "metadata": {},
   "source": [
    "#### 字符串正则匹配\n",
    "re 模块为高级字符串处理提供了正则表达式工具。对于复杂的匹配和处理，正则表达式提供了简洁、优化的解决方案:"
   ]
  },
  {
   "cell_type": "code",
   "execution_count": 98,
   "id": "80047927-9d24-4925-8768-0c559d8b003b",
   "metadata": {},
   "outputs": [
    {
     "data": {
      "text/plain": [
       "['foot', 'fell', 'fastest']"
      ]
     },
     "execution_count": 98,
     "metadata": {},
     "output_type": "execute_result"
    }
   ],
   "source": [
    "import re\n",
    "re.findall(r'\\bf[a-z]*', 'which foot or hand fell fastest')"
   ]
  },
  {
   "cell_type": "code",
   "execution_count": 99,
   "id": "d7bd99d4-e29b-407b-a555-0144bd41c501",
   "metadata": {},
   "outputs": [
    {
     "data": {
      "text/plain": [
       "'cat in the hat'"
      ]
     },
     "execution_count": 99,
     "metadata": {},
     "output_type": "execute_result"
    }
   ],
   "source": [
    "re.sub(r'(\\b[a-z]+) \\1', r'\\1', 'cat in the the hat')"
   ]
  },
  {
   "cell_type": "markdown",
   "id": "c07248a8-07b3-4c2d-9080-a15df6867f3a",
   "metadata": {},
   "source": [
    "如果只需要简单的功能，应该首先考虑字符串方法，因为它们非常简单，易于阅读和调试:"
   ]
  },
  {
   "cell_type": "code",
   "execution_count": 100,
   "id": "0c9f4751-7220-4c35-bf6b-43b2d1b5f2ba",
   "metadata": {},
   "outputs": [
    {
     "data": {
      "text/plain": [
       "'tea for two'"
      ]
     },
     "execution_count": 100,
     "metadata": {},
     "output_type": "execute_result"
    }
   ],
   "source": [
    "'tea for too'.replace('too', 'two')"
   ]
  },
  {
   "cell_type": "markdown",
   "id": "3fe765f4-08c2-408d-bd02-cc9ce28c304e",
   "metadata": {},
   "source": [
    "#### 数学\n",
    "math 模块为浮点运算提供了对底层 C 函数库的访问:"
   ]
  },
  {
   "cell_type": "code",
   "execution_count": 102,
   "id": "2f67e552-9b90-4135-bb8b-bcee540daed1",
   "metadata": {},
   "outputs": [
    {
     "name": "stdout",
     "output_type": "stream",
     "text": [
      "0.7071067811865476\n",
      "10.0\n"
     ]
    }
   ],
   "source": [
    "import math\n",
    "print(math.cos(math.pi / 4))\n",
    "print(math.log(1024, 2))"
   ]
  },
  {
   "cell_type": "markdown",
   "id": "c484669e-f3d1-4516-a85b-34036179afed",
   "metadata": {},
   "source": [
    "random 提供了生成随机数的工具。"
   ]
  },
  {
   "cell_type": "code",
   "execution_count": 105,
   "id": "f8d2b7fb-d23f-4c56-b40b-150b8c3fa0c9",
   "metadata": {},
   "outputs": [
    {
     "name": "stdout",
     "output_type": "stream",
     "text": [
      "banana\n",
      "[71, 35, 56, 4, 18, 88, 23, 76, 48, 16]\n",
      "0.82216515348586\n",
      "3\n"
     ]
    }
   ],
   "source": [
    "import random\n",
    "print(random.choice(['apple', 'pear', 'banana']))\n",
    "print(random.sample(range(100), 10))\n",
    "print(random.random())\n",
    "print(random.randrange(6))"
   ]
  },
  {
   "cell_type": "markdown",
   "id": "85a4fdc6-2c58-4ca3-a357-22763581c631",
   "metadata": {},
   "source": [
    "#### 访问互联网\n",
    "有几个模块用于访问互联网以及处理网络通信协议。其中最简单的两个是用于处理从 urls 接收的数据的 urllib.request 以及用于发送电子邮件的 smtplib:"
   ]
  },
  {
   "cell_type": "markdown",
   "id": "502e0e7a-79e2-49f4-ac13-9a3ddf01ba25",
   "metadata": {},
   "source": [
    "#### 日期和时间\n",
    "datetime 模块为日期和时间处理同时提供了简单和复杂的方法。\n",
    "\n",
    "支持日期和时间算法的同时，实现的重点放在更有效的处理和格式化输出。"
   ]
  },
  {
   "cell_type": "code",
   "execution_count": 107,
   "id": "8a1b198e-d592-4c3d-9db7-c7af13c9d609",
   "metadata": {},
   "outputs": [
    {
     "name": "stdout",
     "output_type": "stream",
     "text": [
      "2024-05-12 00:31:22.813617\n",
      "2024-05-12\n",
      "2024-05-12 00:31:22\n"
     ]
    }
   ],
   "source": [
    "import datetime\n",
    "\n",
    "#获取当前日期和时间\n",
    "current_datetime = datetime.datetime.now()\n",
    "print(current_datetime)\n",
    "\n",
    "# 获取当前日期\n",
    "current_date = datetime.date.today()\n",
    "print(current_date)\n",
    "\n",
    "# 格式化日期\n",
    "formatted_datetime = current_datetime.strftime(\"%Y-%m-%d %H:%M:%S\")\n",
    "print(formatted_datetime)"
   ]
  },
  {
   "cell_type": "markdown",
   "id": "7d808e89-17f1-4a76-a560-48fa11772bc9",
   "metadata": {},
   "source": [
    "#### 数据压缩\n",
    "以下模块直接支持通用的数据打包和压缩格式：zlib，gzip，bz2，zipfile，以及 tarfile。"
   ]
  },
  {
   "cell_type": "code",
   "execution_count": 108,
   "id": "c43787d5-c976-430b-b0dc-dd1541239b3d",
   "metadata": {},
   "outputs": [
    {
     "data": {
      "text/plain": [
       "41"
      ]
     },
     "execution_count": 108,
     "metadata": {},
     "output_type": "execute_result"
    }
   ],
   "source": [
    "import zlib\n",
    "s = b'witch which has which witches wrist watch'\n",
    "len(s)"
   ]
  },
  {
   "cell_type": "code",
   "execution_count": 109,
   "id": "617c4eee-d04e-4143-b826-0fa31b088f3a",
   "metadata": {},
   "outputs": [
    {
     "data": {
      "text/plain": [
       "37"
      ]
     },
     "execution_count": 109,
     "metadata": {},
     "output_type": "execute_result"
    }
   ],
   "source": [
    "t = zlib.compress(s)\n",
    "len(t)"
   ]
  },
  {
   "cell_type": "code",
   "execution_count": 110,
   "id": "79266ed1-5e04-4bae-9e02-0d18508bd91f",
   "metadata": {},
   "outputs": [
    {
     "data": {
      "text/plain": [
       "b'witch which has which witches wrist watch'"
      ]
     },
     "execution_count": 110,
     "metadata": {},
     "output_type": "execute_result"
    }
   ],
   "source": [
    "zlib.decompress(t)"
   ]
  },
  {
   "cell_type": "code",
   "execution_count": 111,
   "id": "640f9ebe-779a-4f75-b9b6-ee114d69ebc2",
   "metadata": {},
   "outputs": [
    {
     "data": {
      "text/plain": [
       "226805979"
      ]
     },
     "execution_count": 111,
     "metadata": {},
     "output_type": "execute_result"
    }
   ],
   "source": [
    "zlib.crc32(s)"
   ]
  },
  {
   "cell_type": "markdown",
   "id": "234a35d3-a46b-4331-aa53-314344ef773b",
   "metadata": {},
   "source": [
    "#### 性能度量\n",
    "有些用户对了解解决同一问题的不同方法之间的性能差异很感兴趣。Python 提供了一个度量工具，为这些问题提供了直接答案。\n",
    "\n",
    "例如，使用元组封装和拆封来交换元素看起来要比使用传统的方法要诱人的多,timeit 证明了现代的方法更快一些。"
   ]
  },
  {
   "cell_type": "code",
   "execution_count": 113,
   "id": "10dcadab-df7d-44fa-a163-b7e746093b4d",
   "metadata": {},
   "outputs": [
    {
     "name": "stdout",
     "output_type": "stream",
     "text": [
      "0.05266666600073222\n",
      "0.043076375004602596\n"
     ]
    }
   ],
   "source": [
    "from timeit import Timer\n",
    "print(Timer('t=a; a=b; b=t', 'a=1; b=2').timeit())\n",
    "print(Timer('a,b = b,a', 'a=1; b=2').timeit())"
   ]
  },
  {
   "cell_type": "markdown",
   "id": "8ae1cec5-0d2d-470b-b6db-aad7fae74091",
   "metadata": {},
   "source": [
    "相对于 timeit 的细粒度，:mod:profile 和 pstats 模块提供了针对更大代码块的时间度量工具。"
   ]
  },
  {
   "cell_type": "markdown",
   "id": "a030070b-0471-4cc9-826c-ce60dab23044",
   "metadata": {},
   "source": [
    "#### 测试模块\n",
    "开发高质量软件的方法之一是为每一个函数开发测试代码，并且在开发过程中经常进行测试\n",
    "\n",
    "doctest模块提供了一个工具，扫描模块并根据程序中内嵌的文档字符串执行测试。\n",
    "\n",
    "测试构造如同简单的将它的输出结果剪切并粘贴到文档字符串中。\n",
    "\n",
    "通过用户提供的例子，它强化了文档，允许 doctest 模块确认代码的结果是否与文档一致:"
   ]
  },
  {
   "cell_type": "code",
   "execution_count": 114,
   "id": "1bbadfd4-5684-407b-9086-1660d2c2301a",
   "metadata": {},
   "outputs": [
    {
     "name": "stdout",
     "output_type": "stream",
     "text": [
      "**********************************************************************\n",
      "File \"__main__\", line 4, in __main__.average\n",
      "Failed example:\n",
      "    print(average([20, 30, 70]))\n",
      "Exception raised:\n",
      "    Traceback (most recent call last):\n",
      "      File \"/Users/mba_yuboxu/opt/anaconda3/lib/python3.9/doctest.py\", line 1334, in __run\n",
      "        exec(compile(example.source, filename, \"single\",\n",
      "      File \"<doctest __main__.average[0]>\", line 1, in <module>\n",
      "        print(average([20, 30, 70]))\n",
      "      File \"/var/folders/qp/c3v67sq90b5c5m0yrkst1r440000gn/T/ipykernel_43114/4057581739.py\", line 7, in average\n",
      "        return sum(values) / len(values)\n",
      "    TypeError: sum() missing 1 required positional argument: 'arg2'\n",
      "**********************************************************************\n",
      "1 items had failures:\n",
      "   1 of   1 in __main__.average\n",
      "***Test Failed*** 1 failures.\n"
     ]
    },
    {
     "data": {
      "text/plain": [
       "TestResults(failed=1, attempted=1)"
      ]
     },
     "execution_count": 114,
     "metadata": {},
     "output_type": "execute_result"
    }
   ],
   "source": [
    "def average(values):\n",
    "    \"\"\"Computes the arithmetic mean of a list of numbers.\n",
    "\n",
    "    >>> print(average([20, 30, 70]))\n",
    "    40.0\n",
    "    \"\"\"\n",
    "    return sum(values) / len(values)\n",
    "\n",
    "import doctest\n",
    "doctest.testmod()   # 自动验证嵌入测试"
   ]
  },
  {
   "cell_type": "code",
   "execution_count": 115,
   "id": "9352c67b-642a-43de-9b78-ed617305e97f",
   "metadata": {},
   "outputs": [
    {
     "name": "stderr",
     "output_type": "stream",
     "text": [
      "E\n",
      "======================================================================\n",
      "ERROR: /Users/mba_yuboxu/Library/Jupyter/runtime/kernel-0778344d-a5a1-4d7f-90c8-4ee4de33c9a1 (unittest.loader._FailedTest)\n",
      "----------------------------------------------------------------------\n",
      "AttributeError: module '__main__' has no attribute '/Users/mba_yuboxu/Library/Jupyter/runtime/kernel-0778344d-a5a1-4d7f-90c8-4ee4de33c9a1'\n",
      "\n",
      "----------------------------------------------------------------------\n",
      "Ran 1 test in 0.001s\n",
      "\n",
      "FAILED (errors=1)\n"
     ]
    },
    {
     "ename": "SystemExit",
     "evalue": "True",
     "output_type": "error",
     "traceback": [
      "An exception has occurred, use %tb to see the full traceback.\n",
      "\u001b[0;31mSystemExit\u001b[0m\u001b[0;31m:\u001b[0m True\n"
     ]
    },
    {
     "name": "stderr",
     "output_type": "stream",
     "text": [
      "/Users/mba_yuboxu/opt/anaconda3/lib/python3.9/site-packages/IPython/core/interactiveshell.py:3377: UserWarning: To exit: use 'exit', 'quit', or Ctrl-D.\n",
      "  warn(\"To exit: use 'exit', 'quit', or Ctrl-D.\", stacklevel=1)\n"
     ]
    }
   ],
   "source": [
    "import unittest\n",
    "\n",
    "class TestStatisticalFunctions(unittest.TestCase):\n",
    "\n",
    "    def test_average(self):\n",
    "        self.assertEqual(average([20, 30, 70]), 40.0)\n",
    "        self.assertEqual(round(average([1, 5, 7]), 1), 4.3)\n",
    "        self.assertRaises(ZeroDivisionError, average, [])\n",
    "        self.assertRaises(TypeError, average, 20, 30, 70)\n",
    "\n",
    "unittest.main() # Calling from the command line invokes all tests"
   ]
  },
  {
   "cell_type": "markdown",
   "id": "4f024fe8-eaa1-44c8-921d-2230a5e0f4c6",
   "metadata": {},
   "source": [
    "### 虚拟环境与包"
   ]
  },
  {
   "cell_type": "code",
   "execution_count": null,
   "id": "270cf5e3-db13-4501-988b-e480baacd8ab",
   "metadata": {},
   "outputs": [],
   "source": []
  },
  {
   "cell_type": "code",
   "execution_count": null,
   "id": "a61adedd-638a-4eb9-ac2f-b427bb07b7e1",
   "metadata": {},
   "outputs": [],
   "source": []
  }
 ],
 "metadata": {
  "kernelspec": {
   "display_name": "Python 3 (ipykernel)",
   "language": "python",
   "name": "python3"
  },
  "language_info": {
   "codemirror_mode": {
    "name": "ipython",
    "version": 3
   },
   "file_extension": ".py",
   "mimetype": "text/x-python",
   "name": "python",
   "nbconvert_exporter": "python",
   "pygments_lexer": "ipython3",
   "version": "3.9.12"
  }
 },
 "nbformat": 4,
 "nbformat_minor": 5
}
